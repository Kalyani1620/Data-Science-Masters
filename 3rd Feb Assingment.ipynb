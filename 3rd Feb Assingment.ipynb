{
 "cells": [
  {
   "cell_type": "markdown",
   "id": "a5e34f27-b61a-4730-aeb8-a700710b06a3",
   "metadata": {},
   "source": [
    "#### Q1. Which keyword is used to create a function? Create a function to return a list of odd numbers in the range of 1 to 25."
   ]
  },
  {
   "cell_type": "code",
   "execution_count": 1,
   "id": "ea76521f-6710-4e9c-a2eb-f5b9dc0a7803",
   "metadata": {},
   "outputs": [
    {
     "name": "stdout",
     "output_type": "stream",
     "text": [
      "1 3 5 7 9 11 13 15 17 19 21 23 "
     ]
    }
   ],
   "source": [
    "# defining function for getting odd  numbers\n",
    "def test():\n",
    "    for num in range(1,25):\n",
    "        if num%2!=0:\n",
    "            print(num,end=\" \")\n",
    "            \n",
    "# Now calling the defined function\n",
    "test()"
   ]
  },
  {
   "cell_type": "markdown",
   "id": "fc32bba7-adc2-438a-b864-78f5ae3cebd6",
   "metadata": {},
   "source": [
    "***\n",
    "#### Q2. Why *args and **kwargs is used in some functions? Create a function each for *args and **kwargs to demonstrate their use."
   ]
  },
  {
   "cell_type": "markdown",
   "id": "1da3171f-c7ad-4a51-b701-1aac4605b8c7",
   "metadata": {},
   "source": [
    "* When programming, you may not be aware of the possible use cases of your code, and may want to offer more options for future programmers working with the module, or for users interacting with the code. We can pass a variable number of arguments to a function by using *args and **kwargs in our code.\n",
    "* For example *args"
   ]
  },
  {
   "cell_type": "code",
   "execution_count": 5,
   "id": "83ab69c6-1e5c-4b29-ad3d-960b67e30f21",
   "metadata": {},
   "outputs": [
    {
     "name": "stdout",
     "output_type": "stream",
     "text": [
      "my\n",
      "name\n",
      "is\n",
      "Kalyani\n"
     ]
    }
   ],
   "source": [
    "def test(*args):\n",
    "    for arg in args:\n",
    "        print(arg)\n",
    " \n",
    "test('my', 'name', 'is', 'Kalyani')"
   ]
  },
  {
   "cell_type": "markdown",
   "id": "0df89676-d22c-4167-a94e-ec868927ee13",
   "metadata": {},
   "source": [
    "* For example **kwargs"
   ]
  },
  {
   "cell_type": "code",
   "execution_count": 2,
   "id": "60cc9ea9-6683-42e7-869e-f40df119ad75",
   "metadata": {},
   "outputs": [
    {
     "name": "stdout",
     "output_type": "stream",
     "text": [
      "arg1: Kalyani\n",
      "arg2: Santosh\n",
      "arg3: Kalyani\n"
     ]
    }
   ],
   "source": [
    "def test(arg1, arg2, arg3):\n",
    "    print(\"arg1:\", arg1)\n",
    "    print(\"arg2:\", arg2)\n",
    "    print(\"arg3:\", arg3)\n",
    " \n",
    " \n",
    "# Now we can use *args or **kwargs to\n",
    "# pass arguments to this function :\n",
    "\n",
    "kwargs = {\"arg1\": \"Kalyani\", \"arg2\": \"Santosh\", \"arg3\": \"Kalyani\"}\n",
    "test(**kwargs)"
   ]
  },
  {
   "cell_type": "markdown",
   "id": "2dca476a-78c4-48e5-94a0-d565f6a69884",
   "metadata": {},
   "source": [
    "***\n",
    "#### Q3. What is an iterator in python? Name the method used to initialise the iterator object and the method used for iteration. Use these methods to print the first five elements of the given list [2, 4, 6, 8, 10, 12, 14, 16,18, 20]."
   ]
  },
  {
   "cell_type": "markdown",
   "id": "16b49a84-a153-415f-9f73-6c15a3f6fff0",
   "metadata": {},
   "source": [
    "* Iterator in Python is an object that is used to iterate over iterable objects like lists, tuples, dicts, and sets. The iterator object is initialized using the iter() method. It uses the next() method for iteration_ \n",
    "\n",
    "1. **iter__()** : The iter() method is called for the initialization of an iterator. This returns an iterator object\n",
    "\n",
    "2. **__next__()**: The next method returns the next value for the iterable. When we use a for loop to traverse any iterable object, internally it uses the iter() method to get an iterator object, which further uses the next() method to iterate over. This method raises a StopIteration to signal the end of the iteration."
   ]
  },
  {
   "cell_type": "code",
   "execution_count": 11,
   "id": "bc9d3163-04b9-4fcd-b911-989f2e609c79",
   "metadata": {},
   "outputs": [
    {
     "name": "stdout",
     "output_type": "stream",
     "text": [
      "2\n",
      "4\n",
      "6\n",
      "8\n",
      "10\n"
     ]
    }
   ],
   "source": [
    "mylist = iter([2, 4, 6, 8, 10, 12, 14, 16,18,20])\n",
    "x = next(mylist)\n",
    "print(x)\n",
    "x = next(mylist)\n",
    "print(x)\n",
    "x = next(mylist)\n",
    "print(x)\n",
    "x = next(mylist)\n",
    "print(x)\n",
    "x = next(mylist)\n",
    "print(x)"
   ]
  },
  {
   "cell_type": "markdown",
   "id": "7c84f1b4-8e7f-4c24-acd7-d2ec2ab8619f",
   "metadata": {},
   "source": [
    "***\n",
    "#### Q4. What is a generator function in python? Why yield keyword is used? Give an example of a generator function."
   ]
  },
  {
   "cell_type": "markdown",
   "id": "aad4960c-49e2-487a-b0d4-013b1791472c",
   "metadata": {},
   "source": [
    "* In Python, a generator is a function that returns an iterator that produces a sequence of values when iterated over.\n",
    "* The Yield keyword in Python is similar to a return statement used for returning values or objects in Python."
   ]
  },
  {
   "cell_type": "code",
   "execution_count": 22,
   "id": "ce83ee87-d6fc-4f4c-8a0f-ffa2a9f95324",
   "metadata": {},
   "outputs": [
    {
     "name": "stdout",
     "output_type": "stream",
     "text": [
      "0\n",
      "2\n",
      "4\n",
      "6\n",
      "8\n"
     ]
    }
   ],
   "source": [
    "# Example of genrator function\n",
    "\n",
    "def simple():  \n",
    "    for i in range(10):  \n",
    "        if(i%2==0):  \n",
    "             yield i  \n",
    "  \n",
    "#Successive Function call using for loop  \n",
    "for i in simple():  \n",
    "    print(i)  \n"
   ]
  },
  {
   "cell_type": "markdown",
   "id": "dbbfb54f-fe98-4cbe-8933-dcc541d2efd6",
   "metadata": {},
   "source": [
    "***\n",
    "#### Q5. Create a generator function for prime numbers less than 1000. Use the next() method to print the first 20 prime numbers."
   ]
  },
  {
   "cell_type": "code",
   "execution_count": 8,
   "id": "8a8077d5-5304-4bb7-9244-fbe59bc8c3b4",
   "metadata": {},
   "outputs": [
    {
     "name": "stdout",
     "output_type": "stream",
     "text": [
      "First 20 Prime numbers are:\n",
      "2\n",
      "3\n",
      "5\n",
      "7\n",
      "11\n",
      "13\n",
      "17\n",
      "19\n",
      "23\n",
      "29\n",
      "31\n",
      "37\n",
      "41\n",
      "43\n",
      "47\n",
      "53\n",
      "59\n",
      "61\n",
      "67\n",
      "71\n"
     ]
    }
   ],
   "source": [
    "print(\"First 20 Prime numbers are:\")\n",
    "ulmt=73;\n",
    "for num in range(ulmt):\n",
    "   # prime numbers are greater than 1\n",
    "   if num > 1:\n",
    "       for i in range(2,num):\n",
    "           if (num % i) == 0:\n",
    "               break\n",
    "       else:\n",
    "           print(num)"
   ]
  },
  {
   "cell_type": "markdown",
   "id": "5057b0b6-42b8-4d4b-9534-4a0e52fe0330",
   "metadata": {},
   "source": [
    "***"
   ]
  }
 ],
 "metadata": {
  "kernelspec": {
   "display_name": "Python 3 (ipykernel)",
   "language": "python",
   "name": "python3"
  },
  "language_info": {
   "codemirror_mode": {
    "name": "ipython",
    "version": 3
   },
   "file_extension": ".py",
   "mimetype": "text/x-python",
   "name": "python",
   "nbconvert_exporter": "python",
   "pygments_lexer": "ipython3",
   "version": "3.10.8"
  }
 },
 "nbformat": 4,
 "nbformat_minor": 5
}
