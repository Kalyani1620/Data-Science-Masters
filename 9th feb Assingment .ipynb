{
 "cells": [
  {
   "cell_type": "markdown",
   "id": "3603d264-45fc-461b-b637-0c2272386c0d",
   "metadata": {},
   "source": [
    "#### Q.1 Create a vehicle class with an init method having instance variables as name_of_vehicle, max_speed and average_of_vehicle."
   ]
  },
  {
   "cell_type": "code",
   "execution_count": 7,
   "id": "6db723dd-15ee-4331-b015-989b89fd71f7",
   "metadata": {},
   "outputs": [],
   "source": [
    "class Vehical :\n",
    "    def __init__(self,name_vehical,max_speed,average_of_vehical):\n",
    "        self.name_vehical=name_vehical\n",
    "        self.max_speed=max_speed\n",
    "        self.average_of_vehical=average_of_vehical"
   ]
  },
  {
   "cell_type": "code",
   "execution_count": 8,
   "id": "ab2461c7-4582-461e-be93-b4a396516889",
   "metadata": {},
   "outputs": [],
   "source": [
    "obj = Vehical(\"Wagon R\",150,17)"
   ]
  },
  {
   "cell_type": "code",
   "execution_count": 10,
   "id": "dea88cdb-f249-42de-a798-86e056e2d507",
   "metadata": {},
   "outputs": [
    {
     "data": {
      "text/plain": [
       "150"
      ]
     },
     "execution_count": 10,
     "metadata": {},
     "output_type": "execute_result"
    }
   ],
   "source": [
    "obj.max_speed"
   ]
  },
  {
   "cell_type": "markdown",
   "id": "c8aa72ac-ae39-4b92-a0a3-d9c21c26cb05",
   "metadata": {},
   "source": [
    "***\n",
    "#### Q2. Create a child class car from the vehicle class created in Que 1, which will inherit the vehicle class. Create a method named seating_capacity which takes capacity as an argument and returns the name of the vehicle and its seating capacity."
   ]
  },
  {
   "cell_type": "code",
   "execution_count": 11,
   "id": "b6613013-cad1-416d-97ee-df49cae8bfea",
   "metadata": {},
   "outputs": [],
   "source": [
    "class Vehical :\n",
    "    def __init__(self,name_vehical,max_speed,average_of_vehical,seating_capacity):\n",
    "        self.name_vehical=name_vehical\n",
    "        self.max_speed=max_speed\n",
    "        self.average_of_vehical=average_of_vehical\n",
    "        self.seating_capacity= seating_capacity\n",
    "    "
   ]
  },
  {
   "cell_type": "code",
   "execution_count": 18,
   "id": "ad5ba945-e030-4671-9168-1645b9b9151f",
   "metadata": {},
   "outputs": [
    {
     "name": "stdout",
     "output_type": "stream",
     "text": [
      "Wagon R\n",
      "5\n"
     ]
    }
   ],
   "source": [
    "class car(Vehical):\n",
    "    pass\n",
    "obj=car(\"Wagon R\",150,17,5)\n",
    "\n",
    "print(obj.name_vehical)\n",
    "print(obj.seating_capacity)\n"
   ]
  },
  {
   "cell_type": "markdown",
   "id": "3c45f799-c5ad-44fe-9db5-755b95633a3d",
   "metadata": {},
   "source": [
    "***\n",
    "#### Q3. What is multiple inheritance? Write a python code to demonstrate multiple inheritance."
   ]
  },
  {
   "cell_type": "markdown",
   "id": "476c9cbb-a7b3-4c68-bf6b-5a77e417487f",
   "metadata": {},
   "source": [
    "* If a child class inherits from more than one class, i.e. this child class is derived from multiple classes, we call it multiple inheritance in Python.\n"
   ]
  },
  {
   "cell_type": "code",
   "execution_count": 19,
   "id": "7e250e44-2147-408e-99a4-9be759053310",
   "metadata": {},
   "outputs": [
    {
     "name": "stdout",
     "output_type": "stream",
     "text": [
      "In Class2\n"
     ]
    }
   ],
   "source": [
    "# Python Program to depict multiple inheritance\n",
    "# when method is overridden in both classes\n",
    "\n",
    "class Class1:\n",
    "\tdef m(self):\n",
    "\t\tprint(\"In Class1\")\n",
    "\t\n",
    "class Class2(Class1):\n",
    "\tdef m(self):\n",
    "\t\tprint(\"In Class2\")\n",
    "\n",
    "class Class3(Class1):\n",
    "\tdef m(self):\n",
    "\t\tprint(\"In Class3\")\n",
    "\t\t\n",
    "class Class4(Class2, Class3):\n",
    "\tpass\n",
    "\t\n",
    "obj = Class4()\n",
    "obj.m()\n"
   ]
  },
  {
   "cell_type": "markdown",
   "id": "cd431123-853e-451f-abad-319e98e4b07d",
   "metadata": {},
   "source": [
    "****\n",
    "#### Q4. What are getter and setter in python? Create a class and create a getter and a setter method in this class."
   ]
  },
  {
   "cell_type": "markdown",
   "id": "6dfd6014-3485-4f5c-87c1-1273d9db0d61",
   "metadata": {},
   "source": [
    "* Getter: A method that allows you to access an attribute in a given class. \n",
    "* Setter: A method that allows you to set or mutate the value of an attribute in a class."
   ]
  },
  {
   "cell_type": "code",
   "execution_count": 24,
   "id": "d9a41ce1-aa9a-4990-b00f-658dd2ca44a5",
   "metadata": {},
   "outputs": [
    {
     "name": "stdout",
     "output_type": "stream",
     "text": [
      "23\n",
      "23\n"
     ]
    }
   ],
   "source": [
    "# Python program showing a use\n",
    "# of get() and set() method in\n",
    "# normal function\n",
    "\n",
    "class Geek:\n",
    "\tdef __init__(self, age = 0):\n",
    "\t\tself._age = age\n",
    "\t\n",
    "\t# getter method\n",
    "\tdef get_age(self):\n",
    "\t\treturn self._age\n",
    "\t\n",
    "\t# setter method\n",
    "\tdef set_age(self, x):\n",
    "\t\tself._age = x\n",
    "\n",
    "raj = Geek()\n",
    "\n",
    "# setting the age using sette\n",
    "raj.set_age(23)\n",
    "\n",
    "# retrieving age using getter\n",
    "print(raj.get_age())\n",
    "\n",
    "print(raj._age)\n"
   ]
  },
  {
   "cell_type": "markdown",
   "id": "16cb4064-88d5-4351-a0de-1b30ef6aa274",
   "metadata": {},
   "source": [
    "***\n",
    "#### Q5.What is method overriding in python? Write a python code to demonstrate method overriding."
   ]
  },
  {
   "cell_type": "markdown",
   "id": "4bde8214-6d00-4947-87d3-aeac58261db9",
   "metadata": {},
   "source": [
    "* Method overriding is a feature of object-oriented programming languages where the subclass or child class can provide the program with specific characteristics or a specific implementation process of data provided that are already defined in the parent class or superclass.\n",
    "\n"
   ]
  },
  {
   "cell_type": "code",
   "execution_count": 27,
   "id": "addba23e-fe90-4fd0-a906-8753b9ff6af5",
   "metadata": {},
   "outputs": [
    {
     "name": "stdout",
     "output_type": "stream",
     "text": [
      "Inside Parent\n",
      "Inside Child\n"
     ]
    }
   ],
   "source": [
    "# Python program to demonstrate\n",
    "# method overriding\n",
    "\n",
    "\n",
    "class Parent():\n",
    "\t\n",
    "\n",
    "\tdef __init__(self):\n",
    "\t\tself.value = \"Inside Parent\"\n",
    "\t\t\n",
    "\tdef show(self):\n",
    "\t\tprint(self.value)\n",
    "\t\t\n",
    "class Child(Parent):\n",
    "\t\n",
    "\tdef __init__(self):\n",
    "\t\tself.value = \"Inside Child\"\n",
    "\t\t\n",
    "\n",
    "\tdef show(self):\n",
    "\t\tprint(self.value)\n",
    "\t\t\n",
    "\t\t\n",
    "obj1 = Parent()\n",
    "obj2 = Child()\n",
    "\n",
    "obj1.show()\n",
    "obj2.show()\n"
   ]
  },
  {
   "cell_type": "markdown",
   "id": "b874365a-7ca1-4250-b9c6-1a3f90b0fec0",
   "metadata": {},
   "source": [
    "****"
   ]
  },
  {
   "cell_type": "code",
   "execution_count": null,
   "id": "bb496efa-69f7-43ea-965f-03048b4c68d4",
   "metadata": {},
   "outputs": [],
   "source": []
  }
 ],
 "metadata": {
  "kernelspec": {
   "display_name": "Python 3 (ipykernel)",
   "language": "python",
   "name": "python3"
  },
  "language_info": {
   "codemirror_mode": {
    "name": "ipython",
    "version": 3
   },
   "file_extension": ".py",
   "mimetype": "text/x-python",
   "name": "python",
   "nbconvert_exporter": "python",
   "pygments_lexer": "ipython3",
   "version": "3.10.8"
  }
 },
 "nbformat": 4,
 "nbformat_minor": 5
}
