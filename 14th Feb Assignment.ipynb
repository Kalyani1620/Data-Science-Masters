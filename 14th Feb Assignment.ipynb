{
 "cells": [
  {
   "cell_type": "markdown",
   "id": "cab2a03a-101d-41ab-87f9-791675fc3aa2",
   "metadata": {},
   "source": [
    "### Q.1 What is multithreading in python? hy is it used? Name the module used to handle threads in python"
   ]
  },
  {
   "cell_type": "markdown",
   "id": "733d3d2a-8579-4aab-b866-4bd5bed922eb",
   "metadata": {},
   "source": [
    "* A thread is an entity within a process that can be scheduled for execution. Also, it is the smallest unit of processing that can be performed in an OS (Operating System). In simple words, a thread is a sequence of such instructions within a program that can be executed independently of other code. For simplicity, you can assume that a thread is simply a subset of a process! A thread contains all this information in a Thread Control Block (TCB).\n",
    "* Multithreading is defined as the ability of a processor to execute multiple threads concurrently.\n"
   ]
  },
  {
   "cell_type": "markdown",
   "id": "2e315ab4-ecd4-437c-a4ab-92567d34039b",
   "metadata": {},
   "source": [
    "***\n",
    "#### Q.2 Why threading module used? write the use of the following functions\n",
    "1. activeCount()\n",
    "2. currentThread()\n",
    "3. enumerate()"
   ]
  },
  {
   "cell_type": "markdown",
   "id": "5c5915a6-becc-4ea8-b0cf-2c49b8999ebc",
   "metadata": {},
   "source": [
    "Threading in python is used to run multiple threads (tasks, function calls) at the same time. Python threads are used in cases where the execution of a task involves some waiting. One example would be interaction with a service hosted on another computer, such as a webserver. Threading allows python to execute other code while waiting; this is easily simulated with the sleep function.\n",
    "\n",
    "### 1. threading.active_count()\n",
    "Return the number of Thread objects currently alive. The returned count is equal to the length of the list returned by enumerate().The function activeCount is a deprecated alias for this function.\n",
    "\n",
    "### 2. threading.current_thread()\n",
    "Return the current Thread object, corresponding to the caller’s thread of control. If the caller’s thread of control was not created through the threading module, a dummy thread object with limited functionality is returned.The function currentThread is a deprecated alias for this function.\n",
    "\n",
    "### 3. threading.enumerate()\n",
    "Return a list of all Thread objects currently active. The list includes daemonic threads and dummy thread objects created by current_thread(). It excludes terminated threads and threads that have not yet been started. However, the main thread is always part of the result, even when terminated."
   ]
  },
  {
   "cell_type": "markdown",
   "id": "f2e01b67-b079-44cc-ae60-a5dc663b03ca",
   "metadata": {},
   "source": [
    "***\n",
    "#### Q.3 Explain the following functions\n",
    "1. run()\n",
    "2. start()\n",
    "3. join()\n",
    "4. isAlive()"
   ]
  },
  {
   "cell_type": "markdown",
   "id": "329999c2-37ca-46e1-86f1-783ff5315698",
   "metadata": {},
   "source": [
    "### 1. run()\n",
    "* Method representing the thread’s activity. \n",
    "* You may override this method in a subclass. The standard run() method invokes the callable object passed to the object’s constructor as the target argument, if any, with positional and keyword arguments taken from the args and kwargs arguments, respectively. \n",
    "* Using list or tuple as the args argument which passed to the Thread could achieve the same effect.\n",
    "\n",
    "### 2. start()\n",
    "* Start the thread’s activity.\n",
    "* It must be called at most once per thread object. \n",
    "* It arranges for the object’s run() method to be invoked in a separate thread of control. \n",
    "* This method will raise a RuntimeError if called more than once on the same thread object.\n",
    "\n",
    "### 3. join()\n",
    "* Wait until the thread terminates.\n",
    "* This blocks the calling thread until the thread whose join() method is called terminates – either normally or through an unhandled exception – or until the optional timeout occurs.\n",
    "* When the timeout argument is present and not None, it should be a floating point number specifying a timeout for the operation in seconds (or fractions thereof). As join() always returns None, you must call is_alive() after join() to decide whether a timeout happened – if the thread is still alive, the join() call timed out.\n",
    "* When the timeout argument is not present or None, the operation will block until the thread terminates.\n",
    "* A thread can be joined many times.\n",
    "* join() raises a RuntimeError if an attempt is made to join the current thread as that would cause a deadlock. It is also an error to join() a thread before it has been started and attempts to do so raise the same exception.\n",
    "\n",
    "### 4. is_alive()\n",
    "* Return whether the thread is alive.\n",
    "* This method returns True just before the run() method starts until just after the run() method terminates. The module function enumerate() returns a list of all alive threads."
   ]
  },
  {
   "cell_type": "markdown",
   "id": "8f4eea69-c963-4936-8666-d6b488ad0614",
   "metadata": {},
   "source": [
    "***\n",
    "#### Q.4. Write a python program to create two threads. Thread one must print the list of squares and thread two must print the list of cubes"
   ]
  },
  {
   "cell_type": "code",
   "execution_count": 7,
   "id": "8f9f5da8-ec59-41e2-9742-d7db88cf1f91",
   "metadata": {},
   "outputs": [
    {
     "name": "stdout",
     "output_type": "stream",
     "text": [
      "Square: 100\n",
      "Cube: 1000\n",
      "Done!\n"
     ]
    }
   ],
   "source": [
    "# Python program for two threads\n",
    "\n",
    "import threading\n",
    "\n",
    "def print_cube(num):\n",
    "\tprint(\"Cube: {}\" .format(num * num * num))\n",
    "\n",
    "def print_square(num):\n",
    "\tprint(\"Square: {}\" .format(num * num))\n",
    "    \n",
    "if __name__ ==\"__main__\":\n",
    "\tt1 = threading.Thread(target=print_square, args=(10,))\n",
    "\tt2 = threading.Thread(target=print_cube, args=(10,))\n",
    "    \n",
    "\tt1.start()\n",
    "\tt2.start()\n",
    "\tt1.join()\n",
    "\tt2.join()\n",
    "    \n",
    "\tprint(\"Done!\")\n"
   ]
  },
  {
   "cell_type": "markdown",
   "id": "914da076-9e28-40de-9e02-15cb19440b8d",
   "metadata": {},
   "source": [
    "***\n",
    "#### Q.5. State advantages and disadvantages of multithreading"
   ]
  },
  {
   "cell_type": "markdown",
   "id": "61c4320d-aedb-463d-971b-ed4fcb469bf0",
   "metadata": {},
   "source": [
    "### Advantages of a Multithreaded/Multicontexted Application\n",
    "\n",
    "* Improved performance and concurrency\n",
    "For certain applications, performance and concurrency can be improved by using multithreading and multicontexting together. In other applications, performance can be unaffected or even degraded by using multithreading and multicontexting together. How performance is affected depends on your application.\n",
    "* Simplified coding of remote procedure calls and conversations\n",
    "In some applications it is easier to code different remote procedure calls and conversations in separate threads than to manage them from the same thread.\n",
    "* Simultaneous access to multiple applications\n",
    "Your BEA Tuxedo clients can be connected to more than one application at a time.\n",
    "* Reduced number of required servers\n",
    "Because one server can dispatch multiple service threads, the number of servers to start for your application is reduced. This capability for multiple dispatched threads is especially useful for conversational servers, which otherwise must be dedicated to one client for the entire duration of a conversation.\n",
    "\n",
    "### Disadvantages of a Multithreaded/Multicontexted Application\n",
    "\n",
    "* Difficulty of writing code\n",
    "\n",
    "Multithreaded and multicontexted applications are not easy to write. Only experienced programmers should undertake coding for these types of applications.\n",
    "\n",
    "* Difficulty of debugging\n",
    "\n",
    "It is much harder to replicate an error in a multithreaded or multicontexted application than it is to do so in a single-threaded, single-contexted application. As a result, it is more difficult, in the former case, to identify and verify root causes when errors occur.\n",
    "* Difficulty of managing concurrency\n",
    "\n",
    "The task of managing concurrency among threads is difficult and has the potential to introduce new problems into an application.\n",
    "* Difficulty of testing\n",
    "\n",
    "Testing a multithreaded application is more difficult than testing a single-threaded application because defects are often timing-related and more difficult to reproduce.\n",
    "* Difficulty of porting existing code\n",
    "\n",
    "Existing code often requires significant re-architecting to take advantage of multithreading and multicontexting. Programmers need to:\n",
    "1. Remove static variables\n",
    "2. Replace any function calls that are not thread-safe\n",
    "3. Replace any other code that is not thread-safe\n",
    "***"
   ]
  },
  {
   "cell_type": "markdown",
   "id": "8b24efe1-6b06-44c5-975a-db5d2270b5b5",
   "metadata": {},
   "source": [
    "### Q.6. Explain deadlocks and race conditions."
   ]
  },
  {
   "cell_type": "markdown",
   "id": "a56f03dc-4c41-4d0d-891d-d23def7e0318",
   "metadata": {},
   "source": [
    "### deadlocks\n",
    "\n",
    "* A deadlock is a concurrency failure mode where a thread or threads wait for a condition that never occurs.\n",
    "* The result is that the deadlock threads are unable to progress and the program is stuck or frozen and must be terminated forcefully\n",
    "\n",
    "### race conditions\n",
    "\n",
    "* A race condition occurs when two threads access a shared variable at the same time. The first thread reads the variable, and the second thread reads the same value from the variable.\n",
    "* Then the first thread and second thread perform their operations on the value, and they race to see which thread can write the value last to the shared variable.\n",
    "* The value of the thread that writes its value last is preserved, because the thread is writing over the value that the previous thread wrote."
   ]
  },
  {
   "cell_type": "markdown",
   "id": "4ea61f0c-d283-4e72-be47-909337001e5e",
   "metadata": {},
   "source": [
    "***"
   ]
  }
 ],
 "metadata": {
  "kernelspec": {
   "display_name": "Python 3 (ipykernel)",
   "language": "python",
   "name": "python3"
  },
  "language_info": {
   "codemirror_mode": {
    "name": "ipython",
    "version": 3
   },
   "file_extension": ".py",
   "mimetype": "text/x-python",
   "name": "python",
   "nbconvert_exporter": "python",
   "pygments_lexer": "ipython3",
   "version": "3.10.8"
  }
 },
 "nbformat": 4,
 "nbformat_minor": 5
}
