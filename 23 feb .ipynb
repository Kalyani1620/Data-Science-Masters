{
 "cells": [
  {
   "cell_type": "markdown",
   "id": "b04421a9-3294-48ad-804a-d1bcac5dd73f",
   "metadata": {},
   "source": [
    "#### Q1. Create a Pandas Series that contains the following data: 4, 8, 15, 16, 23, and 42. Then, print the series."
   ]
  },
  {
   "cell_type": "code",
   "execution_count": 6,
   "id": "bb14422b-cf00-44f8-91db-0f6270f3a3d4",
   "metadata": {},
   "outputs": [
    {
     "name": "stdout",
     "output_type": "stream",
     "text": [
      "Pandas Series and type\n",
      "0     4\n",
      "1     8\n",
      "2    15\n",
      "3    16\n",
      "4    23\n",
      "5    42\n",
      "dtype: int64\n"
     ]
    }
   ],
   "source": [
    "import pandas as pd\n",
    "ds = pd.Series([4,8,15,16,23,42])\n",
    "print(\"Pandas Series and type\")\n",
    "print(ds)\n"
   ]
  },
  {
   "cell_type": "markdown",
   "id": "39ccd023-4010-41b1-aa10-06da8ae1f64d",
   "metadata": {},
   "source": [
    "***\n",
    "#### Q2. Create a variable of list type containing 10 elements in it, and apply pandas.Series function on the variable print it."
   ]
  },
  {
   "cell_type": "code",
   "execution_count": 7,
   "id": "bbb5ee6c-e200-42d5-96d4-fd186db39207",
   "metadata": {},
   "outputs": [
    {
     "name": "stdout",
     "output_type": "stream",
     "text": [
      "a     10\n",
      "b     20\n",
      "c     30\n",
      "d     40\n",
      "e     50\n",
      "f     60\n",
      "g     70\n",
      "h     80\n",
      "i     90\n",
      "j    100\n",
      "dtype: int64\n"
     ]
    }
   ],
   "source": [
    "import pandas as pd\n",
    "x = pd.Series([10, 20, 30, 40, 50, 60, 70, 80, 90, 100], index =['a', 'b', 'c', 'd', 'e', 'f', 'g', 'h', 'i', 'j'])\n",
    "print(x)"
   ]
  },
  {
   "cell_type": "markdown",
   "id": "1c30f066-c608-46dc-98fa-4e8d07284658",
   "metadata": {},
   "source": [
    "***\n",
    "#### Q.3. Create a Pandas DataFrame that contains the following data:\n",
    "\n",
    "Then, print the DataFrame."
   ]
  },
  {
   "cell_type": "code",
   "execution_count": 12,
   "id": "799cd343-6b9b-4b52-badf-d60ab1eabfe9",
   "metadata": {},
   "outputs": [],
   "source": [
    "import pandas as pd"
   ]
  },
  {
   "cell_type": "code",
   "execution_count": 17,
   "id": "6e496c2a-634d-4b28-b5ae-84b9d1e39c80",
   "metadata": {},
   "outputs": [],
   "source": [
    "df = pd.read_excel(\"pandas_data.xlsx\")"
   ]
  },
  {
   "cell_type": "code",
   "execution_count": 18,
   "id": "d16ab595-bb82-414d-8f18-27b1d64111dd",
   "metadata": {},
   "outputs": [
    {
     "data": {
      "text/plain": [
       "Name      object\n",
       "Age        int64\n",
       "Gender    object\n",
       "dtype: object"
      ]
     },
     "execution_count": 18,
     "metadata": {},
     "output_type": "execute_result"
    }
   ],
   "source": [
    "df.dtypes"
   ]
  },
  {
   "cell_type": "code",
   "execution_count": 19,
   "id": "9e572820-d9fe-4dde-848f-f709ccd0074a",
   "metadata": {},
   "outputs": [
    {
     "data": {
      "text/html": [
       "<div>\n",
       "<style scoped>\n",
       "    .dataframe tbody tr th:only-of-type {\n",
       "        vertical-align: middle;\n",
       "    }\n",
       "\n",
       "    .dataframe tbody tr th {\n",
       "        vertical-align: top;\n",
       "    }\n",
       "\n",
       "    .dataframe thead th {\n",
       "        text-align: right;\n",
       "    }\n",
       "</style>\n",
       "<table border=\"1\" class=\"dataframe\">\n",
       "  <thead>\n",
       "    <tr style=\"text-align: right;\">\n",
       "      <th></th>\n",
       "      <th>Name</th>\n",
       "      <th>Age</th>\n",
       "      <th>Gender</th>\n",
       "    </tr>\n",
       "  </thead>\n",
       "  <tbody>\n",
       "    <tr>\n",
       "      <th>0</th>\n",
       "      <td>Alice</td>\n",
       "      <td>25</td>\n",
       "      <td>Female</td>\n",
       "    </tr>\n",
       "    <tr>\n",
       "      <th>1</th>\n",
       "      <td>Bob</td>\n",
       "      <td>30</td>\n",
       "      <td>Male</td>\n",
       "    </tr>\n",
       "    <tr>\n",
       "      <th>2</th>\n",
       "      <td>Claire</td>\n",
       "      <td>27</td>\n",
       "      <td>Female</td>\n",
       "    </tr>\n",
       "  </tbody>\n",
       "</table>\n",
       "</div>"
      ],
      "text/plain": [
       "     Name  Age  Gender\n",
       "0   Alice   25  Female\n",
       "1     Bob   30    Male\n",
       "2  Claire   27  Female"
      ]
     },
     "execution_count": 19,
     "metadata": {},
     "output_type": "execute_result"
    }
   ],
   "source": [
    "df"
   ]
  },
  {
   "cell_type": "markdown",
   "id": "1915da5d-3088-48ce-8c71-3c9813e524c0",
   "metadata": {},
   "source": [
    "***\n",
    "#### Q4. What is ‘DataFrame’ in pandas and how is it different from pandas.series? Explain with an example."
   ]
  },
  {
   "cell_type": "markdown",
   "id": "a77a4664-4fd4-42fb-835a-3d4ccd2d858f",
   "metadata": {},
   "source": [
    "A DataFrame is a data structure that organizes data into a 2-dimensional table of rows and columns, much like a spreadsheet. DataFrames are one of the most common data structures used in modern data analytics because they are a flexible and intuitive way of storing and working with data."
   ]
  },
  {
   "cell_type": "markdown",
   "id": "e8ed8d50-13c9-41fb-be91-3b22a69b8624",
   "metadata": {},
   "source": [
    "#### Pandas DataFrame\n",
    "* Two-dimensional\n",
    "* Heterogenous – DataFrame elements can have different data types.\n",
    "* Size-mutable – Elements can be dropped or added in an existing DataFrame.\n",
    "\n",
    "#### Pandas Series\n",
    "* One-dimensional\n",
    "* Homogenous – Series elements must be of the same data type.\n",
    "* Size-immutable – Once created, the size of a Series object cannot be changed."
   ]
  },
  {
   "cell_type": "markdown",
   "id": "e0839b2a-94fe-4720-ba99-b778f2a0dce7",
   "metadata": {},
   "source": [
    "***\n",
    "#### Q5. What are some common functions you can use to manipulate data in a Pandas DataFrame? Can you give an example of when you might use one of these functions?"
   ]
  },
  {
   "cell_type": "markdown",
   "id": "149891e5-38e2-43ab-8934-d36627dcb7a4",
   "metadata": {},
   "source": [
    "### Some Functions for manipulating data in pandas dataframe are :\n",
    "\n",
    "### 1. read_csv()\n",
    "This is one of the most crucial pandas methods in Python. read_csv() function helps read a comma-separated values (csv) file into a Pandas DataFrame. All you need to do is mention the path of the file you want it to read. It can also read files separated by delimiters other than comma, like | or tab.\n",
    "\n",
    "### 2. head()\n",
    "head(n) is used to return the first n rows of a dataset. By default, df.head() will return the first 5 rows of the DataFrame. If you want more/less number of rows, you can specify n as an integer.\n",
    "\n",
    "### 3. tail()\n",
    "tail(n) is used to return the last n rows of a dataset. By default, df.tail() will return the last 5 rows of the DataFrame. If you want more/less number of rows, you can specify n as an integer.\n",
    "\n",
    "\n",
    "### 4. describe()\n",
    "describe() is used to generate descriptive statistics of the data in a Pandas DataFrame or Series. It summarizes central tendency and dispersion of the dataset. describe() helps in getting a quick overview of the dataset.\n",
    "\n",
    "### 5. memory_usage()\n",
    "memory_usage() returns a Pandas Series having the memory usage of each column (in bytes) in a Pandas DataFrame. By specifying the deep attribute as True, we can get to know the actual space being taken by each column. \n",
    "\n",
    "### 6. astype()\n",
    "astype() is used to cast a Python object to a particular data type. It can be a very helpful function in case your data is not stored in the correct format (data type). For instance, if floating point numbers have somehow been misinterpreted by Python as strings, you can convert them back to floating point numbers with astype(). Or if you want to convert an object datatype to category, you can use astype().\n",
    "\n"
   ]
  },
  {
   "cell_type": "markdown",
   "id": "883109bd-2d80-4b4e-a762-77c6824bce25",
   "metadata": {},
   "source": [
    "***\n",
    "#### Q6. Which of the following is mutable in nature Series, DataFrame, Panel?"
   ]
  },
  {
   "cell_type": "markdown",
   "id": "375969f3-14a7-426c-acd0-8e877db2764f",
   "metadata": {},
   "source": [
    "All Pandas data structures are value mutable (can be changed) and except **Series** all are size mutable. Series is size immutable.\n"
   ]
  },
  {
   "cell_type": "markdown",
   "id": "40f79ede-d493-439e-b57c-4129bb1356ed",
   "metadata": {},
   "source": [
    "***\n",
    "#### Q7. Create a DataFrame using multiple Series. Explain with an example."
   ]
  },
  {
   "cell_type": "code",
   "execution_count": 21,
   "id": "6dbe99ad-223b-4c30-8cc0-295f508eb6ea",
   "metadata": {},
   "outputs": [
    {
     "name": "stdout",
     "output_type": "stream",
     "text": [
      "                         0     1    2\n",
      "0     Data Science Masters  3500  350\n",
      "1                  Web-Dev  5000  500\n",
      "2  Full Stack developement  4000  400\n"
     ]
    }
   ],
   "source": [
    "import pandas as pd\n",
    "\n",
    "courses = pd.Series([\"Data Science Masters\",\"Web-Dev\",\"Full Stack developement\"])\n",
    "fees = pd.Series([3500,5000,4000])\n",
    "discount  = pd.Series([350,500,400])\n",
    "\n",
    "df=pd.concat([courses,fees],axis=1)\n",
    "\n",
    "df=pd.concat([courses,fees,discount],axis=1)\n",
    "print(df)"
   ]
  },
  {
   "cell_type": "markdown",
   "id": "60e7b129-716c-4363-9bc0-05a5a375dde5",
   "metadata": {},
   "source": [
    "***"
   ]
  }
 ],
 "metadata": {
  "kernelspec": {
   "display_name": "Python 3 (ipykernel)",
   "language": "python",
   "name": "python3"
  },
  "language_info": {
   "codemirror_mode": {
    "name": "ipython",
    "version": 3
   },
   "file_extension": ".py",
   "mimetype": "text/x-python",
   "name": "python",
   "nbconvert_exporter": "python",
   "pygments_lexer": "ipython3",
   "version": "3.10.8"
  }
 },
 "nbformat": 4,
 "nbformat_minor": 5
}
