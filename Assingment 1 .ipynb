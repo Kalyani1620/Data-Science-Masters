{
 "cells": [
  {
   "cell_type": "markdown",
   "id": "be09983b-ebf3-43dd-a3b9-a5caf0e06961",
   "metadata": {},
   "source": [
    "***\n",
    "#### <aside>\n",
    "💡 **Q1.** Given an array of integers nums and an integer target, return indices of the two numbers such that they add up to target.\n",
    "\n",
    "You may assume that each input would have exactly one solution, and you may not use the same element twice.\n",
    "\n",
    "You can return the answer in any order.\n",
    "\n",
    "**Example:**\n",
    "Input: nums = [2,7,11,15], target = 9\n",
    "Output0 [0,1]\n",
    "\n",
    "**Explanation:** Because nums[0] + nums[1] == 9, we return [0, 1][\n",
    "\n",
    "</aside>"
   ]
  },
  {
   "cell_type": "code",
   "execution_count": 2,
   "id": "73e63ad1-51bb-4cfd-a38d-c318ac7075af",
   "metadata": {},
   "outputs": [
    {
     "name": "stdout",
     "output_type": "stream",
     "text": [
      "[0, 1]\n"
     ]
    }
   ],
   "source": [
    "def twoSum(nums, target):\n",
    "    complement_dict = {}\n",
    "\n",
    "    for i, num in enumerate(nums):\n",
    "        if num in complement_dict:\n",
    "          \n",
    "            return [complement_dict[num], i]\n",
    "        else:\n",
    "            complement = target - num\n",
    "            complement_dict[complement] = i\n",
    "            \n",
    "    return []\n",
    "\n",
    "\n",
    "nums = [2, 7, 11, 15]\n",
    "target = 9\n",
    "result = twoSum(nums, target)\n",
    "print(result)\n"
   ]
  },
  {
   "cell_type": "markdown",
   "id": "3a7bd7dd-0fcb-4bc5-99fe-e496501efb3f",
   "metadata": {},
   "source": [
    "****\n",
    "#### <aside>\n",
    "💡 **Q2.** Given an integer array nums and an integer val, remove all occurrences of val in nums in-place. The order of the elements may be changed. Then return the number of elements in nums which are not equal to val.\n",
    "\n",
    "Consider the number of elements in nums which are not equal to val be k, to get accepted, you need to do the following things:\n",
    "\n",
    "- Change the array nums such that the first k elements of nums contain the elements which are not equal to val. The remaining elements of nums are not important as well as the size of nums.\n",
    "- Return k.\n",
    "\n",
    "**Example :**\n",
    "Input: nums = [3,2,2,3], val = 3\n",
    "Output: 2, nums = [2,2,_*,_*]\n",
    "\n",
    "**Explanation:** Your function should return k = 2, with the first two elements of nums being 2. It does not matter what you leave beyond the returned k (hence they are underscores)[\n",
    "\n",
    "</aside>"
   ]
  },
  {
   "cell_type": "code",
   "execution_count": 3,
   "id": "07f4c1fd-3615-4199-8e22-575179d5114b",
   "metadata": {},
   "outputs": [
    {
     "name": "stdout",
     "output_type": "stream",
     "text": [
      "2\n",
      "[2, 2, 2, 3]\n"
     ]
    }
   ],
   "source": [
    "def removeElement(nums, val):\n",
    "    i = 0\n",
    "    j = 0\n",
    "    \n",
    "    while j < len(nums):\n",
    "        if nums[j] != val:\n",
    "            nums[i] = nums[j]\n",
    "            i += 1\n",
    "        \n",
    "        j += 1\n",
    "    return i\n",
    "\n",
    "nums = [3, 2, 2, 3]\n",
    "val = 3\n",
    "k = removeElement(nums, val)\n",
    "print(k)  \n",
    "print(nums) \n"
   ]
  },
  {
   "cell_type": "markdown",
   "id": "a1fae24c-316d-4e68-95a1-949383da62bc",
   "metadata": {},
   "source": [
    "****\n",
    "#### <aside>\n",
    "💡 **Q3.** Given a sorted array of distinct integers and a target value, return the index if the target is found. If not, return the index where it would be if it were inserted in order.\n",
    "\n",
    "You must write an algorithm with O(log n) runtime complexity.\n",
    "\n",
    "**Example 1:**\n",
    "Input: nums = [1,3,5,6], target = 5\n",
    "\n",
    "Output: 2\n",
    "\n",
    "</aside>"
   ]
  },
  {
   "cell_type": "code",
   "execution_count": 4,
   "id": "8b75afb7-63d0-458c-b223-798196711001",
   "metadata": {},
   "outputs": [
    {
     "name": "stdout",
     "output_type": "stream",
     "text": [
      "2\n"
     ]
    }
   ],
   "source": [
    "def searchInsert(nums, target):\n",
    "    left = 0\n",
    "    right = len(nums) - 1\n",
    "\n",
    "    while left <= right:\n",
    "        mid = left + (right - left) // 2\n",
    "\n",
    "        if nums[mid] == target:\n",
    "            return mid\n",
    "        elif nums[mid] < target:\n",
    "            left = mid + 1\n",
    "        else:\n",
    "            right = mid - 1\n",
    "\n",
    "    return left\n",
    "\n",
    "\n",
    "nums = [1, 3, 5, 6]\n",
    "target = 5\n",
    "index = searchInsert(nums, target)\n",
    "print(index) "
   ]
  },
  {
   "cell_type": "markdown",
   "id": "d3ee1ba1-12a5-448f-8701-f4cda740f53b",
   "metadata": {},
   "source": [
    "****\n",
    "#### <aside>\n",
    "💡 **Q4.** You are given a large integer represented as an integer array digits, where each digits[i] is the ith digit of the integer. The digits are ordered from most significant to least significant in left-to-right order. The large integer does not contain any leading 0's.\n",
    "\n",
    "Increment the large integer by one and return the resulting array of digits.\n",
    "\n",
    "**Example 1:**\n",
    "Input: digits = [1,2,3]\n",
    "Output: [1,2,4]\n",
    "\n",
    "**Explanation:** The array represents the integer 123.\n",
    "\n",
    "Incrementing by one gives 123 + 1 = 124.\n",
    "Thus, the result should be [1,2,4].\n",
    "\n",
    "</aside>\n"
   ]
  },
  {
   "cell_type": "code",
   "execution_count": 5,
   "id": "132496fc-aa5b-4bd8-a7ba-bc8df924aa8c",
   "metadata": {},
   "outputs": [
    {
     "name": "stdout",
     "output_type": "stream",
     "text": [
      "[1, 2, 4]\n"
     ]
    }
   ],
   "source": [
    "def plusOne(digits):\n",
    "    n = len(digits)\n",
    "    for i in range(n - 1, -1, -1):\n",
    "        if digits[i] != 9:\n",
    "            \n",
    "            digits[i] += 1\n",
    "            return digits\n",
    "        else:\n",
    "            digits[i] = 0\n",
    "\n",
    "    return [1] + digits\n",
    "\n",
    "\n",
    "digits = [1, 2, 3]\n",
    "result = plusOne(digits)\n",
    "print(result)  \n"
   ]
  },
  {
   "cell_type": "markdown",
   "id": "ac72cbd8-71c7-40c1-8db7-ce70e27b1d2d",
   "metadata": {},
   "source": [
    "****\n",
    "#### <aside>\n",
    "💡 **Q5.** You are given two integer arrays nums1 and nums2, sorted in non-decreasing order, and two integers m and n, representing the number of elements in nums1 and nums2 respectively.\n",
    "\n",
    "Merge nums1 and nums2 into a single array sorted in non-decreasing order.\n",
    "\n",
    "The final sorted array should not be returned by the function, but instead be stored inside the array nums1. To accommodate this, nums1 has a length of m + n, where the first m elements denote the elements that should be merged, and the last n elements are set to 0 and should be ignored. nums2 has a length of n.\n",
    "\n",
    "**Example 1:**\n",
    "Input: nums1 = [1,2,3,0,0,0], m = 3, nums2 = [2,5,6], n = 3\n",
    "Output: [1,2,2,3,5,6]\n",
    "\n",
    "**Explanation:** The arrays we are merging are [1,2,3] and [2,5,6].\n",
    "The result of the merge is [1,2,2,3,5,6] with the underlined elements coming from nums1.\n",
    "\n",
    "</aside>"
   ]
  },
  {
   "cell_type": "code",
   "execution_count": 6,
   "id": "59ea75fe-b918-41a2-a5ad-d55c3fc5aea6",
   "metadata": {},
   "outputs": [
    {
     "name": "stdout",
     "output_type": "stream",
     "text": [
      "[1, 2, 2, 3, 5, 6]\n"
     ]
    }
   ],
   "source": [
    "def merge(nums1, m, nums2, n):\n",
    "    \n",
    "    i = m - 1\n",
    "    j = n - 1\n",
    "    k = m + n - 1\n",
    "\n",
    "    while i >= 0 and j >= 0:\n",
    "        if nums1[i] > nums2[j]:\n",
    "            nums1[k] = nums1[i]\n",
    "            i -= 1\n",
    "        else:\n",
    "            nums1[k] = nums2[j]\n",
    "            j -= 1\n",
    "        k -= 1\n",
    "\n",
    "    while j >= 0:\n",
    "        nums1[k] = nums2[j]\n",
    "        j -= 1\n",
    "        k -= 1\n",
    "\n",
    "nums1 = [1, 2, 3, 0, 0, 0]\n",
    "m = 3\n",
    "nums2 = [2, 5, 6]\n",
    "n = 3\n",
    "merge(nums1, m, nums2, n)\n",
    "print(nums1) "
   ]
  },
  {
   "cell_type": "markdown",
   "id": "215381f4-3a55-46cc-957f-9b22ab20424a",
   "metadata": {},
   "source": [
    "****\n",
    "#### <aside>\n",
    "💡 **Q6.** Given an integer array nums, return true if any value appears at least twice in the array, and return false if every element is distinct.\n",
    "\n",
    "**Example 1:**\n",
    "Input: nums = [1,2,3,1]\n",
    "\n",
    "Output: true\n",
    "\n",
    "</aside>\n"
   ]
  },
  {
   "cell_type": "code",
   "execution_count": 7,
   "id": "d01bfa57-d12a-48ea-86b3-b561058a9615",
   "metadata": {},
   "outputs": [
    {
     "name": "stdout",
     "output_type": "stream",
     "text": [
      "True\n"
     ]
    }
   ],
   "source": [
    "def containsDuplicate(nums):\n",
    "    num_set = set()\n",
    "\n",
    "    for num in nums:\n",
    "        if num in num_set:\n",
    "            return True\n",
    "        num_set.add(num)\n",
    "\n",
    "    return False\n",
    "\n",
    "# Example usage\n",
    "nums = [1, 2, 3, 1]\n",
    "result = containsDuplicate(nums)\n",
    "print(result)  # Output: True\n"
   ]
  },
  {
   "cell_type": "markdown",
   "id": "baf6f744-c4d0-4773-b33c-6e9dbf2b8472",
   "metadata": {},
   "source": [
    "****\n",
    "#### <aside>\n",
    "💡 **Q7.** Given an integer array nums, move all 0's to the end of it while maintaining the relative order of the nonzero elements.\n",
    "\n",
    "Note that you must do this in-place without making a copy of the array.\n",
    "\n",
    "**Example 1:**\n",
    "Input: nums = [0,1,0,3,12]\n",
    "Output: [1,3,12,0,0]\n",
    "\n",
    "</aside>"
   ]
  },
  {
   "cell_type": "code",
   "execution_count": 8,
   "id": "120887c6-834b-46e8-acc4-00cca96e4ef6",
   "metadata": {},
   "outputs": [
    {
     "name": "stdout",
     "output_type": "stream",
     "text": [
      "[1, 3, 12, 0, 0]\n"
     ]
    }
   ],
   "source": [
    "def moveZeroes(nums):\n",
    "    pointer = 0\n",
    "    for i in range(len(nums)):\n",
    "        \n",
    "        if nums[i] != 0:\n",
    "            nums[pointer] = nums[i]\n",
    "            pointer += 1\n",
    "            \n",
    "    while pointer < len(nums):\n",
    "        nums[pointer] = 0\n",
    "        pointer += 1\n",
    "\n",
    "\n",
    "nums = [0, 1, 0, 3, 12]\n",
    "moveZeroes(nums)\n",
    "print(nums)  \n"
   ]
  },
  {
   "cell_type": "markdown",
   "id": "828a5136-191c-41ac-bc2f-5a54603eb96c",
   "metadata": {},
   "source": [
    "***\n",
    "#### <aside>\n",
    "💡 **Q8.** You have a set of integers s, which originally contains all the numbers from 1 to n. Unfortunately, due to some error, one of the numbers in s got duplicated to another number in the set, which results in repetition of one number and loss of another number.\n",
    "\n",
    "You are given an integer array nums representing the data status of this set after the error.\n",
    "\n",
    "Find the number that occurs twice and the number that is missing and return them in the form of an array.\n",
    "\n",
    "**Example 1:**\n",
    "Input: nums = [1,2,2,4]\n",
    "Output: [2,3]\n",
    "\n",
    "</aside>"
   ]
  },
  {
   "cell_type": "code",
   "execution_count": 9,
   "id": "1f68a69e-ebba-4d23-9d91-077c51767981",
   "metadata": {},
   "outputs": [
    {
     "name": "stdout",
     "output_type": "stream",
     "text": [
      "[2, 3]\n"
     ]
    }
   ],
   "source": [
    "def findErrorNums(nums):\n",
    "    n = len(nums)\n",
    "    total_sum = n * (n + 1) // 2\n",
    "    actual_sum = sum(nums)\n",
    "    difference = total_sum - actual_sum\n",
    "\n",
    "    num_set = set()\n",
    "    duplicate_num = 0\n",
    "\n",
    "    for num in nums:\n",
    "        if num in num_set:\n",
    "            duplicate_num = num\n",
    "        else:\n",
    "            num_set.add(num)\n",
    "\n",
    "    missing_num = difference + duplicate_num\n",
    "\n",
    "    return [duplicate_num, missing_num]\n",
    "\n",
    "nums = [1, 2, 2, 4]\n",
    "result = findErrorNums(nums)\n",
    "print(result) \n"
   ]
  },
  {
   "cell_type": "markdown",
   "id": "8a404fa4-ba2d-4c9f-9b8a-f3a072de1402",
   "metadata": {},
   "source": [
    "****"
   ]
  }
 ],
 "metadata": {
  "kernelspec": {
   "display_name": "Python 3 (ipykernel)",
   "language": "python",
   "name": "python3"
  },
  "language_info": {
   "codemirror_mode": {
    "name": "ipython",
    "version": 3
   },
   "file_extension": ".py",
   "mimetype": "text/x-python",
   "name": "python",
   "nbconvert_exporter": "python",
   "pygments_lexer": "ipython3",
   "version": "3.10.8"
  }
 },
 "nbformat": 4,
 "nbformat_minor": 5
}
