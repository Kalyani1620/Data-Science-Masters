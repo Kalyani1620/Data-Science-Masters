{
 "cells": [
  {
   "cell_type": "markdown",
   "id": "62590a59-91bc-43e4-808a-193f56af11ee",
   "metadata": {},
   "source": [
    "### Q.1 who devloped the python programming language? "
   ]
  },
  {
   "cell_type": "markdown",
   "id": "5644d8ab-10a6-4f18-92ff-cfc4d9a7c92b",
   "metadata": {},
   "source": [
    "Python is develope by 'Guido van Rossum'\n",
    "***"
   ]
  },
  {
   "cell_type": "markdown",
   "id": "84dba48c-e646-42ea-897b-bb760b428dae",
   "metadata": {},
   "source": [
    "### Q.2 which type of programming does python supports ?"
   ]
  },
  {
   "cell_type": "markdown",
   "id": "56374ecf-70b8-4e51-add1-d69ab83581cc",
   "metadata": {},
   "source": [
    "1. Object-oriented\n",
    "2. Functional programming \n",
    "3. Structured programming \n",
    "***"
   ]
  },
  {
   "cell_type": "markdown",
   "id": "d45194ca-8c15-4d8b-9179-a1658d7df5a0",
   "metadata": {},
   "source": [
    "### Q.3 Is python is case sensitive when dealing with Identifiers ?"
   ]
  },
  {
   "cell_type": "markdown",
   "id": "eccf840a-9616-425b-9e73-1292936a3736",
   "metadata": {},
   "source": [
    "'yes' python is case sensitive dealing with Identifires \n",
    "***"
   ]
  },
  {
   "cell_type": "markdown",
   "id": "53bcc551-5bf9-42b1-b2e1-1330e4a8c0a7",
   "metadata": {},
   "source": [
    "### Q.4 What is the correct extention of the python file ?"
   ]
  },
  {
   "cell_type": "markdown",
   "id": "769b5638-894f-4533-902d-b69ab3d985ef",
   "metadata": {},
   "source": [
    "**.Py** is the correct extention of the python file\n",
    "***"
   ]
  },
  {
   "cell_type": "markdown",
   "id": "3b8eb02f-9283-4245-b2be-72dc70721a88",
   "metadata": {},
   "source": [
    "### Q.5 Is python code complied or interepted ?"
   ]
  },
  {
   "cell_type": "markdown",
   "id": "bed545c5-7d68-41a2-9e5c-8146e3fbaa2e",
   "metadata": {},
   "source": [
    "Python is Neither complied nor interepreted.\n",
    "***"
   ]
  },
  {
   "cell_type": "markdown",
   "id": "6e6538b5-e44b-4a6c-987d-5bd0f757c1ff",
   "metadata": {},
   "source": [
    "### Q.6 Name a few blocks of codes used to defined in python language ?"
   ]
  },
  {
   "cell_type": "markdown",
   "id": "0cacb11e-6324-420b-bac8-faf4d36d7faf",
   "metadata": {},
   "source": [
    "* Following are the blocks which defines python language \n",
    "1. a module \n",
    "2. a function body \n",
    "3. a class defination \n",
    "***"
   ]
  },
  {
   "cell_type": "markdown",
   "id": "daf8dcc4-95a4-470b-8d9a-201c0c7f6c92",
   "metadata": {},
   "source": [
    "### Q.7 State a character used to give single-line comment in python? "
   ]
  },
  {
   "cell_type": "markdown",
   "id": "6ae89543-e5e1-4c9f-8e94-62d6def0da53",
   "metadata": {},
   "source": [
    "We can write a single-line comment by adding a single '#' Character.\n",
    "***"
   ]
  },
  {
   "cell_type": "markdown",
   "id": "b2d0d893-8088-4623-8c15-14b4bf856d2b",
   "metadata": {},
   "source": [
    "### Q.8.Mention the function which can help to find the version of python that we are currently working on?"
   ]
  },
  {
   "cell_type": "markdown",
   "id": "3f361ee1-7ab2-47e4-8891-c175da549655",
   "metadata": {},
   "source": [
    "1. Using sys.version method.\n",
    "2. Using python_version()function.\n",
    "3. Using python_v command.\n",
    "***"
   ]
  },
  {
   "cell_type": "markdown",
   "id": "c561357f-cc5f-4fd6-ae7c-55e339fc9187",
   "metadata": {},
   "source": [
    "### Q.9 Python supports the creation of annonymus function of runtime , using a construct called ------- ?"
   ]
  },
  {
   "cell_type": "markdown",
   "id": "7436fc45-1225-4ce1-beeb-3e0cb321dfe9",
   "metadata": {},
   "source": [
    "Python supports the creation of annonymus function of runtime , using a construct called \"lambda\"\n",
    "***"
   ]
  },
  {
   "cell_type": "markdown",
   "id": "fe558324-1562-49db-90e8-a6be01e690b1",
   "metadata": {},
   "source": [
    "### Q.10 What does pip stand for python?"
   ]
  },
  {
   "cell_type": "markdown",
   "id": "c6f87398-f6c5-454a-bad4-2c19ca38d188",
   "metadata": {},
   "source": [
    "pip stands for -\"preferred installer program\"\n",
    "***"
   ]
  },
  {
   "cell_type": "markdown",
   "id": "3ef30b82-7101-4170-bbac-47cb3fcb3649",
   "metadata": {},
   "source": [
    "### Q.11 Mention a few built-in function in python ?"
   ]
  },
  {
   "cell_type": "markdown",
   "id": "c5cf3a71-f645-4819-afaf-2f916a5c5b0f",
   "metadata": {},
   "source": [
    "* bytes():- Returns a bytes object .\n",
    "* callable() :- Returns true if the specified object is callable, otherwise false. \n",
    "* chr() :- Returns a character from the specified unicode  code .\n",
    "* class method :- converts a method into a class method \n",
    "***"
   ]
  },
  {
   "cell_type": "markdown",
   "id": "7ccb7260-7e81-49f7-855b-9a03c3e7e56b",
   "metadata": {},
   "source": [
    "### Q.12 what are the maximum possible length of an identifier in python ?"
   ]
  },
  {
   "cell_type": "markdown",
   "id": "36ce9853-b51e-4771-894d-ba0787dfd339",
   "metadata": {},
   "source": [
    "An identifier have an maximum possible length of 79 characters in python.\n",
    "***"
   ]
  },
  {
   "cell_type": "markdown",
   "id": "7611cf12-b47f-4611-851f-5c4857e2815c",
   "metadata": {},
   "source": [
    "### Q.13 What are the benifits of using python ?"
   ]
  },
  {
   "cell_type": "markdown",
   "id": "758eea9b-00e3-4d5f-936b-5b8649389f14",
   "metadata": {
    "tags": []
   },
   "source": [
    "1. User friendly data structures.\n",
    "2. Easy to read , write and learn.\n",
    "3. high level language.\n",
    "4. Dinamatically type language.\n",
    "5. Object-oriented and procedural programming language.\n",
    "***"
   ]
  },
  {
   "cell_type": "markdown",
   "id": "9fcf0f24-fe04-4f85-b3d1-422ec95943b0",
   "metadata": {},
   "source": [
    "### Q.14 How is memory managed in python ?"
   ]
  },
  {
   "cell_type": "markdown",
   "id": "53958d51-1d72-4ebb-93eb-5044e3c802c6",
   "metadata": {},
   "source": [
    "Memory managed in python involve a private heap containing all python objects and data structures.\n",
    "***"
   ]
  },
  {
   "cell_type": "markdown",
   "id": "7b2b22ad-c5af-46cb-ad5c-e6c8ae1ff1bc",
   "metadata": {},
   "source": [
    "### Q.15 How to install python windows and set path variables ?"
   ]
  },
  {
   "cell_type": "markdown",
   "id": "185c0f70-5186-423c-8eab-600b1bc69474",
   "metadata": {},
   "source": [
    "* The complete path of python.exe can be added by \n",
    "1. Right-clicking this PC and going to properties .\n",
    "2. Clicking on the advance system setting in the menu on the left .\n",
    "3. Clicking on the environment variable button on the bottom right .\n",
    "4. In the system variable section , selection the path variable and clicking on edit the next screen will show all the directories that are currently a part of the PATH variable.\n",
    "5. Clicking n new entering pythons install directory.\n",
    "***"
   ]
  },
  {
   "cell_type": "markdown",
   "id": "18724ee4-d42d-4d7a-8283-09fc592cd801",
   "metadata": {},
   "source": [
    "### Q.16 Is indetation required in python?"
   ]
  },
  {
   "cell_type": "markdown",
   "id": "107876b5-1fce-46dc-a70b-f94d2d9fb868",
   "metadata": {},
   "source": [
    "Yes. indentation required in python.\n",
    "***"
   ]
  }
 ],
 "metadata": {
  "kernelspec": {
   "display_name": "Python 3 (ipykernel)",
   "language": "python",
   "name": "python3"
  },
  "language_info": {
   "codemirror_mode": {
    "name": "ipython",
    "version": 3
   },
   "file_extension": ".py",
   "mimetype": "text/x-python",
   "name": "python",
   "nbconvert_exporter": "python",
   "pygments_lexer": "ipython3",
   "version": "3.10.8"
  }
 },
 "nbformat": 4,
 "nbformat_minor": 5
}
