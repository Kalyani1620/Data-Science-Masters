{
 "cells": [
  {
   "cell_type": "markdown",
   "id": "8ddd89ef-3657-482a-be29-42377eaf57b8",
   "metadata": {
    "tags": []
   },
   "source": [
    "#### Q.1 Write a program to accept prcentage from user and display the grade according to the following criteria\n",
    "* Marks >90 = Grade A\n",
    "* Marks >80 and <=90 = Grade B\n",
    "* Marks >=60 and <=80 = Grade C\n",
    "* Marks >60 = Grade D"
   ]
  },
  {
   "cell_type": "code",
   "execution_count": 3,
   "id": "17a6e71d-0eee-46f1-8491-b65edca1ca5f",
   "metadata": {},
   "outputs": [
    {
     "name": "stdout",
     "output_type": "stream",
     "text": [
      "Enter Percentage Obtained\n"
     ]
    },
    {
     "name": "stdin",
     "output_type": "stream",
     "text": [
      " 92\n"
     ]
    },
    {
     "name": "stdout",
     "output_type": "stream",
     "text": [
      "Your Grade is A\n"
     ]
    }
   ],
   "source": [
    "print(\"Enter Percentage Obtained\")\n",
    "avg=int(input())\n",
    "\n",
    "if avg>90:\n",
    "    print(\"Your Grade is A\")\n",
    "elif avg>80 and avg<=90:\n",
    "    print(\"Your Grade is B\")\n",
    "elif avg>=60 and avg<=80:\n",
    "     print(\"Your Grade is C\")\n",
    "elif avg<60:\n",
    "     print(\"Your Grade is D\")\n",
    "else:\n",
    "     print(\"Please enter valid percentage\")"
   ]
  },
  {
   "cell_type": "markdown",
   "id": "cef0aa84-f76a-4b46-a498-ffef58a91825",
   "metadata": {},
   "source": [
    "***\n",
    "#### Q.2 Write a program to accept cost price of a bike and display the road tax to be paid accordin to the following Criteria\n",
    "* Tax 15% if cost price(in Rs) >100000\n",
    "* Tax 10% if cost price(in Rs) >50000 and <=100000\n",
    "* Tax 5% if cost price(in Rs) <=50000\n"
   ]
  },
  {
   "cell_type": "code",
   "execution_count": 4,
   "id": "d2189652-38ef-475d-a8b9-0fabe16e21eb",
   "metadata": {},
   "outputs": [
    {
     "name": "stdout",
     "output_type": "stream",
     "text": [
      "Enter Cost price(in Rs) of bike\n"
     ]
    },
    {
     "name": "stdin",
     "output_type": "stream",
     "text": [
      " 72000\n"
     ]
    },
    {
     "name": "stdout",
     "output_type": "stream",
     "text": [
      "10% of road tax to be paid\n"
     ]
    }
   ],
   "source": [
    "print(\"Enter Cost price(in Rs) of bike\")\n",
    "cp=int(input())\n",
    "\n",
    "if cp>100000:\n",
    "    print(\"15% of road tax to be paid\")\n",
    "elif cp>50000 and avg<=100000:\n",
    "    print(\"10% of road tax to be paid\")\n",
    "elif cp>=50000:\n",
    "     print(\"5% of road tax to be paid\")\n",
    "else:\n",
    "     print(\"Please enter valid details\")"
   ]
  },
  {
   "cell_type": "markdown",
   "id": "ef252979-2994-4896-acf2-fc57e3da46b5",
   "metadata": {},
   "source": [
    "***\n",
    "#### Q.3 Accept the city from the user and display monuments of the city\n",
    "* City = Monuments  \n",
    "* Delhi = Red Fort\n",
    "* Agra = Taj Mahal\n",
    "* Jaipur = Jal Mahal"
   ]
  },
  {
   "cell_type": "code",
   "execution_count": 9,
   "id": "0345d1ac-abfa-483c-9f06-42aee7ef7a76",
   "metadata": {},
   "outputs": [
    {
     "name": "stdout",
     "output_type": "stream",
     "text": [
      "Enter the name of city\n"
     ]
    },
    {
     "name": "stdin",
     "output_type": "stream",
     "text": [
      " agra\n"
     ]
    },
    {
     "name": "stdout",
     "output_type": "stream",
     "text": [
      "Monument is Taj Mahal\n"
     ]
    }
   ],
   "source": [
    "print(\"Enter the name of city\")\n",
    "city=str(input())\n",
    "\n",
    "if city==\"delhi\":\n",
    "    print(\"Monument is red fort\")\n",
    "elif city==\"agra\":\n",
    "    print(\"Monument is Taj Mahal\")\n",
    "elif city==\"jaipur\":\n",
    "    print(\"Monument is Jal Mahal\")\n",
    "else:\n",
    "    print(\"Enter a Valid City name\")"
   ]
  },
  {
   "cell_type": "markdown",
   "id": "8eafcbb5-dfe3-4bdf-b24e-15b492f3e86e",
   "metadata": {},
   "source": [
    "*** \n",
    "#### Q.4  Check how many times a given number can be divided by 3 before it is less than or equals to 10."
   ]
  },
  {
   "cell_type": "code",
   "execution_count": 2,
   "id": "25ab9784-1036-4532-8908-16b7bcb19c12",
   "metadata": {},
   "outputs": [
    {
     "name": "stdin",
     "output_type": "stream",
     "text": [
      "Enter your number: 9\n"
     ]
    },
    {
     "name": "stdout",
     "output_type": "stream",
     "text": [
      "9 is divisible by 3\n"
     ]
    }
   ],
   "source": [
    "num1=int(input(\"Enter your number:\"))\n",
    "if(num1%3==0):\n",
    "    print(\"{} is divisible by 3\".format(num1))  \n",
    "else:\n",
    "    print(\"{} is not divisible by 3\".format(num1))"
   ]
  },
  {
   "cell_type": "markdown",
   "id": "390fd970-c7b1-4187-9e82-c68526401aab",
   "metadata": {},
   "source": [
    "***\n",
    "#### Q.5 why and when to use while  loop in python. Give a detailed description with example.\n"
   ]
  },
  {
   "cell_type": "markdown",
   "id": "5dbd40cc-67f3-4bab-be46-87f326e0b68e",
   "metadata": {},
   "source": [
    "The loops are designed to execute a specific code block repeatedly. If we want to show a message 100 times then we use a loop. Python while loop is to run a block code until a certain condition is met.Here,\n",
    "1. A while loop evaluates the condition.\n",
    "2. If the condition evaluates to true the code inside the while loop is executed.\n",
    "3. Condition is evaluated agian.\n",
    "4. This process continues until the condition is false.\n",
    "5. When the condition evaluates to false, the loop stops.\n",
    "\n",
    "#### The syntax of while loop is as follows:\n",
    "     While Condition :\n",
    "        Body of While Loop\n",
    "\n",
    "### for Example:\n",
    "### Program to display numbers from 1 to 5\n"
   ]
  },
  {
   "cell_type": "code",
   "execution_count": 20,
   "id": "53f4b68c-9f0e-4120-ac64-f7d46c48bb2b",
   "metadata": {},
   "outputs": [
    {
     "name": "stdout",
     "output_type": "stream",
     "text": [
      "1\n",
      "2\n",
      "3\n",
      "4\n",
      "5\n"
     ]
    }
   ],
   "source": [
    "## first initiallize the variable\n",
    "i=1\n",
    "n=5\n",
    "## while loop from i = 1 to 5\n",
    "\n",
    "while i<=n:\n",
    "    print(i)\n",
    "    i=i+1"
   ]
  },
  {
   "cell_type": "markdown",
   "id": "13cd9346-255d-4ef1-83d4-f70067ee3cac",
   "metadata": {},
   "source": [
    "***\n",
    "#### Q.6 use nested while loop to print three different patterns"
   ]
  },
  {
   "cell_type": "code",
   "execution_count": 20,
   "id": "bf499b46-2988-4ff8-a0f8-121fdf810bf3",
   "metadata": {},
   "outputs": [
    {
     "name": "stdin",
     "output_type": "stream",
     "text": [
      "Enter the number of rows:  5\n"
     ]
    },
    {
     "name": "stdout",
     "output_type": "stream",
     "text": [
      "    *\n",
      "   ***\n",
      "  *****\n",
      " *******\n",
      "*********\n"
     ]
    }
   ],
   "source": [
    " num_rows = int(input(\"Enter the number of rows: \"))\n",
    "row = 0 \n",
    "while(row < num_rows):\n",
    "    row += 1 \n",
    "    s = num_rows - row \n",
    "\n",
    "    sc = 0 \n",
    "    while(sc < s):\n",
    "        print(\" \", end='')\n",
    "        sc += 1\n",
    "\n",
    "    stars = 2*row-1 \n",
    "    while(stars > 0):\n",
    "        print(\"*\", end='')\n",
    "        stars -= 1\n",
    "\n",
    "    print()"
   ]
  },
  {
   "cell_type": "code",
   "execution_count": 19,
   "id": "2be06a1a-5680-43ac-9f69-6b71a70784bd",
   "metadata": {},
   "outputs": [
    {
     "name": "stdin",
     "output_type": "stream",
     "text": [
      "Enter the number of rows:  5\n"
     ]
    },
    {
     "name": "stdout",
     "output_type": "stream",
     "text": [
      "    *   ***  ***** ****************\n"
     ]
    }
   ],
   "source": [
    " num_rows = int(input(\"Enter the number of rows: \"))\n",
    "row = 0 \n",
    "while(row < num_rows):\n",
    "    row += 1 \n",
    "    s = num_rows - row \n",
    "\n",
    "    sc = 0 \n",
    "    while(sc < s):\n",
    "        print(\" \", end='')\n",
    "        sc += 1\n",
    "\n",
    "    stars = 2*row-1 \n",
    "    while(stars > 0):\n",
    "        print(\"*\", end='')\n",
    "        stars -= 1\n",
    "\n",
    "print()"
   ]
  },
  {
   "cell_type": "code",
   "execution_count": 22,
   "id": "5c11b794-0b54-4de5-97ab-e7a2975a9084",
   "metadata": {},
   "outputs": [
    {
     "name": "stdin",
     "output_type": "stream",
     "text": [
      "Enter the number of rows:  5\n"
     ]
    },
    {
     "name": "stdout",
     "output_type": "stream",
     "text": [
      "    *\n",
      "   *\n",
      "*\n",
      "*\n",
      "  *\n",
      "*\n",
      "*\n",
      "*\n",
      "*\n",
      " *\n",
      "*\n",
      "*\n",
      "*\n",
      "*\n",
      "*\n",
      "*\n",
      "*\n",
      "*\n",
      "*\n",
      "*\n",
      "*\n",
      "*\n",
      "*\n",
      "*\n",
      "*\n"
     ]
    }
   ],
   "source": [
    " num_rows = int(input(\"Enter the number of rows: \"))\n",
    "row = 0 \n",
    "while(row < num_rows):\n",
    "    row += 1 \n",
    "    s = num_rows - row \n",
    "\n",
    "    sc = 0 \n",
    "    while(sc < s):\n",
    "        print(\" \", end='')\n",
    "        sc += 1\n",
    "\n",
    "    stars = 2*row-1 \n",
    "    while(stars > 0):\n",
    "        print(\"*\", end='')\n",
    "        stars -= 1\n",
    "        print()"
   ]
  },
  {
   "cell_type": "markdown",
   "id": "07fe1bb0-81e1-4d4e-ac80-fca6868c5299",
   "metadata": {},
   "source": [
    "***\n",
    "#### Q.7 Reverse a while loop to display numbers from 10 to 1"
   ]
  },
  {
   "cell_type": "code",
   "execution_count": 1,
   "id": "60156d05-6905-4bf8-b506-75df40b25bf7",
   "metadata": {},
   "outputs": [
    {
     "name": "stdout",
     "output_type": "stream",
     "text": [
      "10\n",
      "9\n",
      "8\n",
      "7\n",
      "6\n",
      "5\n",
      "4\n",
      "3\n",
      "2\n",
      "1\n"
     ]
    }
   ],
   "source": [
    "## first initiallize the variable\n",
    "i=10\n",
    "n=1\n",
    "## while loop to display numbers from i = 10 to 1\n",
    "\n",
    "while i>=n:\n",
    "    print(i)\n",
    "    i=i-1"
   ]
  },
  {
   "cell_type": "markdown",
   "id": "a29cb863-c219-40d5-b82b-612b4e644e9c",
   "metadata": {},
   "source": [
    "***"
   ]
  }
 ],
 "metadata": {
  "kernelspec": {
   "display_name": "Python 3 (ipykernel)",
   "language": "python",
   "name": "python3"
  },
  "language_info": {
   "codemirror_mode": {
    "name": "ipython",
    "version": 3
   },
   "file_extension": ".py",
   "mimetype": "text/x-python",
   "name": "python",
   "nbconvert_exporter": "python",
   "pygments_lexer": "ipython3",
   "version": "3.10.8"
  }
 },
 "nbformat": 4,
 "nbformat_minor": 5
}
