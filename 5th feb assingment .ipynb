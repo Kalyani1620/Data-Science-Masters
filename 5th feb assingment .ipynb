{
 "cells": [
  {
   "cell_type": "markdown",
   "id": "cf038a7e-65dd-42ca-83a9-2cbab6991691",
   "metadata": {},
   "source": [
    "#### Q1. Explain Class and Object with respect to Object-Oriented Programming. Give a suitable example.?\n"
   ]
  },
  {
   "cell_type": "markdown",
   "id": "2bf4d0e7-9bd8-4f69-8588-4bdac378e9c7",
   "metadata": {},
   "source": [
    "* Python is an object programming language .Almost evrything in python is an object, with it's properties and methods  a class is an object constructor, or a \"blueprint \"for creating objects."
   ]
  },
  {
   "cell_type": "code",
   "execution_count": 11,
   "id": "52f56414-54f0-4f5b-b9d5-e14a6c342c57",
   "metadata": {},
   "outputs": [
    {
     "name": "stdout",
     "output_type": "stream",
     "text": [
      "5\n"
     ]
    }
   ],
   "source": [
    "# example of class \n",
    "class myclass:\n",
    "    x=5\n",
    "# creating an object for a class\n",
    "\n",
    "p1=myclass()\n",
    "print(p1.x)"
   ]
  },
  {
   "cell_type": "markdown",
   "id": "f280e6ac-d013-4709-aabc-46666c3e48d7",
   "metadata": {},
   "source": [
    "***\n",
    "#### Q2. Name the four pillars of OOPs."
   ]
  },
  {
   "cell_type": "markdown",
   "id": "9be34bf3-6cba-4f1f-a93a-883a4cfca4dc",
   "metadata": {},
   "source": [
    "#### The four pillars for OOP are:\n",
    "1. Abstraction\n",
    "\n",
    "2. Encapsulation\n",
    "\n",
    "3. Inheritance\n",
    "\n",
    "4. Polymorphism\n",
    "\n",
    "***"
   ]
  },
  {
   "cell_type": "markdown",
   "id": "2fdd1f1d-2da5-4630-ae4d-37ac97540249",
   "metadata": {},
   "source": [
    "### Q3. Explain why the __init__() function is used. Give a suitable example."
   ]
  },
  {
   "cell_type": "markdown",
   "id": "ef821814-10a5-489e-b579-d8c4e0e01289",
   "metadata": {},
   "source": [
    "#### To understand the meaning of classes we have to understand the built-in __init__() function.All classes have a function called __init__(), which is always executed when the class is being initiated\n",
    "#### For example:-\n",
    "\n",
    "\n"
   ]
  },
  {
   "cell_type": "code",
   "execution_count": 1,
   "id": "b66dda12-eca3-495a-a2ea-e3c3fe3f9a1d",
   "metadata": {},
   "outputs": [
    {
     "name": "stdout",
     "output_type": "stream",
     "text": [
      "kalyani\n",
      "23\n"
     ]
    }
   ],
   "source": [
    "class Person:\n",
    "  def __init__(self, name, age):\n",
    "        self.name = name\n",
    "        self.age = age\n",
    "\n",
    "p1 = Person(\"kalyani\", 23)\n",
    "\n",
    "print(p1.name)\n",
    "print(p1.age)"
   ]
  },
  {
   "cell_type": "markdown",
   "id": "d2bb653c-1a32-4b77-962e-e6e65bc34b7c",
   "metadata": {},
   "source": [
    "****\n",
    "\n",
    "#### Q4. Why self is used in OOPs?"
   ]
  },
  {
   "cell_type": "markdown",
   "id": "9b580b82-4be8-4e42-ba5e-99ef3291211a",
   "metadata": {},
   "source": [
    "* The self variable is used to represent the instance of the class which is often used in object-oriented programming. It works as a reference to the object. Python uses the self parameter to refer to instance attributes\n",
    "\n",
    "****"
   ]
  },
  {
   "cell_type": "markdown",
   "id": "2573edfe-d5ae-41db-b204-7d1154248443",
   "metadata": {},
   "source": [
    "#### Q5. What is inheritance? Give an example for each type of inheritance."
   ]
  },
  {
   "cell_type": "markdown",
   "id": "12834587-19bb-45b9-bde8-058c29cb5fc6",
   "metadata": {},
   "source": [
    "* Inheritance is a process of obtaining properties and characteristics(variables and methods) of another class. In this hierarchical order, the class which inherits another class is called subclass or child class, and the other class is the parent class.\n",
    "\n",
    "#### There are types of inheritances:\n",
    "\n",
    "* Single Inheritance\n",
    "* Multiple Inheritance\n",
    "* Multilevel Inheritance\n"
   ]
  },
  {
   "cell_type": "code",
   "execution_count": 4,
   "id": "8ea610a4-4e1e-4916-b291-d96ef87f841f",
   "metadata": {},
   "outputs": [
    {
     "name": "stdout",
     "output_type": "stream",
     "text": [
      "This function is in parent class.\n",
      "This function is in child class.\n"
     ]
    }
   ],
   "source": [
    "# single inheritance\n",
    "class Parent:\n",
    "    def func1(self):\n",
    "        print(\"This function is in parent class.\")\n",
    " \n",
    "# Derived class\n",
    " \n",
    " \n",
    "class Child(Parent):\n",
    "    def func2(self):\n",
    "        print(\"This function is in child class.\")\n",
    " \n",
    " \n",
    "# Driver's code\n",
    "object = Child()\n",
    "object.func1()\n",
    "object.func2()"
   ]
  },
  {
   "cell_type": "code",
   "execution_count": 7,
   "id": "6f65b7fc-1b7f-4e75-bbcb-9d1c7dfed9e2",
   "metadata": {},
   "outputs": [
    {
     "name": "stdout",
     "output_type": "stream",
     "text": [
      "Father : RAM\n",
      "Mother : SITA\n"
     ]
    }
   ],
   "source": [
    " # multiple inheritance \n",
    "\n",
    " class Mother:\n",
    "    mothername = \"\"\n",
    " \n",
    "    def mother(self):\n",
    "        print(self.mothername)\n",
    " \n",
    "# Base class2\n",
    " \n",
    " \n",
    "class Father:\n",
    "    fathername = \"\"\n",
    " \n",
    "    def father(self):\n",
    "        print(self.fathername)\n",
    " \n",
    "# Derived class\n",
    " \n",
    " \n",
    "class Son(Mother, Father):\n",
    "    def parents(self):\n",
    "        print(\"Father :\", self.fathername)\n",
    "        print(\"Mother :\", self.mothername)\n",
    " \n",
    " \n",
    "# Driver's code\n",
    "s1 = Son()\n",
    "s1.fathername = \"RAM\"\n",
    "s1.mothername = \"SITA\"\n",
    "s1.parents()\n"
   ]
  },
  {
   "cell_type": "code",
   "execution_count": 8,
   "id": "6a71c809-a814-40e1-849c-fd485a1f64b5",
   "metadata": {},
   "outputs": [
    {
     "name": "stdout",
     "output_type": "stream",
     "text": [
      "Grandfather name : kisanrao\n",
      "Father name : santosh\n",
      "daughter name : kalyani\n"
     ]
    }
   ],
   "source": [
    " # multilevel inheritance\n",
    "class Grandfather:\n",
    " \n",
    "    def __init__(self, grandfathername):\n",
    "        self.grandfathername = grandfathername\n",
    "\n",
    " \n",
    " \n",
    "class Father(Grandfather):\n",
    "    def __init__(self, fathername, grandfathername):\n",
    "        self.fathername = fathername\n",
    " \n",
    "        Grandfather.__init__(self, grandfathername)\n",
    " \n",
    "\n",
    " \n",
    "class Son(Father):\n",
    "    def __init__(self, daughtername, fathername, grandfathername):\n",
    "        self.daughtername = daughtername\n",
    " \n",
    "        Father.__init__(self, fathername, grandfathername)\n",
    " \n",
    "    def print_name(self):\n",
    "        print('Grandfather name :', self.grandfathername)\n",
    "        print(\"Father name :\", self.fathername)\n",
    "        print(\"daughter name :\", self.daughtername)\n",
    "\n",
    "s1 = Son('kalyani', 'santosh', 'kisanrao')\n",
    "\n",
    "s1.print_name()\n",
    "\n"
   ]
  },
  {
   "cell_type": "markdown",
   "id": "064316a0-a783-451e-8502-816803937e01",
   "metadata": {},
   "source": [
    "***"
   ]
  },
  {
   "cell_type": "code",
   "execution_count": null,
   "id": "d42825a6-f743-4a02-9750-f554492ce774",
   "metadata": {},
   "outputs": [],
   "source": []
  }
 ],
 "metadata": {
  "kernelspec": {
   "display_name": "Python 3 (ipykernel)",
   "language": "python",
   "name": "python3"
  },
  "language_info": {
   "codemirror_mode": {
    "name": "ipython",
    "version": 3
   },
   "file_extension": ".py",
   "mimetype": "text/x-python",
   "name": "python",
   "nbconvert_exporter": "python",
   "pygments_lexer": "ipython3",
   "version": "3.10.8"
  }
 },
 "nbformat": 4,
 "nbformat_minor": 5
}
