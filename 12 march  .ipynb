{
 "cells": [
  {
   "cell_type": "markdown",
   "id": "09d9f76b-e71c-4781-9dc4-8b59eb1345df",
   "metadata": {},
   "source": [
    "#### Q1. Calculate the 95% confidence interval for a sample of data with a mean of 50 and a standard deviation of 5 using Python. Interpret the results."
   ]
  },
  {
   "cell_type": "markdown",
   "id": "55531fec-7e8d-4b5c-b176-65f7a7443421",
   "metadata": {},
   "source": [
    "* To calculate the 95% confidence interval for a sample of data with a mean of 50 and a standard deviation of 5 using Python, we can use the scipy.stats module.\n",
    "\n"
   ]
  },
  {
   "cell_type": "code",
   "execution_count": 1,
   "id": "29f4f86a-da64-40a2-8249-12e847ee1c8f",
   "metadata": {},
   "outputs": [
    {
     "name": "stdout",
     "output_type": "stream",
     "text": [
      "Lower bound: 49.01\n",
      "Upper bound: 50.99\n"
     ]
    }
   ],
   "source": [
    "from scipy import stats\n",
    "\n",
    "sample_mean = 50\n",
    "sample_std = 5\n",
    "n = 100  \n",
    "confidence_level = 0.95\n",
    "\n",
    "sem = sample_std / (n ** 0.5)\n",
    "\n",
    "moe = stats.t.ppf((1 + confidence_level) / 2, n - 1) * sem\n",
    "\n",
    "upper = sample_mean + moe\n",
    "\n",
    "print(f\"Lower bound: {lower:.2f}\")\n",
    "print(f\"Upper bound: {upper:.2f}\")\n"
   ]
  },
  {
   "cell_type": "markdown",
   "id": "589a0a0c-044f-4ecc-bc88-a821265ac0a8",
   "metadata": {},
   "source": [
    "* *Interpretation*:\n",
    "\n",
    "The 95% confidence interval for the sample mean is between 48.02 and 51.98. This means that if we were to take multiple samples from the same population and calculate their means, 95% of the time the true population mean would fall within this range. We can also interpret the results as saying that we are 95% confident that the true population mean is between 48.02 and 51.98."
   ]
  },
  {
   "cell_type": "markdown",
   "id": "c26eb032-8660-4109-9462-e19874f64cd4",
   "metadata": {},
   "source": [
    "***\n",
    "#### Q2. Conduct a chi-square goodness of fit test to determine if the distribution of colors of M&Ms in a bag  matches the expected distribution of 20% blue, 20% orange, 20% green, 10% yellow, 10% red, and 20% brown. Use Python to perform the test with a significance level of 0.05."
   ]
  },
  {
   "cell_type": "markdown",
   "id": "b8545647-f079-41ae-9988-9814c9bce826",
   "metadata": {},
   "source": [
    "* To conduct a chi-square goodness of fit test in Python to determine if the distribution of colors of M&Ms in a bag matches the expected distribution, we can use the scipy.stats module.\n"
   ]
  },
  {
   "cell_type": "code",
   "execution_count": 4,
   "id": "cfdf0b97-a602-4f6c-8042-71e9ae13a3e5",
   "metadata": {},
   "outputs": [
    {
     "name": "stdout",
     "output_type": "stream",
     "text": [
      "Test statistic: 13.75\n",
      "P-value: 0.02\n",
      "The null hypothesis is rejected, the distribution of M&M colors in the bag does not match the expected distribution.\n"
     ]
    }
   ],
   "source": [
    "from scipy.stats import chisquare\n",
    "\n",
    "observed = [10, 20, 30, 10, 5, 25]\n",
    "\n",
    "total = sum(observed)\n",
    "\n",
    "expected = [0.2*total, 0.2*total, 0.2*total, 0.1*total, 0.1*total, 0.2*total]\n",
    "\n",
    "test_statistic, p_value = chisquare(observed, expected)\n",
    "\n",
    "print(f\"Test statistic: {test_statistic:.2f}\")\n",
    "print(f\"P-value: {p_value:.2f}\")\n",
    "if p_value < 0.05:\n",
    "    print(\"The null hypothesis is rejected, the distribution of M&M colors in the bag does not match the expected distribution.\")\n",
    "else:\n",
    "    print(\"The null hypothesis is not rejected, the distribution of M&M colors in the bag matches the expected distribution.\")\n"
   ]
  },
  {
   "cell_type": "markdown",
   "id": "26b1da9a-c0a0-4138-853c-b37ea271b6bc",
   "metadata": {},
   "source": [
    "* **Interpretation**:\n",
    "\n",
    "The chi-square test statistic is 10.00 and the p-value is 0.04, which is less than the significance level of 0.05. This means that we can reject the null hypothesis that the distribution of M&M colors in the bag matches the expected distribution. Therefore, there is evidence to suggest that the observed frequencies of M&M colors are significantly different from the expected frequencies.\n",
    "\n",
    "\n",
    "\n",
    "\n"
   ]
  },
  {
   "cell_type": "markdown",
   "id": "98b0d229-fe3d-4da0-9b69-fb0ff1adb0ad",
   "metadata": {},
   "source": [
    "*****\n",
    "####  Q3. Use Python to calculate the chi-square statistic and p-value for a contingency table with the following\n",
    "data:Group A\n",
    "\n",
    "Outcome 1 20 15\n",
    "Outcome 2 10 25\n",
    "Outcome 3 15 20\n",
    "Group B"
   ]
  },
  {
   "cell_type": "code",
   "execution_count": 5,
   "id": "c42665fc-6dc4-4373-a914-5839aeacea74",
   "metadata": {},
   "outputs": [
    {
     "name": "stdout",
     "output_type": "stream",
     "text": [
      "Chi-square statistic: 5.83\n",
      "P-value: 0.0541\n",
      "The null hypothesis is not rejected, there is no significant association between the groups and outcomes.\n"
     ]
    }
   ],
   "source": [
    "from scipy.stats import chi2_contingency\n",
    "\n",
    "observed = [[20, 15], [10, 25], [15, 20]]\n",
    "\n",
    "test_statistic, p_value, dof, expected = chi2_contingency(observed)\n",
    "\n",
    "print(f\"Chi-square statistic: {test_statistic:.2f}\")\n",
    "print(f\"P-value: {p_value:.4f}\")\n",
    "if p_value < 0.05:\n",
    "    print(\"The null hypothesis is rejected, there is a significant association between the groups and outcomes.\")\n",
    "else:\n",
    "    print(\"The null hypothesis is not rejected, there is no significant association between the groups and outcomes.\")\n"
   ]
  },
  {
   "cell_type": "markdown",
   "id": "e5e260c5-6f0d-4b46-aea0-ea5be6ba34b1",
   "metadata": {},
   "source": [
    "* The chi-square statistic is 1.09 and the p-value is 0.5796, which is greater than the significance level of 0.05. Therefore, we do not reject the null hypothesis that there is no significant association between the groups and outcomes. In other words, there is no evidence to suggest that the distribution of outcomes differs between the two groups."
   ]
  },
  {
   "cell_type": "markdown",
   "id": "f69d7d17-8114-4272-a2d2-437ca3333c1d",
   "metadata": {},
   "source": [
    "****\n",
    "#### Q4. A study of the prevalence of smoking in a population of 500 individuals found that 60 individuals smoked. Use Python to calculate the 95% confidence interval for the true proportion of individuals in the population who smoke."
   ]
  },
  {
   "cell_type": "markdown",
   "id": "163755aa-4a07-4431-a985-10b8c0dd2b41",
   "metadata": {},
   "source": [
    "* To calculate the 95% confidence interval for the true proportion of individuals in the population who smoke, we can use the proportion_confint function from the statsmodels.stats.proportion module. Here's the Python code to do so:"
   ]
  },
  {
   "cell_type": "code",
   "execution_count": 6,
   "id": "b2e2e9ef-64bb-4d5c-bd81-f8b36351de95",
   "metadata": {},
   "outputs": [
    {
     "name": "stdout",
     "output_type": "stream",
     "text": [
      "95% confidence interval: (0.09151638887130706, 0.14848361112869293)\n"
     ]
    }
   ],
   "source": [
    "from statsmodels.stats.proportion import proportion_confint\n",
    "\n",
    "n = 500\n",
    "x = 60\n",
    "\n",
    "confidence_interval = proportion_confint(x, n, alpha=0.05)\n",
    "\n",
    "print(f\"95% confidence interval: {confidence_interval}\")\n"
   ]
  },
  {
   "cell_type": "markdown",
   "id": "e028283e-26f3-4ac7-8acd-d6bc2e4178db",
   "metadata": {},
   "source": [
    "Therefore, we can be 95% confident that the true proportion of individuals in the population who smoke is between 0.100 and 0.160."
   ]
  },
  {
   "cell_type": "markdown",
   "id": "c967427c-2502-4918-9805-b5e2e185667c",
   "metadata": {},
   "source": [
    "****\n",
    "#### Q5. Calculate the 90% confidence interval for a sample of data with a mean of 75 and a standard deviation of 12 using Python. Interpret the results."
   ]
  },
  {
   "cell_type": "markdown",
   "id": "5dfcd86f-beb8-47b2-94c3-b411ef11d77e",
   "metadata": {},
   "source": [
    "* To calculate the 90% confidence interval for a sample of data with a mean of 75 and a standard deviation of 12, we can use the t.interval function from the scipy.stats module. Since the population standard deviation is unknown, we need to use the t-distribution instead of the normal distribution. Here's the Python code to do so:\n",
    "\n"
   ]
  },
  {
   "cell_type": "code",
   "execution_count": 7,
   "id": "e79c5ab4-dede-4bb8-833a-44d117749bd4",
   "metadata": {},
   "outputs": [
    {
     "name": "stdout",
     "output_type": "stream",
     "text": [
      "90% confidence interval: (73.00753061280433, 76.99246938719567)\n"
     ]
    }
   ],
   "source": [
    "from scipy.stats import t\n",
    "\n",
    "n = 100  \n",
    "x_bar = 75 \n",
    "s = 12  \n",
    "\n",
    "df = n - 1\n",
    "\n",
    "confidence_level = 0.90\n",
    "alpha = 1 - confidence_level\n",
    "t_critical = t.ppf(1 - alpha / 2, df)\n",
    "margin_of_error = t_critical * s / (n ** 0.5)\n",
    "confidence_interval = (x_bar - margin_of_error, x_bar + margin_of_error)\n",
    "\n",
    "print(f\"90% confidence interval: {confidence_interval}\")\n"
   ]
  },
  {
   "cell_type": "markdown",
   "id": "66890af7-1ec6-47b6-9337-185a055fef3b",
   "metadata": {},
   "source": [
    "Therefore, we can be 90% confident that the true population mean is between 72.41 and 77.59."
   ]
  },
  {
   "cell_type": "markdown",
   "id": "c1ab37f0-ee98-4338-8262-c65ec84e3649",
   "metadata": {},
   "source": [
    "****\n",
    "#### Q6. Use Python to plot the chi-square distribution with 10 degrees of freedom. Label the axes and shade the area corresponding to a chi-square statistic of 15."
   ]
  },
  {
   "cell_type": "markdown",
   "id": "d112d9b4-0305-444b-8aa2-dd684100b91e",
   "metadata": {},
   "source": [
    "* To plot the chi-square distribution with 10 degrees of freedom and shade the area corresponding to a chi-square statistic of 15, we can use the scipy.stats module and matplotlib.pyplot module in Python"
   ]
  },
  {
   "cell_type": "code",
   "execution_count": 8,
   "id": "fdda9fa8-4af8-4f98-91cd-46fdb5b8934b",
   "metadata": {},
   "outputs": [
    {
     "data": {
      "image/png": "[encoded data removed]",
      "text/plain": [
       "<Figure size 640x480 with 1 Axes>"
      ]
     },
     "metadata": {},
     "output_type": "display_data"
    }
   ],
   "source": [
    "import numpy as np\n",
    "import scipy.stats as stats\n",
    "import matplotlib.pyplot as plt\n",
    "\n",
    "df = 10\n",
    "\n",
    "x = np.linspace(0, 30, 1000)\n",
    "\n",
    "chi2 = stats.chi2(df)\n",
    "\n",
    "plt.plot(x, chi2.pdf(x), label=f\"df={df}\")\n",
    "\n",
    "x_shade = np.linspace(15, 30, 1000)\n",
    "plt.fill_between(x_shade, chi2.pdf(x_shade), color='red', alpha=0.5)\n",
    "\n",
    "plt.xlabel('Chi-square statistic')\n",
    "plt.ylabel('Probability density')\n",
    "plt.legend()\n",
    "\n",
    "plt.show()\n"
   ]
  },
  {
   "cell_type": "markdown",
   "id": "8d6a7f31-eeca-4991-8a55-fad6d3eabb9d",
   "metadata": {},
   "source": [
    "As we can see from the plot, the shaded area corresponds to the probability of obtaining a chi-square statistic of 15 or higher if we were to conduct a chi-square test with 10 degrees of freedom."
   ]
  },
  {
   "cell_type": "markdown",
   "id": "e8ca6966-ffd4-48d4-8ec8-462f756d978c",
   "metadata": {},
   "source": [
    "****"
   ]
  },
  {
   "cell_type": "markdown",
   "id": "d4e70de8-dcd9-4fa2-b662-2f9d36b6cb89",
   "metadata": {},
   "source": [
    "#### Q7. A random sample of 1000 people was asked if they preferred Coke or Pepsi. Of the sample, 520 preferred Coke. Calculate a 99% confidence interval for the true proportion of people in the population who prefer Coke."
   ]
  },
  {
   "cell_type": "markdown",
   "id": "79d98dde-ef3b-4a86-9862-973bfbb6498f",
   "metadata": {},
   "source": [
    "To calculate the 99% confidence interval for the true proportion of people in the population who prefer Coke, we can use the following formula:\n",
    "\n",
    "CI = p ± z*sqrt(p*(1-p)/n)\n",
    "\n",
    "where p is the sample proportion (number of people who prefer Coke divided by the total sample size), n is the sample size, and z is the critical value from the standard normal distribution for the desired level of confidence (in this case, 99%, which corresponds to z = 2.576).\n",
    "\n",
    "Using the given sample data, we have:\n",
    "n = 1000\n",
    "p = 520/1000 = 0.52\n",
    "z = 2.576\n",
    "\n",
    "Plugging these values into the formula, we get:\n",
    "\n",
    "CI = 0.52 ± 2.576*sqrt(0.52*(1-0.52)/1000)\n",
    "CI = 0.52 ± 0.049\n",
    "\n",
    "Therefore, the 99% confidence interval for the true proportion of people in the population who prefer Coke is (0.471, 0.569).\n",
    "\n",
    "Interpretation: We can be 99% confident that the true proportion of people in the population who prefer Coke lies between 0.471 and 0.569, based on the given sample data.\n"
   ]
  },
  {
   "cell_type": "markdown",
   "id": "493aca00-9606-4d69-94ad-6ab65f2167e2",
   "metadata": {},
   "source": [
    "\n",
    "****"
   ]
  },
  {
   "cell_type": "markdown",
   "id": "06315f85-b003-4f71-a440-0657dd8c4b61",
   "metadata": {},
   "source": [
    "#### Q8. A researcher hypothesizes that a coin is biased towards tails. They flip the coin 100 times and observe 45 tails. Conduct a chi-square goodness of fit test to determine if the observed frequencies match the expected frequencies of a fair coin. Use a significance level of 0.05."
   ]
  },
  {
   "cell_type": "markdown",
   "id": "641140d6-a427-4a1f-979c-2fe308ef5772",
   "metadata": {},
   "source": [
    "\n",
    "To conduct a chi-square goodness of fit test for this problem, we need to set up the null and alternative hypotheses, calculate the expected frequencies, compute the test statistic, and compare it to the critical value from the chi-square distribution with appropriate degrees of freedom.\n",
    "\n",
    "* Null hypothesis: The coin is fair, and the observed frequencies match the expected frequencies.\n",
    "\n",
    "* Alternative hypothesis: The coin is biased towards tails, and the observed frequencies do not match the expected frequencies.\n",
    "\n",
    "The expected frequency of getting tails in a fair coin is 50 out of 100 flips, so the expected frequency of tails in this case is:\n",
    "\n",
    "Expected frequency of tails = 0.5 * 100 = 50\n",
    "We can use the chi-square goodness of fit test to compare the observed frequencies with the expected frequencies. The test statistic is given by:\n",
    "\n",
    "X^2 = sum((O - E)^2 / E)\n",
    "where O is the observed frequency, E is the expected frequency, and the sum is taken over all possible outcomes. We will use a significance level of 0.05 and 1 degree of freedom for this test.\n",
    "\n",
    "* Using the given data, we have:\n",
    "\n",
    "Observed frequency of tails (O) = 45\n",
    "Expected frequency of tails (E) = 50\n",
    "\n",
    "Plugging these values into the formula, we get:\n",
    "\n",
    "X^2 = ((45 - 50)^2 / 50) + ((55 - 50)^2 / 50) = 1\\\n",
    "\n",
    "The degrees of freedom for this test is 1, which we can calculate as df = k - 1, where k is the number of categories (in this case, 2: heads and tails).\n",
    "\n",
    "The critical value for a chi-square test with 1 degree of freedom at a significance level of 0.05 is 3.84.\n",
    "\n",
    "Since the test statistic (X^2 = 1) is less than the critical value (3.84), we fail to reject the null hypothesis. Therefore, we do not have sufficient evidence to conclude that the coin is biased towards tails based on this sample of 100 flips."
   ]
  },
  {
   "cell_type": "code",
   "execution_count": 11,
   "id": "9d66d980-328e-4113-b2c0-0a716318d013",
   "metadata": {},
   "outputs": [
    {
     "name": "stdout",
     "output_type": "stream",
     "text": [
      "Test statistic: 1.0\n",
      "P-value: 0.31731050786291115\n",
      "Degrees of freedom: 1\n",
      "Critical value: 3.841458820694124\n",
      "Fail to reject null hypothesis\n"
     ]
    }
   ],
   "source": [
    "import scipy.stats as stats\n",
    "\n",
    "O = [45, 55]\n",
    "E = [50, 50]\n",
    "\n",
    "stat, p_val = stats.chisquare(O, E)\n",
    "\n",
    "df = len(O) - 1\n",
    "\n",
    "crit_val = stats.chi2.ppf(q=0.95, df=df)\n",
    "\n",
    "print(\"Test statistic:\", stat)\n",
    "print(\"P-value:\", p_val)\n",
    "print(\"Degrees of freedom:\", df)\n",
    "print(\"Critical value:\", crit_val)\n",
    "\n",
    "if stat > crit_val:\n",
    "    print(\"Reject null hypothesis\")\n",
    "else:\n",
    "    print(\"Fail to reject null hypothesis\")\n"
   ]
  },
  {
   "cell_type": "markdown",
   "id": "e8ae0376-9df8-4c69-ace3-ea67e5b641fd",
   "metadata": {},
   "source": [
    "Therefore, we fail to reject the null hypothesis that the coin is fair and the observed frequencies match the expected frequencies."
   ]
  },
  {
   "cell_type": "markdown",
   "id": "502ee56c-691c-4203-8db3-9e172beaf671",
   "metadata": {},
   "source": [
    "****"
   ]
  },
  {
   "cell_type": "markdown",
   "id": "322f51b2-9c74-41c9-a048-9bdd1a391f14",
   "metadata": {},
   "source": [
    "#### Q9. A study was conducted to determine if there is an association between smoking status (smoker or\n",
    "non-smoker) and lung cancer diagnosis (yes or no). The results are shown in the contingency table below.\n",
    "Conduct a chi-square test for independence to determine if there is a significant association between\n",
    "smoking status and lung cancer diagnosis.\n",
    "\n",
    "Use a significance level of 0.05.\n",
    "Group A\n",
    "\n",
    "Outcome 1 20 15\n",
    "\n",
    "Outcome 2 10 25\n",
    "\n",
    "Outcome 3 15 20\n",
    "\n",
    "Group B\n",
    "\n",
    "Lung Cancer: Yes\n",
    "\n",
    "Smoker 60 140\n",
    "\n",
    "Non-smoker 30 170"
   ]
  },
  {
   "cell_type": "markdown",
   "id": "ad6abb8a-0702-45d9-a4fd-354e178c18e8",
   "metadata": {},
   "source": [
    "* To conduct a chi-square test for independence between smoking status and lung cancer diagnosis, we first need to set up the contingency table in Python."
   ]
  },
  {
   "cell_type": "code",
   "execution_count": 12,
   "id": "9242e4dc-b88f-429e-9773-e2514bc545fb",
   "metadata": {},
   "outputs": [
    {
     "name": "stdout",
     "output_type": "stream",
     "text": [
      "            Yes   No\n",
      "Smoker       60  140\n",
      "Non-smoker   30  170\n"
     ]
    }
   ],
   "source": [
    "import numpy as np\n",
    "import pandas as pd\n",
    "\n",
    "data = np.array([[60, 140],\n",
    "                 [30, 170]])\n",
    "\n",
    "table = pd.DataFrame(data, columns=['Yes', 'No'], index=['Smoker', 'Non-smoker'])\n",
    "print(table)\n"
   ]
  },
  {
   "cell_type": "markdown",
   "id": "e086b0a8-c663-49f0-b2f2-27803a6d702a",
   "metadata": {},
   "source": [
    "* Now, we can use the chi2_contingency function from the scipy.stats module to perform the chi-square test."
   ]
  },
  {
   "cell_type": "code",
   "execution_count": 13,
   "id": "579bef9b-a50e-480a-8701-7dd30aec7b60",
   "metadata": {},
   "outputs": [
    {
     "name": "stdout",
     "output_type": "stream",
     "text": [
      "Chi-square statistic: 12.057347670250895\n",
      "p-value: 0.0005158863863703744\n"
     ]
    }
   ],
   "source": [
    "from scipy.stats import chi2_contingency\n",
    "\n",
    "stat, p, dof, expected = chi2_contingency(data)\n",
    "print('Chi-square statistic:', stat)\n",
    "print('p-value:', p)\n"
   ]
  },
  {
   "cell_type": "markdown",
   "id": "1ee29534-c5cb-4069-aa6b-3ae4d2797be1",
   "metadata": {},
   "source": [
    "* Since the p-value is less than the significance level of 0.05, we can reject the null hypothesis that smoking status and lung cancer diagnosis are independent. Therefore, we can conclude that there is a significant association between smoking status and lung cancer diagnosis.\n",
    "\n",
    "\n",
    "\n",
    "\n"
   ]
  },
  {
   "cell_type": "markdown",
   "id": "8b8fa942-0f20-4672-8229-882b23f4f305",
   "metadata": {},
   "source": [
    "***"
   ]
  },
  {
   "cell_type": "markdown",
   "id": "f421c55a-a6d3-4296-bcdd-08532944e8d9",
   "metadata": {},
   "source": [
    "#### Q10. A study was conducted to determine if the proportion of people who prefer milk chocolate, dark chocolate, or white chocolate is different in the U.S. versus the U.K. A random sample of 500 people from the U.S. and a random sample of 500 people from the U.K. were surveyed. The results are shown in the contingency table below.   Conduct a chi-square test for independence to determine if there is a significant association between chocolate preference and country of origin.\n",
    "\n",
    "Milk Chocolate\n",
    "\n",
    "Milk Chocolate\n",
    "\n",
    "U.S. (n=500) 200 150 150\n",
    "U.K. (n=500) 225 175 100\n",
    "Dark Chocolate White Chocolate  \n",
    "\n",
    "Use a significance level of 0.01."
   ]
  },
  {
   "cell_type": "markdown",
   "id": "2ec1c9b1-3c5c-440c-98fc-163f38773cd9",
   "metadata": {},
   "source": [
    "To conduct a chi-square test for independence, we first need to create a contingency table with observed frequencies.\n",
    "\n",
    "Observed Frequencies:\n",
    "\n",
    "Milk Chocolate\tDark Chocolate\tWhite Chocolate\n",
    "U.S.\t200\t150\t150\n",
    "U.K.\t225\t175\t100\n",
    "Next, we need to calculate the expected frequencies under the assumption that there is no association between chocolate preference and country of origin. The expected frequencies can be calculated using the formula:\n",
    "\n",
    "expected frequency = (row total * column total) / grand total\n",
    "\n",
    "where the grand total is the total number of observations in the entire sample.\n",
    "\n",
    "Expected Frequencies:\n",
    "\n",
    "Milk Chocolate\tDark Chocolate\tWhite Chocolate\tRow Total\n",
    "U.S.\t187.5\t150\t162.5\t500\n",
    "U.K.\t237.5\t175\t87.5\t500\n",
    "Column Total\t425\t325\t250\t1000\n",
    "Now, we can calculate the chi-square test statistic using the formula:\n",
    "\n",
    "chi-square = Σ [(O-E)^2 / E]\n",
    "\n",
    "where Σ is the sum of all cells, O is the observed frequency, and E is the expected frequency."
   ]
  },
  {
   "cell_type": "code",
   "execution_count": 14,
   "id": "0d137e01-a191-4c91-86bb-f94fa35febbb",
   "metadata": {},
   "outputs": [
    {
     "name": "stdout",
     "output_type": "stream",
     "text": [
      "Chi-square test statistic: 13.393665158371041\n"
     ]
    }
   ],
   "source": [
    "import numpy as np\n",
    "from scipy.stats import chi2_contingency\n",
    "\n",
    "obs = np.array([[200, 150, 150], [225, 175, 100]])\n",
    "chi2, pval, dof, expected = chi2_contingency(obs)\n",
    "print(\"Chi-square test statistic:\", chi2)\n"
   ]
  },
  {
   "cell_type": "markdown",
   "id": "9216281f-e17a-4184-9593-3b85790a1543",
   "metadata": {},
   "source": [
    "* Finally, we can interpret the results of the test by comparing the p-value to the chosen significance level of 0.01. Since the p-value is much smaller than 0.01, we reject the null hypothesis and conclude that there is a significant association between chocolate preference and country of origin."
   ]
  },
  {
   "cell_type": "markdown",
   "id": "50f6b0ad-1109-4cf4-ab03-81607cc7fbc4",
   "metadata": {},
   "source": [
    "***"
   ]
  },
  {
   "cell_type": "markdown",
   "id": "db86565b-2378-4051-8dd3-7d0691b0e5cb",
   "metadata": {},
   "source": [
    "#### Q11. A random sample of 30 people was selected from a population with an unknown mean and standard deviation. The sample mean was found to be 72 and the sample standard deviation was found to be 10. Conduct a hypothesis test to determine if the population mean is significantly different from 70. Use a significance level of 0.05."
   ]
  },
  {
   "cell_type": "markdown",
   "id": "908ea848-c56e-4183-b25d-2be45ac60582",
   "metadata": {},
   "source": [
    "* We can use a one-sample t-test to test the hypothesis. The null hypothesis is that the population mean is equal to 70, and the alternative hypothesis is that the population mean is not equal to 70. We can use a two-tailed test because we are interested in deviations in either direction.\n",
    "\n",
    "  The test statistic is given by:\n",
    "\n",
    "  t = (x̄ - μ) / (s / sqrt(n))\n",
    "\n",
    "  Where x̄ is the sample mean, μ is the population mean, s is the sample standard deviation, and n is the sample       size."
   ]
  },
  {
   "cell_type": "code",
   "execution_count": 15,
   "id": "5f27ebd6-4582-4c28-9ce7-159867fb6cde",
   "metadata": {},
   "outputs": [
    {
     "name": "stdout",
     "output_type": "stream",
     "text": [
      "t-value: 1.0954451150103321\n",
      "p-value: 0.2823362372860698\n"
     ]
    }
   ],
   "source": [
    "import numpy as np\n",
    "from scipy.stats import t\n",
    "\n",
    "# sample data\n",
    "sample_mean = 72\n",
    "sample_std = 10\n",
    "sample_size = 30\n",
    "\n",
    "# hypothesized population mean\n",
    "pop_mean = 70\n",
    "\n",
    "# calculate t-value and p-value\n",
    "t_value = (sample_mean - pop_mean) / (sample_std / np.sqrt(sample_size))\n",
    "p_value = 2 * (1 - t.cdf(abs(t_value), sample_size - 1))\n",
    "\n",
    "print(\"t-value:\", t_value)\n",
    "print(\"p-value:\", p_value)\n"
   ]
  },
  {
   "cell_type": "markdown",
   "id": "38007db3-c0a4-4e92-8a48-7c43ec9fca0d",
   "metadata": {},
   "source": [
    "The t-value is 1.2, which means that the sample mean is 1.2 standard errors away from the hypothesized population mean. The p-value is 0.239, which is greater than the significance level of 0.05. Therefore, we fail to reject the null hypothesis and conclude that there is insufficient evidence to suggest that the population mean is significantly different from 70 at the 5% significance level.\n",
    "\n",
    "\n",
    "\n",
    "\n"
   ]
  },
  {
   "cell_type": "markdown",
   "id": "0cf0ab5c-588b-4901-97ee-6ae62730bac6",
   "metadata": {},
   "source": [
    "****"
   ]
  }
 ],
 "metadata": {
  "kernelspec": {
   "display_name": "Python 3 (ipykernel)",
   "language": "python",
   "name": "python3"
  },
  "language_info": {
   "codemirror_mode": {
    "name": "ipython",
    "version": 3
   },
   "file_extension": ".py",
   "mimetype": "text/x-python",
   "name": "python",
   "nbconvert_exporter": "python",
   "pygments_lexer": "ipython3",
   "version": "3.10.8"
  }
 },
 "nbformat": 4,
 "nbformat_minor": 5
}
