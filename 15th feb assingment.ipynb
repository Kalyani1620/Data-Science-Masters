{
 "cells": [
  {
   "cell_type": "markdown",
   "id": "bc608d80-5f57-459e-9df7-fa214469a29e",
   "metadata": {},
   "source": [
    "### Q1. What is multiprocessing in python? Why is it useful?"
   ]
  },
  {
   "cell_type": "markdown",
   "id": "c12d6159-fba0-4d33-b34d-11d733023c2a",
   "metadata": {},
   "source": [
    "* Multiprocessing is a package that supports spawning processes using an API similar to the threading module. The multiprocessing package offers both local and remote concurrency, effectively side-stepping the Global Interpreter Lock by using subprocesses instead of threads.\n",
    "* Multiprocessing in Python is a built-in package that allows the system to run multiple processes simultaneously. It will enable the breaking of applications into smaller threads that can run independently.\n",
    "***\n",
    "\n"
   ]
  },
  {
   "cell_type": "markdown",
   "id": "9c329ba9-142d-4bf3-b3c8-9b576c3f5e39",
   "metadata": {},
   "source": [
    "### Q2. What are the differences between multiprocessing and multithreading?"
   ]
  },
  {
   "cell_type": "markdown",
   "id": "95db9854-98f9-4616-a049-9bad37b495c9",
   "metadata": {},
   "source": [
    "***Multiprocessing*** :-\n",
    "By formal definition, multithreading refers to the ability of a processor to execute multiple threads concurrently, where each thread runs a process.\n",
    "* Multithreading is useful for IO-bound processes, such as reading files from a network or database since each thread can run the IO-bound process concurrently. \n",
    "\n",
    "***Multithreading*** :-\n",
    "multiprocessing refers to the ability of a system to run multiple processors concurrently, where each processor can run one or more threads.\n",
    "* Multiprocessing is useful for CPU-bound processes, such as computationally heavy tasks since it will benefit from having multiple processors; similar to how multicore computers work faster than computers with a single core.\n",
    "***\n",
    "\n"
   ]
  },
  {
   "cell_type": "markdown",
   "id": "aff18312-8f10-4eef-b2f5-6d0d04d2dd99",
   "metadata": {},
   "source": [
    "### Q3. Write a python code to create a process using the multiprocessing module."
   ]
  },
  {
   "cell_type": "code",
   "execution_count": 3,
   "id": "a9dc4927-5396-4581-a6e6-de2aee8ba258",
   "metadata": {},
   "outputs": [],
   "source": [
    "import multiprocessing"
   ]
  },
  {
   "cell_type": "code",
   "execution_count": 9,
   "id": "f5fc6f79-265d-491f-8afb-ce0c97bc7258",
   "metadata": {},
   "outputs": [
    {
     "name": "stdout",
     "output_type": "stream",
     "text": [
      "this is my main programe\n",
      "this is my multiprocessing programe\n"
     ]
    }
   ],
   "source": [
    "def test():\n",
    "    print(\"this is my multiprocessing programe\")\n",
    "\n",
    "if __name__ == \"__main__\":\n",
    "    m = multiprocessing.Process(target=test)\n",
    "    print(\"this is my main programe\")\n",
    "    m.start()\n",
    "    m.join()"
   ]
  },
  {
   "cell_type": "markdown",
   "id": "3799c47a-d729-40d4-a73f-9c5116efeb34",
   "metadata": {},
   "source": [
    "*** \n",
    "### Q4. What is a multiprocessing pool in python? Why is it used?"
   ]
  },
  {
   "cell_type": "markdown",
   "id": "381b08bc-652b-426c-ab73-248e8b09ecad",
   "metadata": {},
   "source": [
    "* The Python Multiprocessing Pool class allows you to create and manage process pools in Python. Although the Multiprocessing Pool has been available in Python for a long time, it is not widely used, perhaps because of misunderstandings of the capabilities and limitations of Processes and Threads in Python.\n",
    "* Python multiprocessing pool can be used for parallel execution of function across multiple input values, distributing the input data across processes (data parallelism).\n",
    "***"
   ]
  },
  {
   "cell_type": "markdown",
   "id": "2d8e7667-0209-48f4-b8e4-09c739e9d86b",
   "metadata": {},
   "source": [
    "### Q5. How can we create a pool of worker processes in python using the multiprocessing module?"
   ]
  },
  {
   "cell_type": "code",
   "execution_count": 3,
   "id": "7c1b790e-ddd1-44be-b677-aa092d8d2772",
   "metadata": {},
   "outputs": [
    {
     "name": "stdout",
     "output_type": "stream",
     "text": [
      "[1, 8, 27, 64, 125, 216, 343, 512]\n"
     ]
    }
   ],
   "source": [
    "# Creating a pool of functions for cube\n",
    "\n",
    "import multiprocessing\n",
    "def cube(n):\n",
    "    return n**3\n",
    "if __name__ == '__main__':\n",
    "    with multiprocessing.Pool(processes=3) as pool :\n",
    "        outcome = pool.map(cube, [1,2,3,4,5,6,7,8])\n",
    "        print(outcome)"
   ]
  },
  {
   "cell_type": "markdown",
   "id": "3c871637-f686-49e5-abe3-8b9e027956f5",
   "metadata": {},
   "source": [
    "*** \n",
    "### Q6. Write a python program to create 4 processes, each process should print a different number using the multiprocessing module in python."
   ]
  },
  {
   "cell_type": "code",
   "execution_count": 6,
   "id": "72223198-6fee-49b2-94d9-584c2945f84c",
   "metadata": {},
   "outputs": [
    {
     "name": "stdout",
     "output_type": "stream",
     "text": [
      "Square: 100\n",
      "Cube: 1000\n",
      "Done!\n"
     ]
    }
   ],
   "source": [
    "# Program to get square & cube of given number by multiprocessing module\n",
    "import multiprocessing\n",
    "\n",
    "def print_cube(num):\n",
    "\tprint(\"Cube: {}\".format(num * num * num))\n",
    "\n",
    "def print_square(num):\n",
    "\tprint(\"Square: {}\".format(num * num))\n",
    "\n",
    "if __name__ == \"__main__\":\n",
    "\tp1 = multiprocessing.Process(target=print_square, args=(10, ))\n",
    "\tp2 = multiprocessing.Process(target=print_cube, args=(10, ))\n",
    "\n",
    "\tp1.start()\n",
    "\tp2.start()\n",
    "\n",
    "\tp1.join()\n",
    "\tp2.join()\n",
    "    \n",
    "\tprint(\"Done!\")\n"
   ]
  },
  {
   "cell_type": "markdown",
   "id": "6a0859f6-a90f-48b1-9456-86cdb4032a1c",
   "metadata": {},
   "source": [
    "***"
   ]
  }
 ],
 "metadata": {
  "kernelspec": {
   "display_name": "Python 3 (ipykernel)",
   "language": "python",
   "name": "python3"
  },
  "language_info": {
   "codemirror_mode": {
    "name": "ipython",
    "version": 3
   },
   "file_extension": ".py",
   "mimetype": "text/x-python",
   "name": "python",
   "nbconvert_exporter": "python",
   "pygments_lexer": "ipython3",
   "version": "3.10.8"
  }
 },
 "nbformat": 4,
 "nbformat_minor": 5
}
