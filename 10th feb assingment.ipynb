{
 "cells": [
  {
   "cell_type": "markdown",
   "id": "28f7a657-bbfa-4cc9-98ba-4568ee7a27bd",
   "metadata": {},
   "source": [
    "#### Q1. Which function is used to open a file? What are the different modes of opening a file? Explain each mode of file opening."
   ]
  },
  {
   "cell_type": "markdown",
   "id": "76cb0270-6e94-484c-ab07-05a535410c44",
   "metadata": {
    "jp-MarkdownHeadingCollapsed": true,
    "tags": []
   },
   "source": [
    "The **open()** function opens a file, and returns it as a file object.\n",
    "1. **Read Only (‘r’)** : Open text file for reading. The handle is positioned at the beginning of the file. If the file does not exists, raises the I/O error. This is also the default mode in which a file is opened.\n",
    "2. **Read and Write (‘r+’)**: Open the file for reading and writing. The handle is positioned at the beginning of the file. Raises I/O error if the file does not exist.\n",
    "3. **Write Only (‘w’)** : Open the file for writing. For the existing files, the data is truncated and over-written. The handle is positioned at the beginning of the file. Creates the file if the file does not exist.\n",
    "4. **Write and Read (‘w+’)** : Open the file for reading and writing. For an existing file, data is truncated and over-written. The handle is positioned at the beginning of the file.\n",
    "5. **Append Only (‘a’)**: Open the file for writing. The file is created if it does not exist. The handle is positioned at the end of the file. The data being written will be inserted at the end, after the existing data.\n",
    "6. **Append and Read (‘a+’)** : Open the file for reading and writing. The file is created if it does not exist. The handle is positioned at the end of the file. The data being written will be inserted at the end, after the existing data."
   ]
  },
  {
   "cell_type": "markdown",
   "id": "ab56f5c3-08e4-4713-8846-78a9f4fa38e8",
   "metadata": {
    "tags": []
   },
   "source": [
    "***\n",
    "#### Q2. Why close() function is used? Why is it important to close a file?"
   ]
  },
  {
   "cell_type": "markdown",
   "id": "c2634235-f648-4690-96b5-4ce09721c602",
   "metadata": {},
   "source": [
    "* The **close()** method closes an open file.\n",
    "\n",
    "* Because files are limited resources managed by the operating system, making sure files are closed after use will protect against hard-to-debug issues like running out of file handles or experiencing corrupted data."
   ]
  },
  {
   "cell_type": "markdown",
   "id": "9ff0f034-bfe3-4273-a238-bd09ea9e66a0",
   "metadata": {},
   "source": [
    "*** \n",
    "#### Q3. Write a python program to create a text file. Write ‘I want to become a Data Scientist’ in that file. Then close the file. Open this file and read the content of the file."
   ]
  },
  {
   "cell_type": "code",
   "execution_count": 16,
   "id": "1d14440b-9238-4981-a5d0-e03217d7590e",
   "metadata": {},
   "outputs": [],
   "source": [
    "file = open(\"data.txt\",\"w\")"
   ]
  },
  {
   "cell_type": "code",
   "execution_count": 17,
   "id": "957f83e0-5c54-4922-8088-b737fc7b638e",
   "metadata": {},
   "outputs": [
    {
     "data": {
      "text/plain": [
       "34"
      ]
     },
     "execution_count": 17,
     "metadata": {},
     "output_type": "execute_result"
    }
   ],
   "source": [
    "file.write(\"I want to become a Data Scientist.\")"
   ]
  },
  {
   "cell_type": "code",
   "execution_count": 18,
   "id": "f0009ce6-3dc0-4311-965a-e377a853fe4b",
   "metadata": {},
   "outputs": [],
   "source": [
    "file.close()"
   ]
  },
  {
   "cell_type": "code",
   "execution_count": 19,
   "id": "9706a7bf-0f78-479f-be1a-fa8dc6573490",
   "metadata": {},
   "outputs": [],
   "source": [
    "read_data = open(\"data.txt\", \"r\")"
   ]
  },
  {
   "cell_type": "code",
   "execution_count": 20,
   "id": "9d01f574-9703-4cc0-9f89-ed4df41d6af3",
   "metadata": {},
   "outputs": [
    {
     "data": {
      "text/plain": [
       "'I want to become a Data Scientist.'"
      ]
     },
     "execution_count": 20,
     "metadata": {},
     "output_type": "execute_result"
    }
   ],
   "source": [
    "read_data.read()"
   ]
  },
  {
   "cell_type": "markdown",
   "id": "712aca44-92df-4c15-bb65-860c74f5ee41",
   "metadata": {},
   "source": [
    "***\n",
    "#### Q4. Explain the following with python code: read(), readline() and readlines()."
   ]
  },
  {
   "cell_type": "markdown",
   "id": "aaaf1cd1-f16f-46e3-9917-cd7d744c2a25",
   "metadata": {},
   "source": [
    "* The **read()** method returns the specified number of bytes from the file. Default is -1 which means the whole file.\n",
    "* The **readline()** method returns one line from the file.You can also specified how many bytes from the line to return, by using the size parameter.\n",
    "* The **readlines()** method returns a list containing each line in the file as a list item. Use the hint parameter to limit the number of lines returned. If the total number of bytes returned exceeds the specified number, no more lines are returned.\n"
   ]
  },
  {
   "cell_type": "code",
   "execution_count": 25,
   "id": "2f3a5d4b-aeb6-4532-a937-9b088e09802f",
   "metadata": {},
   "outputs": [
    {
     "data": {
      "text/plain": [
       "719"
      ]
     },
     "execution_count": 25,
     "metadata": {},
     "output_type": "execute_result"
    }
   ],
   "source": [
    "### read()\n",
    "\n",
    "file = open(\"data1.txt\",\"w\")\n",
    "file.write(\"Data Science Masters course is highly curated and uniquely designed according to the latest industry standards. This program instills students the skills essential to knowledge discovery efforts to identify standard, novel, and truly differentiated solutions and decision-making, including skills in managing, querying, analyzing, visualizing, and extracting meaning from extremely large data sets. This trending program provides students with the statistical, mathematical and computational skills needed to meet the large-scale data science challenges of today's professional world. You will learn all the stack required to work in data science industry including cloud infrastructure and real-time industry projects.\")"
   ]
  },
  {
   "cell_type": "code",
   "execution_count": 26,
   "id": "084ea054-6b22-44fa-ae42-393c447bbda0",
   "metadata": {},
   "outputs": [],
   "source": [
    "file.close()"
   ]
  },
  {
   "cell_type": "code",
   "execution_count": 44,
   "id": "7d7527be-936a-423b-936d-c16b3a6c7cc2",
   "metadata": {},
   "outputs": [
    {
     "data": {
      "text/plain": [
       "\"Data Science Masters course is highly curated and uniquely designed according to the latest industry standards. This program instills students the skills essential to knowledge discovery efforts to identify standard, novel, and truly differentiated solutions and decision-making, including skills in managing, querying, analyzing, visualizing, and extracting meaning from extremely large data sets. This trending program provides students with the statistical, mathematical and computational skills needed to meet the large-scale data science challenges of today's professional world. You will learn all the stack required to work in data science industry including cloud infrastructure and real-time industry projects.\""
      ]
     },
     "execution_count": 44,
     "metadata": {},
     "output_type": "execute_result"
    }
   ],
   "source": [
    "f = open(\"data1.txt\", \"r\") \n",
    "f.read()"
   ]
  },
  {
   "cell_type": "code",
   "execution_count": 31,
   "id": "e83bd4ad-675f-4ddc-9c6e-0bb1862407ff",
   "metadata": {},
   "outputs": [
    {
     "data": {
      "text/plain": [
       "'Data Science Masters'"
      ]
     },
     "execution_count": 31,
     "metadata": {},
     "output_type": "execute_result"
    }
   ],
   "source": [
    "### readline()\n",
    "\n",
    "f = open(\"data1.txt\", \"r\") \n",
    "f.readline(20)\n"
   ]
  },
  {
   "cell_type": "code",
   "execution_count": 49,
   "id": "7c22f475-4921-4c6e-9f14-3a68c486532a",
   "metadata": {},
   "outputs": [
    {
     "data": {
      "text/plain": [
       "['I want to become a Data Scientist.']"
      ]
     },
     "execution_count": 49,
     "metadata": {},
     "output_type": "execute_result"
    }
   ],
   "source": [
    "### readlines()\n",
    "\n",
    "f = open(\"data.txt\", \"r\") \n",
    "f.readlines()"
   ]
  },
  {
   "cell_type": "markdown",
   "id": "32f97e17-e318-4ca7-aa00-d4b450c9c97e",
   "metadata": {},
   "source": [
    "***\n",
    "#### Q5. Explain why with statement is used with open(). What is the advantage of using with statement and open() together?"
   ]
  },
  {
   "cell_type": "markdown",
   "id": "09be2fc7-13c1-448e-860a-09f1b97cbcc0",
   "metadata": {},
   "source": [
    "* The with statement works with the open() function to open a file. Unlike open() where you have to close the file with the close() method, the with statement closes the file for you without you telling it to. This is because the with statement calls 2 built-in methods behind the scene – __enter()__ and __exit()__ "
   ]
  },
  {
   "cell_type": "code",
   "execution_count": 52,
   "id": "40037c9e-8c7f-4e18-8fe8-0f3c98548ec3",
   "metadata": {},
   "outputs": [
    {
     "name": "stdout",
     "output_type": "stream",
     "text": [
      "I want to become a Data Scientist.\n"
     ]
    }
   ],
   "source": [
    "# for example\n",
    "\n",
    "with open(\"data.txt\") as my_file:\n",
    "    print(my_file.read())"
   ]
  },
  {
   "cell_type": "markdown",
   "id": "d32ea350-5c21-419f-8b06-34cc3432e26d",
   "metadata": {},
   "source": [
    "*** \n",
    "#### Q6. Explain the write() and writelines() functions. Give a suitable example."
   ]
  },
  {
   "cell_type": "markdown",
   "id": "2db0cfaa-d7ea-4abe-b187-d6d0b236e461",
   "metadata": {},
   "source": [
    "The only difference between the write() and writelines() is that write() is used to write a string to an already opened file while writelines() method is used to write a list of strings in an opened file"
   ]
  },
  {
   "cell_type": "code",
   "execution_count": 56,
   "id": "33e0e3bf-60ba-477c-ac6b-a533ad654694",
   "metadata": {},
   "outputs": [
    {
     "name": "stdin",
     "output_type": "stream",
     "text": [
      "Enter the name of the employee:  Rajnikant\n",
      "Enter the name of the employee:  Suresh\n",
      "Enter the name of the employee:  Ramesh\n"
     ]
    },
    {
     "name": "stdout",
     "output_type": "stream",
     "text": [
      "Data is written into the file.\n"
     ]
    }
   ],
   "source": [
    "# example for write()\n",
    "\n",
    "file = open(\"Employee.txt\", \"w\")\n",
    "\n",
    "for i in range(3):\n",
    "    name = input(\"Enter the name of the employee: \")\n",
    "    file.write(name)\n",
    "    file.write(\"\\n\")\n",
    "\t\n",
    "file.close()\n",
    "\n",
    "print(\"Data is written into the file.\")\n"
   ]
  },
  {
   "cell_type": "code",
   "execution_count": 57,
   "id": "7e5d5ea3-c951-4ad8-ab4e-504d33a4ccef",
   "metadata": {},
   "outputs": [
    {
     "name": "stdin",
     "output_type": "stream",
     "text": [
      "Enter the name of the employee:  A\n",
      "Enter the name of the employee:  B\n",
      "Enter the name of the employee:  C\n"
     ]
    },
    {
     "name": "stdout",
     "output_type": "stream",
     "text": [
      "Data is written into the file.\n"
     ]
    }
   ],
   "source": [
    "file1 = open(\"data.txt\", \"w\")\n",
    "lst = []\n",
    "for i in range(3):\n",
    "\tname = input(\"Enter the name of the employee: \")\n",
    "\tlst.append(name + '\\n')\n",
    "\t\n",
    "file1.writelines(lst)\n",
    "file1.close()\n",
    "print(\"Data is written into the file.\")\n"
   ]
  },
  {
   "cell_type": "code",
   "execution_count": null,
   "id": "c018bce7-44ec-4852-81d0-ad975a1f259f",
   "metadata": {},
   "outputs": [],
   "source": []
  },
  {
   "cell_type": "code",
   "execution_count": null,
   "id": "905aa7ed-8a0d-4823-aa96-8aabe941c54a",
   "metadata": {},
   "outputs": [],
   "source": []
  }
 ],
 "metadata": {
  "kernelspec": {
   "display_name": "Python 3 (ipykernel)",
   "language": "python",
   "name": "python3"
  },
  "language_info": {
   "codemirror_mode": {
    "name": "ipython",
    "version": 3
   },
   "file_extension": ".py",
   "mimetype": "text/x-python",
   "name": "python",
   "nbconvert_exporter": "python",
   "pygments_lexer": "ipython3",
   "version": "3.10.8"
  }
 },
 "nbformat": 4,
 "nbformat_minor": 5
}
