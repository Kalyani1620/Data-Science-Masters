{
 "cells": [
  {
   "cell_type": "markdown",
   "id": "c713b35e-2db8-40f1-a492-a1e8d85dd2b6",
   "metadata": {},
   "source": [
    "#### Q1. What is Web Scraping? Why is it Used? Give three areas where Web Scraping is used to get data.\n"
   ]
  },
  {
   "cell_type": "markdown",
   "id": "3dd1409c-f591-44b9-8c57-0298ea9b9dfc",
   "metadata": {},
   "source": [
    "* Web scraping is the process of using bots to extract content and data from a website.\n",
    "* Web scraping is used in a variety of digital businesses that rely on data harvesting. Legitimate use cases include:\n",
    "\n",
    "* Search engine bots crawling a site, analyzing its content and then ranking it.\n",
    "* Price comparison sites deploying bots to auto-fetch prices and product descriptions for allied seller websites.\n",
    "* Market research companies using scrapers to pull data from forums and social media (e.g., for sentiment analysis).\n",
    "\n",
    "1. Three areas for web scraping:\n",
    "2. Monitoring e-commerce prices.\n",
    "3. Finding opportunities for investment.\n",
    "4. Analyzing social media web data.\n",
    "5. Applying machine learning techniques.\n",
    "6. Gathering web data automatically.\n"
   ]
  },
  {
   "cell_type": "markdown",
   "id": "dec3c8b1-d3d6-44f4-b623-362c6a44bc0c",
   "metadata": {},
   "source": [
    "***"
   ]
  },
  {
   "cell_type": "markdown",
   "id": "f564f2de-d2c9-4469-b3f9-2eb9452ef293",
   "metadata": {},
   "source": [
    "#### Q2. What are the different methods used for Web Scraping?"
   ]
  },
  {
   "cell_type": "markdown",
   "id": "02a381ad-1c1d-4d97-9eef-df2748daa4d7",
   "metadata": {},
   "source": [
    "1| **Beautiful Soup**:\n",
    "Beautiful Soup is a Python library for pulling data out of HTML and XML files. It is mainly designed for projects like screen-scraping.\n",
    "\n",
    "2| **LXML**:\n",
    "The lxml is a Python tool for C libraries libxml2 and libxslt. It is recognised as one of the feature-rich and easy-to-use libraries for processing XML and HTML in Python language.\n",
    "\n",
    "3| **MechanicalSoup**:\n",
    "MechanicalSoup is a Python library for automating interaction with websites. This library automatically stores and sends cookies, follows redirects and can follow links and submit forms.\n",
    "\n",
    "4| **Python Requests**:\n",
    "Python Requests is the only Non-GMO HTTP library for Python language. It allows the user to send HTTP/1.1 requests and there is no need to manually add query strings to your URLs, or to form-encode your POST data.\n",
    "\n",
    "5| **Scrapy**:\n",
    "Scrapy is an open-source and collaborative framework for extracting the data a user needs from websites. Written in Python language, Scrapy is a fast high-level web crawling & scraping framework for Python.\n",
    "\n",
    "6| **Selenium**:\n",
    "Selenium Python is an open-source web-based automation tool which provides a simple API to write functional or acceptance tests using Selenium WebDriver. Selenium is basically a set of different software tools each with a different approach to supporting test automation.\n",
    "\n",
    "7| **Urllib**:\n",
    "The urllib is a Python package which can be used for opening URLs.\n",
    "\n",
    "\n"
   ]
  },
  {
   "cell_type": "markdown",
   "id": "fdb0265c-75b1-4bdd-8551-74d065c7a5f6",
   "metadata": {},
   "source": [
    "****"
   ]
  },
  {
   "cell_type": "markdown",
   "id": "4fbbfc5e-b75f-4933-92e6-4a3477223b3b",
   "metadata": {},
   "source": [
    "#### Q3. What is Beautiful Soup? Why is it used?"
   ]
  },
  {
   "cell_type": "markdown",
   "id": "25c6ff8e-cb15-4289-bbe9-c289b69f106b",
   "metadata": {},
   "source": [
    "Beautiful Soup is a Python package for parsing HTML and XML documents (including having malformed markup, i.e. non-closed tags, so named after tag soup). It creates a parse tree for parsed pages that can be used to extract data from HTML, which is useful for web scraping.\n",
    "\n",
    "\n"
   ]
  },
  {
   "cell_type": "markdown",
   "id": "b32ed715-43c0-4cd5-872a-7d88aca55501",
   "metadata": {},
   "source": [
    "***"
   ]
  },
  {
   "cell_type": "markdown",
   "id": "f8ca47a4-5641-432a-8475-5079aa4fca03",
   "metadata": {},
   "source": [
    "#### Q4. Why is flask used in this Web Scraping project?"
   ]
  },
  {
   "cell_type": "markdown",
   "id": "0e8042f0-78dd-4b57-90d3-5f8d80951642",
   "metadata": {},
   "source": [
    "Flask is a lightweight framework to build websites. We'll use this to parse our collected data and display it as HTML in a new HTML file. The requests module allows us to send http requests to the website we want to scrape. The first line imports the Flask class and the render_template method from the flask library."
   ]
  },
  {
   "cell_type": "markdown",
   "id": "f128f270-be57-430e-a3d7-b277bc3eac04",
   "metadata": {},
   "source": [
    "***"
   ]
  },
  {
   "cell_type": "markdown",
   "id": "7605a465-109d-40dc-8ef1-4b31cb8ee47f",
   "metadata": {},
   "source": [
    "#### Q5. Write the names of AWS services used in this project. Also, explain the use of each service."
   ]
  },
  {
   "cell_type": "markdown",
   "id": "d9cc5885-6874-4fc6-adc3-010e9799aa8a",
   "metadata": {},
   "source": [
    "* AWS code pipeline:-\n",
    "\n",
    "AWS CodePipeline is a continuous delivery service you can use to model, visualize, and automate the steps required to release your software. You can quickly model and configure the different stages of a software release process. CodePipeline automates the steps required to release your software changes continuously.\n",
    "\n",
    "* AWS Elastic Beanstalk:-\n",
    "\n",
    "Elastic Beanstalk is a service for deploying and scaling web applications and services. Upload your code and Elastic Beanstalk automatically handles the deployment—from capacity provisioning, load balancing, and auto scaling to application health monitoring.\n",
    "\n"
   ]
  },
  {
   "cell_type": "markdown",
   "id": "83ce8f2f-45b2-4202-8177-399e88df28c8",
   "metadata": {},
   "source": [
    "****"
   ]
  }
 ],
 "metadata": {
  "kernelspec": {
   "display_name": "Python 3 (ipykernel)",
   "language": "python",
   "name": "python3"
  },
  "language_info": {
   "codemirror_mode": {
    "name": "ipython",
    "version": 3
   },
   "file_extension": ".py",
   "mimetype": "text/x-python",
   "name": "python",
   "nbconvert_exporter": "python",
   "pygments_lexer": "ipython3",
   "version": "3.10.8"
  }
 },
 "nbformat": 4,
 "nbformat_minor": 5
}
