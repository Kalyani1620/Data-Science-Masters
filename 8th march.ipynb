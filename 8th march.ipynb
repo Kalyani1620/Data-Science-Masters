{
 "cells": [
  {
   "cell_type": "markdown",
   "id": "5e2cda26-451f-4cb0-8c2a-2aa662301501",
   "metadata": {},
   "source": [
    "#### Q1. What is the Probability density function?"
   ]
  },
  {
   "cell_type": "markdown",
   "id": "9fe60de4-776b-455f-8b7f-83605165285e",
   "metadata": {},
   "source": [
    "The probability density function (PDF) is a mathematical function that describes the probability distribution of a random variable. It gives the relative likelihood of different outcomes of a random variable occurring.\n",
    "\n",
    "The PDF is defined as the derivative of the cumulative distribution function (CDF) of the random variable. The CDF gives the probability that the random variable takes on a value less than or equal to a given value, while the PDF gives the probability density at a given point.\n",
    "\n",
    "In other words, if we integrate the PDF over an interval, we obtain the probability that the random variable falls within that interval. The PDF is typically used to describe continuous random variables, as opposed to discrete random variables, which are described using probability mass functions (PMFs)."
   ]
  },
  {
   "cell_type": "markdown",
   "id": "fb5b81af-2c2a-4f03-91a3-329e470191d5",
   "metadata": {},
   "source": [
    "****"
   ]
  },
  {
   "cell_type": "markdown",
   "id": "6cba9217-b3b4-43ee-a2fc-b7e0787878af",
   "metadata": {},
   "source": [
    "#### Q2. What are the types of Probability distribution?"
   ]
  },
  {
   "cell_type": "markdown",
   "id": "17647824-14ed-4548-ac47-f0a293040094",
   "metadata": {},
   "source": [
    "There are several types of probability distributions, including:\n",
    "\n",
    "1. Bernoulli distribution: a discrete probability distribution that describes the outcomes of a single binary event, such as flipping a coin.\n",
    "\n",
    "2. Binomial distribution: a discrete probability distribution that describes the number of successes in a fixed number of independent trials, each with the same probability of success.\n",
    "\n",
    "3. Poisson distribution: a discrete probability distribution that describes the number of occurrences of an event in a fixed interval of time or space, given the average rate of occurrence.\n",
    "\n",
    "4. Normal distribution: a continuous probability distribution that is widely used in statistics to describe the distribution of a variable, such as height or weight, that is influenced by many small, independent factors.\n",
    "\n",
    "5. Exponential distribution: a continuous probability distribution that describes the time between occurrences of a random event, given a constant rate of occurrence.\n",
    "\n",
    "6. Gamma distribution: a continuous probability distribution that is often used to model the waiting time until a certain number of events occur, or the sum of waiting times until a certain number of events occur.\n",
    "\n",
    "7. Chi-squared distribution: a continuous probability distribution that is often used in hypothesis testing and confidence interval estimation for the variance of a normal distribution.\n",
    "\n",
    "These are just a few examples of the many probability distributions that exist. Each distribution has its own characteristics, parameters, and applications in different fields of science, engineering, and statistics."
   ]
  },
  {
   "cell_type": "markdown",
   "id": "0ee95cf1-7c57-4069-a0cb-51d1d2eceee4",
   "metadata": {},
   "source": [
    "*****"
   ]
  },
  {
   "cell_type": "markdown",
   "id": "b6b57bca-65fb-4797-b3af-3db078b768ac",
   "metadata": {},
   "source": [
    "#### Q3. Write a Python function to calculate the probability density function of a normal distribution with given mean and standard deviation at a given point."
   ]
  },
  {
   "cell_type": "markdown",
   "id": "7330fbd7-468e-4c2a-bca3-c584583f5bc3",
   "metadata": {},
   "source": [
    "Here's an example Python function that calculates the probability density function (PDF) of a normal distribution with a given mean and standard deviation at a given point:\n",
    "\n"
   ]
  },
  {
   "cell_type": "code",
   "execution_count": 1,
   "id": "f095f112-fd6a-4656-98f8-dbea19d89131",
   "metadata": {},
   "outputs": [],
   "source": [
    "import math\n",
    "\n",
    "def normal_pdf(x, mu, sigma):\n",
    "    \"\"\"\n",
    "    Calculates the probability density function (PDF) of a normal distribution with\n",
    "    mean mu and standard deviation sigma at the point x.\n",
    "    \"\"\"\n",
    "    coefficient = 1 / (sigma * math.sqrt(2 * math.pi))\n",
    "    exponent = -1 / 2 * ((x - mu) / sigma)**2\n",
    "    pdf = coefficient * math.exp(exponent)\n",
    "    return pdf\n"
   ]
  },
  {
   "cell_type": "markdown",
   "id": "f06a0e73-5404-4950-8ac2-12348a7fbfbe",
   "metadata": {},
   "source": [
    "The function takes three arguments:\n",
    "\n",
    "* `x`: the point at which to calculate the PDF\n",
    "* `mu`: the mean of the normal distribution\n",
    "* `sigma`: the standard deviation of the normal distribution\n",
    "\n",
    "The function first calculates the coefficient of the PDF formula, which is `1 / (sigma * sqrt(2 * pi))`. It then calculates the exponent, which is `-1/2 * ((x - mu) / sigma)**2`. Finally, it calculates the PDF by multiplying the coefficient by e raised to the power of the exponent.\n",
    "\n",
    "You can use this function to calculate the PDF of a normal distribution with a mean of 0 and a standard deviation of 1 at the point x=1.5, for example, like this:\n",
    "\n"
   ]
  },
  {
   "cell_type": "code",
   "execution_count": 2,
   "id": "59931f45-1573-44d2-88d8-00ca92cee69f",
   "metadata": {},
   "outputs": [
    {
     "name": "stdout",
     "output_type": "stream",
     "text": [
      "0.12951759566589174\n"
     ]
    }
   ],
   "source": [
    "pdf = normal_pdf(1.5, 0, 1)\n",
    "print(pdf)\n"
   ]
  },
  {
   "cell_type": "markdown",
   "id": "c08689f5-bf4f-443b-a927-571e8a9145d4",
   "metadata": {},
   "source": [
    "*****"
   ]
  },
  {
   "cell_type": "markdown",
   "id": "d9dea0c8-6d4b-4bd6-9cfc-7b790193525e",
   "metadata": {},
   "source": [
    "#### Q4. What are the properties of Binomial distribution? Give two examples of events where binomial distribution can be applied."
   ]
  },
  {
   "cell_type": "markdown",
   "id": "fd2cc9ea-8508-46bc-8d41-8a9d11fdb07d",
   "metadata": {},
   "source": [
    "The properties of the binomial distribution include:\n",
    "\n",
    "1. The binomial distribution is a discrete probability distribution that describes the number of successes in a fixed number of independent trials, each with the same probability of success.\n",
    "\n",
    "2. The probability of success, denoted by p, is constant from trial to trial.\n",
    "\n",
    "3. The trials are independent of each other.\n",
    "\n",
    "4. The random variable X, which represents the number of successes in n trials, has a binomial distribution with parameters n and p.\n",
    "\n",
    "5. The mean of the binomial distribution is given by μ = np, and the variance is given by σ^2 = np(1-p).\n",
    "\n",
    "Examples of events where the binomial distribution can be applied include:\n",
    "\n",
    "1. Flipping a coin: If we flip a fair coin (one that has an equal probability of landing heads or tails) n times, the number of times it lands heads can be modeled using a binomial distribution with n trials and p=0.5.\n",
    "\n",
    "2. Customer conversion rates: A company that runs an online store may be interested in predicting the number of customers who will make a purchase out of a given number of website visitors. If the conversion rate is known, the number of successful purchases can be modeled using a binomial distribution. For example, if 10% of visitors make a purchase, and there are 100 visitors, the number of purchases can be modeled using a binomial distribution with n=100 and p=0.1.\n",
    "\n",
    "\n",
    "\n"
   ]
  },
  {
   "cell_type": "markdown",
   "id": "e5cfa050-9001-4a71-a71e-a5a5a9d28d37",
   "metadata": {},
   "source": [
    "****"
   ]
  },
  {
   "cell_type": "markdown",
   "id": "167b0bcc-11ed-408a-b56a-42d2aab01a8e",
   "metadata": {},
   "source": [
    "#### Q5. Generate a random sample of size 1000 from a binomial distribution with probability of success 0.4 and plot  a histogram of the results using matplotlib."
   ]
  },
  {
   "cell_type": "markdown",
   "id": "7608e456-5ee5-4c98-862b-5bb9f3195da7",
   "metadata": {},
   "source": [
    "Here's an example Python code to generate a random sample of size 1000 from a binomial distribution with probability of success 0.4, and plot a histogram of the results using matplotlib:"
   ]
  },
  {
   "cell_type": "code",
   "execution_count": 3,
   "id": "0355371e-f1d6-4c1e-bd57-738e152c69e9",
   "metadata": {},
   "outputs": [
    {
     "data": {
      "image/png": "[encoded data removed]",
      "text/plain": [
       "<Figure size 640x480 with 1 Axes>"
      ]
     },
     "metadata": {},
     "output_type": "display_data"
    }
   ],
   "source": [
    "import numpy as np\n",
    "import matplotlib.pyplot as plt\n",
    "\n",
    "n = 10\n",
    "p = 0.4\n",
    "\n",
    "sample = np.random.binomial(n, p, size=1000)\n",
    "\n",
    "plt.hist(sample, bins=range(n+2), align='left', rwidth=0.8, density=True)\n",
    "\n",
    "plt.xlabel('Number of successes')\n",
    "plt.ylabel('Frequency')\n",
    "plt.title('Histogram of Binomial Distribution')\n",
    "\n",
    "plt.show()\n"
   ]
  },
  {
   "cell_type": "markdown",
   "id": "35fa36f5-e408-40f6-b754-60d011b213f2",
   "metadata": {},
   "source": [
    "****\n",
    "#### Q6. Write a Python function to calculate the cumulative distribution function of a Poisson distribution with given mean at a given point."
   ]
  },
  {
   "cell_type": "markdown",
   "id": "4ea845ca-79ca-4adc-b6d2-4768c8445b53",
   "metadata": {},
   "source": [
    "Here's an example Python code to calculate the cumulative distribution function (CDF) of a Poisson distribution with a given mean at a given point:\n",
    "\n"
   ]
  },
  {
   "cell_type": "markdown",
   "id": "34417a71-ec67-4767-b2e6-28f98bc0d059",
   "metadata": {},
   "source": [
    "#### Q7. How Binomial distribution different from Poisson distribution?"
   ]
  },
  {
   "cell_type": "code",
   "execution_count": 5,
   "id": "0f8d5b67-35f1-4108-8287-5352a1d31024",
   "metadata": {},
   "outputs": [],
   "source": [
    "import math\n",
    "\n",
    "def poisson_cdf(mean, x):\n",
    "    \"\"\"Calculate the cumulative distribution function of a Poisson distribution with mean `mean` at the point `x`\"\"\"\n",
    "    cdf = 0.0\n",
    "    for i in range(x+1):\n",
    "        cdf += (math.exp(-mean) * mean**i) / math.factorial(i)\n",
    "    return cdf\n"
   ]
  },
  {
   "cell_type": "markdown",
   "id": "ff104156-1ae2-4424-8f43-8d0e13723953",
   "metadata": {},
   "source": [
    "In this function, `mean` is the mean of the Poisson distribution and `x` is the point at which we want to evaluate the CDF. The function uses the Poisson distribution formula to calculate the probability of observing up to `x` events in a Poisson process with `mean` mean. It does this by summing the probabilities of observing 0, 1, 2, ...,` x` events using a for loop. The cumulative probability is then returned as the CDF at the point x.\n",
    "\n",
    "To use this function, simply call it with the desired values of mean and `x`. For example, to calculate the CDF of a Poisson distribution with mean 3 at the point 5, you can call the function as follows:\n",
    "\n"
   ]
  },
  {
   "cell_type": "code",
   "execution_count": 6,
   "id": "6546eb23-d288-432e-895b-56130e77be24",
   "metadata": {},
   "outputs": [
    {
     "data": {
      "text/plain": [
       "0.9160820579686966"
      ]
     },
     "execution_count": 6,
     "metadata": {},
     "output_type": "execute_result"
    }
   ],
   "source": [
    "poisson_cdf(3, 5)\n"
   ]
  },
  {
   "cell_type": "markdown",
   "id": "f2105301-21d2-4633-a108-e21eb91c70c3",
   "metadata": {},
   "source": [
    "****"
   ]
  },
  {
   "cell_type": "markdown",
   "id": "01a630d0-9207-431e-baf7-c82ff10f273d",
   "metadata": {},
   "source": [
    "#### Q8. Generate a random sample of size 1000 from a Poisson distribution with mean 5 and calculate the sample mean and variance."
   ]
  },
  {
   "cell_type": "markdown",
   "id": "0d9beea4-785b-45f4-881c-2368423ed6b7",
   "metadata": {},
   "source": [
    "Binomial and Poisson distributions are both discrete probability distributions, but they have different characteristics and are used to model different types of events.\n",
    "\n",
    "The main differences between the two distributions are:\n",
    "\n",
    "1. Event type: The binomial distribution is used to model the number of successes in a fixed number of independent trials, where each trial has a constant probability of success. The Poisson distribution, on the other hand, is used to model the number of rare events that occur in a fixed interval of time or space.\n",
    "\n",
    "2. Number of trials or events: In the binomial distribution, the number of trials or events is fixed and known in advance. In the Poisson distribution, the number of events is not fixed but is assumed to be rare.\n",
    "\n",
    "3. Probability of success or event rate: In the binomial distribution, the probability of success is constant and known in advance. In the Poisson distribution, the event rate is constant but may not be known in advance.\n",
    "\n",
    "4. Shape of the distribution: The binomial distribution is bell-shaped and symmetric when the number of trials is large. The Poisson distribution is skewed to the right and has a longer tail than the binomial distribution.\n",
    "\n",
    "5. Parameter estimation: The parameters of the binomial distribution (number of trials and probability of success) can be estimated from the data using maximum likelihood estimation. The parameter of the Poisson distribution (event rate) can also be estimated from the data using maximum likelihood estimation, but the distribution is less flexible than the binomial distribution because it has only one parameter.\n",
    "\n",
    "In summary, the binomial distribution is used to model the number of successes in a fixed number of independent trials with a constant probability of success, while the Poisson distribution is used to model the number of rare events that occur in a fixed interval of time or space.\n",
    "\n",
    "\n",
    "\n"
   ]
  },
  {
   "cell_type": "markdown",
   "id": "e27d4a98-4c52-498c-9d84-1ed1a7d50be5",
   "metadata": {},
   "source": [
    "****"
   ]
  },
  {
   "cell_type": "markdown",
   "id": "f6ccdb00-0fa3-4539-b98e-68548bf6e886",
   "metadata": {},
   "source": [
    "#### Q9. How mean and variance are related in Binomial distribution and Poisson distribution?"
   ]
  },
  {
   "cell_type": "markdown",
   "id": "07b4c7cd-8f11-40a5-89f6-ce346cf15e3d",
   "metadata": {},
   "source": [
    "In the Binomial distribution, the mean and variance are related by the formula:"
   ]
  },
  {
   "cell_type": "code",
   "execution_count": 7,
   "id": "9f6eefc9-d099-4346-89d4-a738ed1d2703",
   "metadata": {},
   "outputs": [],
   "source": [
    "mean = n * p\n",
    "variance = n * p * (1 - p)\n"
   ]
  },
  {
   "cell_type": "markdown",
   "id": "4d6f93a9-0791-40d1-aa9d-b79135490731",
   "metadata": {},
   "source": [
    "where `n` is the number of trials, and `p` is the probability of success in each trial. Note that `n` and `p` are the parameters of the Binomial distribution.\n",
    "\n",
    "In the Poisson distribution, the mean and variance are equal and are given by:\n",
    "\n"
   ]
  },
  {
   "cell_type": "code",
   "execution_count": null,
   "id": "687f1f1e-1579-4001-a225-7116cf2074c9",
   "metadata": {},
   "outputs": [],
   "source": [
    "mean = variance = lambda\n"
   ]
  },
  {
   "cell_type": "markdown",
   "id": "1c387a72-8595-4866-a090-1bfa264006b9",
   "metadata": {},
   "source": [
    "****"
   ]
  },
  {
   "cell_type": "markdown",
   "id": "3db10569-67d9-4e34-8329-0ce1155e1eff",
   "metadata": {},
   "source": [
    "#### Q10. In normal distribution with respect to mean position, where does the least frequent data appear?"
   ]
  },
  {
   "cell_type": "markdown",
   "id": "2cf53403-46e4-4797-b3c1-632452fda322",
   "metadata": {},
   "source": [
    "In a normal distribution, the least frequent data appears in the tails of the distribution, which are the regions farthest from the mean. Specifically, data that is more than 2 standard deviations away from the mean in either direction is considered to be in the tails of the distribution.\n",
    "\n",
    "The normal distribution is a bell-shaped curve that is symmetric around the mean, which is also the point of maximum density. This means that data that is close to the mean is more frequent than data that is farther away from the mean. As you move away from the mean towards the tails of the distribution, the density of the data decreases, and the probability of observing extreme values increases.\n",
    "\n",
    "For example, if a normal distribution has a mean of 50 and a standard deviation of 10, then data that is more than 2 standard deviations away from the mean (i.e., data less than 30 or greater than 70) is considered to be in the tails of the distribution, and is less frequent than data that is closer to the mean."
   ]
  },
  {
   "cell_type": "markdown",
   "id": "31761061-3f31-40d5-a024-62850536bdce",
   "metadata": {},
   "source": [
    "****"
   ]
  }
 ],
 "metadata": {
  "kernelspec": {
   "display_name": "Python 3 (ipykernel)",
   "language": "python",
   "name": "python3"
  },
  "language_info": {
   "codemirror_mode": {
    "name": "ipython",
    "version": 3
   },
   "file_extension": ".py",
   "mimetype": "text/x-python",
   "name": "python",
   "nbconvert_exporter": "python",
   "pygments_lexer": "ipython3",
   "version": "3.10.8"
  }
 },
 "nbformat": 4,
 "nbformat_minor": 5
}
