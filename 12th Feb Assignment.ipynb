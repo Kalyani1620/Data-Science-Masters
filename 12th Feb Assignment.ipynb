{
 "cells": [
  {
   "cell_type": "markdown",
   "id": "ac3aa27a-5562-4064-89f8-3ff54cc21862",
   "metadata": {},
   "source": [
    "### Q1. What is an Exception in python? Write the difference between Exceptions and syntax errorss ?"
   ]
  },
  {
   "cell_type": "markdown",
   "id": "5d99abd4-fff4-45f3-8cc8-45a839cbf544",
   "metadata": {},
   "source": [
    "An exception is nothing but the runtime errors and it mainly occurs due to the incorrect implementation of program or a logic.\n",
    "\n",
    "Errors cannot be handled, while Python exceptions can be handled at the run time. An error can be a syntax (parsing) error, while there can be many types of exceptions that could occur during the execution and are not unconditionally inoperable."
   ]
  },
  {
   "cell_type": "markdown",
   "id": "91a3ed8e-d703-4966-955f-2ced4835f1b0",
   "metadata": {
    "tags": []
   },
   "source": [
    "***\n",
    "#### Q.2 What happens when an exception is not handled ? Explain with an example."
   ]
  },
  {
   "cell_type": "markdown",
   "id": "f0b30e9d-bb9c-4366-b0e3-72ad3851ad48",
   "metadata": {},
   "source": [
    "If an exception occurs during execution of the try clause, the exception may be handled by an except clause. If the exception is not handled by an except clause, the exception is re-raised after the finally clause has been executed."
   ]
  },
  {
   "cell_type": "code",
   "execution_count": 6,
   "id": "fbd39eef-0317-40d1-8adc-fc3117e90831",
   "metadata": {},
   "outputs": [
    {
     "name": "stdout",
     "output_type": "stream",
     "text": [
      "result is 2.0\n",
      "executing finally clause\n"
     ]
    }
   ],
   "source": [
    "def divide(x, y):\n",
    "    try:\n",
    "        result = x / y\n",
    "    except ZeroDivisionError:\n",
    "        print(\"division by zero!\")\n",
    "    else:\n",
    "        print(\"result is\", result)\n",
    "    finally:\n",
    "        print(\"executing finally clause\")\n",
    "        \n",
    "divide(2, 1)"
   ]
  },
  {
   "cell_type": "markdown",
   "id": "07942c93-1b93-4ff8-9b78-e82f38151764",
   "metadata": {},
   "source": [
    "*** \n",
    "#### Q.3 Which python methods are used to catch and handle the python exception? Explain with an example"
   ]
  },
  {
   "cell_type": "markdown",
   "id": "c10d8ff6-8bbd-4830-8cfe-d7301fc7bdae",
   "metadata": {},
   "source": [
    "There are mainly following methods are used to handle the exceptions :\n",
    "* try and else\n",
    "* finally\n",
    "* raise\n",
    "\n",
    "If an exception occurs during execution of the try clause, the exception may be handled by an except clause. If the exception is not handled by an except clause, the exception is re-raised after the finally clause has been executed.\n"
   ]
  },
  {
   "cell_type": "markdown",
   "id": "6c121ff8-9f10-45bc-895a-c7850a9716c8",
   "metadata": {},
   "source": [
    "***\n",
    "#### Q4. Explain with an example:\n",
    "* try and else\n",
    "* finally\n",
    "* raise"
   ]
  },
  {
   "cell_type": "code",
   "execution_count": 14,
   "id": "729d0ead-2b42-4a67-99c2-b77087f37fc3",
   "metadata": {},
   "outputs": [
    {
     "name": "stdout",
     "output_type": "stream",
     "text": [
      "Hello\n",
      "Nothing went wrong\n"
     ]
    }
   ],
   "source": [
    "# try & else\n",
    "\n",
    "try:\n",
    "    print(\"Hello\")\n",
    "except:\n",
    "    print(\"Something went wrong\")\n",
    "else:\n",
    "    print(\"Nothing went wrong\")"
   ]
  },
  {
   "cell_type": "code",
   "execution_count": 15,
   "id": "87ae3c96-7677-4b9f-93ea-33c55980083a",
   "metadata": {},
   "outputs": [
    {
     "name": "stdout",
     "output_type": "stream",
     "text": [
      "result is 2.0\n",
      "Executing finally clause\n"
     ]
    }
   ],
   "source": [
    "# finally\n",
    "\n",
    "def divide(x, y):\n",
    "    try:\n",
    "        result = x / y\n",
    "    except ZeroDivisionError:\n",
    "        print(\"division by zero!\")\n",
    "    else:\n",
    "        print(\"result is\", result)\n",
    "    finally:\n",
    "        print(\"Executing finally clause\")\n",
    "        \n",
    "divide(2, 1)"
   ]
  },
  {
   "cell_type": "code",
   "execution_count": 17,
   "id": "10733ea3-2a07-40fd-991b-37e9dcd2e25b",
   "metadata": {},
   "outputs": [
    {
     "ename": "Exception",
     "evalue": "Sorry, no numbers below zero",
     "output_type": "error",
     "traceback": [
      "\u001b[0;31m---------------------------------------------------------------------------\u001b[0m",
      "\u001b[0;31mException\u001b[0m                                 Traceback (most recent call last)",
      "Cell \u001b[0;32mIn[17], line 6\u001b[0m\n\u001b[1;32m      3\u001b[0m x \u001b[38;5;241m=\u001b[39m \u001b[38;5;241m-\u001b[39m\u001b[38;5;241m1\u001b[39m\n\u001b[1;32m      5\u001b[0m \u001b[38;5;28;01mif\u001b[39;00m x \u001b[38;5;241m<\u001b[39m \u001b[38;5;241m0\u001b[39m:\n\u001b[0;32m----> 6\u001b[0m     \u001b[38;5;28;01mraise\u001b[39;00m \u001b[38;5;167;01mException\u001b[39;00m(\u001b[38;5;124m\"\u001b[39m\u001b[38;5;124mSorry, no numbers below zero\u001b[39m\u001b[38;5;124m\"\u001b[39m)\n",
      "\u001b[0;31mException\u001b[0m: Sorry, no numbers below zero"
     ]
    }
   ],
   "source": [
    "# raise\n",
    "\n",
    "x = -1\n",
    "\n",
    "if x < 0:\n",
    "    raise Exception(\"Sorry, no numbers below zero\")\n"
   ]
  },
  {
   "cell_type": "markdown",
   "id": "7394989a-e10d-4201-99a6-e1c823657586",
   "metadata": {},
   "source": [
    "***\n",
    "#### Q.5. What are custom exceptions in python ? Why do we need custom exceptions ? Explain with an example."
   ]
  },
  {
   "cell_type": "markdown",
   "id": "de77c4c8-8acc-4459-b679-a2ce1b69eb78",
   "metadata": {},
   "source": [
    "* In Python, we can define custom exceptions by creating a new class that is derived from the built-in Exception class.\n"
   ]
  },
  {
   "cell_type": "code",
   "execution_count": 19,
   "id": "b5bcae72-7ff2-4839-ba3c-332a87a98bde",
   "metadata": {},
   "outputs": [
    {
     "name": "stdin",
     "output_type": "stream",
     "text": [
      "Enter a number:  29\n"
     ]
    },
    {
     "name": "stdout",
     "output_type": "stream",
     "text": [
      "Eligible to Vote\n"
     ]
    }
   ],
   "source": [
    "# program for custom exception \n",
    "\n",
    "class Invalid_Age(Exception):\n",
    "    \"Raised when the input value is less than 18\"\n",
    "    pass\n",
    "\n",
    "number = 18\n",
    "\n",
    "try:\n",
    "    input_num = int(input(\"Enter a number: \"))\n",
    "    if input_num < number:\n",
    "        raise Invalid_Age\n",
    "    else:\n",
    "        print(\"Eligible to Vote\")\n",
    "        \n",
    "except Invalid_Age:\n",
    "    print(\"Exception occurred: Invalid Age\")"
   ]
  },
  {
   "cell_type": "markdown",
   "id": "86de0780-8537-40d9-83a3-00c48e572e8f",
   "metadata": {},
   "source": [
    "***\n",
    "#### Q.6 Create a custom exception class. Use this class to handle an exception."
   ]
  },
  {
   "cell_type": "code",
   "execution_count": 28,
   "id": "dd75ef57-e147-49ac-ab64-5b09f5d66943",
   "metadata": {},
   "outputs": [
    {
     "name": "stdin",
     "output_type": "stream",
     "text": [
      "Enter salary amount:  8500\n"
     ]
    },
    {
     "name": "stdout",
     "output_type": "stream",
     "text": [
      "your salary is  8500\n"
     ]
    }
   ],
   "source": [
    "class Salary_out_of_range(Exception):\n",
    "    \n",
    "    def __init__(self, salary, message=\"Salary is not in (5000, 15000) range\"):\n",
    "        self.salary = salary\n",
    "        self.message = message\n",
    "        super().__init__(self.message)\n",
    "\n",
    "\n",
    "salary = int(input(\"Enter salary amount: \"))\n",
    "print(\"your salary is \",salary)\n",
    "if not 5000 < salary < 15000:\n",
    "    raise Salary_out_of_range(salary)\n"
   ]
  },
  {
   "cell_type": "markdown",
   "id": "10d6365a-90a1-40ff-9da0-0c1e84fc5659",
   "metadata": {},
   "source": [
    "***"
   ]
  }
 ],
 "metadata": {
  "kernelspec": {
   "display_name": "Python 3 (ipykernel)",
   "language": "python",
   "name": "python3"
  },
  "language_info": {
   "codemirror_mode": {
    "name": "ipython",
    "version": 3
   },
   "file_extension": ".py",
   "mimetype": "text/x-python",
   "name": "python",
   "nbconvert_exporter": "python",
   "pygments_lexer": "ipython3",
   "version": "3.10.8"
  }
 },
 "nbformat": 4,
 "nbformat_minor": 5
}
