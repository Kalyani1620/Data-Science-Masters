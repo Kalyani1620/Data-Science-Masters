{
 "cells": [
  {
   "cell_type": "markdown",
   "id": "506f65d9-d32f-4d9f-a51f-c560b5b1e357",
   "metadata": {},
   "source": [
    "#### Q1. Create a function which will take a list as an argument and return the product of all the numbers after creating a flat list. Use the below-given list as an argument for your function.\n",
    "* list1 = [1,2,3,4, [44,55,66, True], False, (34,56,78,89,34), {1,2,3,3,2,1}, {1:34, \"key2\": [55, 67, 78, 89], 4: (45,\n",
    "22, 61, 34)}, [56, 'data science'], 'Machine Learning']"
   ]
  },
  {
   "cell_type": "code",
   "execution_count": 1,
   "id": "232a8fe8-11a0-48d8-a394-c7c475af8c3d",
   "metadata": {},
   "outputs": [],
   "source": [
    "def product_of_numbers(lst):\n",
    "    flat_list = []\n",
    "    for item in lst:\n",
    "        if isinstance(item, (list, tuple, set)):\n",
    "            flat_list.extend([x for x in item if isinstance(x, (int, float))])\n",
    "        elif isinstance(item, dict):\n",
    "            flat_list.extend([x for x in item.values() if isinstance(x, (int, float))])\n",
    "            flat_list.extend([x for sublist in item.keys() if isinstance(sublist, (list, tuple, set)) \n",
    "                              for x in sublist if isinstance(x, (int, float))])\n",
    "        elif isinstance(item, (int, float)):\n",
    "            flat_list.append(item)\n",
    "    product = 1\n",
    "    for num in flat_list:\n",
    "        product *= num\n",
    "    return product\n"
   ]
  },
  {
   "cell_type": "code",
   "execution_count": 2,
   "id": "e5b207c9-eaae-409b-80c1-b90503afdc6c",
   "metadata": {},
   "outputs": [
    {
     "name": "stdout",
     "output_type": "stream",
     "text": [
      "0\n"
     ]
    }
   ],
   "source": [
    "list1 = [1,2,3,4, [44,55,66, True], False, (34,56,78,89,34), {1,2,3,3,2,1}, \n",
    "         {1:34, \"key2\": [55, 67, 78, 89], 4: (45, 22, 61, 34)}, [56, 'data science'], 'Machine Learning']\n",
    "\n",
    "result = product_of_numbers(list1)\n",
    "print(result)\n"
   ]
  },
  {
   "cell_type": "markdown",
   "id": "4ef05a7f-7162-4716-9d57-2668ce28183e",
   "metadata": {},
   "source": [
    "****\n",
    "Q2. Write a python program for encrypting a message sent to you by your friend. The logic of encryption\n",
    "should be such that, for a the output should be z. For b, the output should be y. For c, the output should\n",
    "be x respectively. Also, the whitespace should be replaced with a dollar sign. Keep the punctuation\n",
    "marks unchanged.\n",
    "Input Sentence: I want to become a Data Scientist.\n",
    "Encrypt the above input sentence using the program you just created.\n",
    "Note: Convert the given input sentence into lowercase before encrypting. The final output should be\n",
    "lowercase."
   ]
  },
  {
   "cell_type": "code",
   "execution_count": 3,
   "id": "803e27f3-63ac-4183-bc71-a0ddf075169e",
   "metadata": {},
   "outputs": [
    {
     "name": "stdout",
     "output_type": "stream",
     "text": [
      "r$dzmg$gl$yvxlnv$z$wzgz$hxrvmgrhg.\n"
     ]
    }
   ],
   "source": [
    "def encrypt(message):\n",
    "    message = message.lower()\n",
    "    encrypted = \"\"\n",
    "    for char in message:\n",
    "        if char.isalpha():\n",
    "            encrypted += chr(ord('a') + ord('z') - ord(char))\n",
    "        elif char.isspace():\n",
    "            encrypted += \"$\"\n",
    "        else:\n",
    "            encrypted += char\n",
    "    return encrypted\n",
    "\n",
    "# Example usage:\n",
    "message = \"I want to become a Data Scientist.\"\n",
    "encrypted_message = encrypt(message)\n",
    "print(encrypted_message)\n"
   ]
  },
  {
   "cell_type": "code",
   "execution_count": null,
   "id": "2ae773a8-b4f9-4f69-af8c-f34957b32adf",
   "metadata": {},
   "outputs": [],
   "source": []
  },
  {
   "cell_type": "code",
   "execution_count": null,
   "id": "df5cb76a-246a-4c96-8b97-00e661bd793f",
   "metadata": {},
   "outputs": [],
   "source": []
  },
  {
   "cell_type": "code",
   "execution_count": null,
   "id": "32b11e7e-eb62-466f-9406-5fe681243ff7",
   "metadata": {},
   "outputs": [],
   "source": []
  },
  {
   "cell_type": "code",
   "execution_count": null,
   "id": "b2c91907-05cd-4b54-b815-9a389a5a1db3",
   "metadata": {},
   "outputs": [],
   "source": []
  },
  {
   "cell_type": "code",
   "execution_count": null,
   "id": "a41989f4-2d81-4988-98d3-ae5e768ea506",
   "metadata": {},
   "outputs": [],
   "source": []
  },
  {
   "cell_type": "code",
   "execution_count": null,
   "id": "64b86548-9130-4cd9-b472-ccb7de69fe38",
   "metadata": {},
   "outputs": [],
   "source": []
  },
  {
   "cell_type": "code",
   "execution_count": null,
   "id": "9214fcc5-626c-4443-ab3f-daa54e4c16f0",
   "metadata": {},
   "outputs": [],
   "source": []
  }
 ],
 "metadata": {
  "kernelspec": {
   "display_name": "Python 3 (ipykernel)",
   "language": "python",
   "name": "python3"
  },
  "language_info": {
   "codemirror_mode": {
    "name": "ipython",
    "version": 3
   },
   "file_extension": ".py",
   "mimetype": "text/x-python",
   "name": "python",
   "nbconvert_exporter": "python",
   "pygments_lexer": "ipython3",
   "version": "3.10.8"
  }
 },
 "nbformat": 4,
 "nbformat_minor": 5
}
