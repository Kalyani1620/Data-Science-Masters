{
 "cells": [
  {
   "cell_type": "markdown",
   "id": "1cd26183-e386-4653-a81a-cf4b15328447",
   "metadata": {},
   "source": [
    "### Q.1 What are the characteristics of the tuples? is tuple immutable ?"
   ]
  },
  {
   "cell_type": "markdown",
   "id": "9b733cd5-550d-4d57-991d-95162c5842d2",
   "metadata": {},
   "source": [
    "#### Tuples are orders , unchange and allow duplicates .tuples items are indexed the first item has index [0] the second item has index [1] etc.\n",
    "1. ordes:- when we say that tuples are orderd it means that the item haa defined order and that order will not change. \n",
    "2. unchangable:-tuples are unchngable ,meaning that we cannot change add or remove items after the tuple has been created \n",
    "3. Allow duplicates :- tuples allow duplicate values \n",
    "\n",
    "#### For example "
   ]
  },
  {
   "cell_type": "code",
   "execution_count": 19,
   "id": "ce91718b-51e4-4f94-9469-a9c283009386",
   "metadata": {},
   "outputs": [
    {
     "name": "stdout",
     "output_type": "stream",
     "text": [
      "('apple', 'banana', 'cherry')\n"
     ]
    }
   ],
   "source": [
    "tuple=(\"apple\",\"banana\",\"cherry\")\n",
    "print(tuple)"
   ]
  },
  {
   "cell_type": "markdown",
   "id": "96fe6b4d-c488-4f89-aff5-8f8649cbb9e4",
   "metadata": {
    "tags": []
   },
   "source": [
    "***\n",
    "### Q.2 What are the two tuple method in python ?give an example of each method .give reasons why tuple have only two in-built method as compare to lists ?"
   ]
  },
  {
   "cell_type": "markdown",
   "id": "da2f29c5-38ce-48cb-bffd-f61357529d7a",
   "metadata": {},
   "source": [
    "#### In python, tuples are immutable means you cannot change items of the tuples once it is assinged .there are only two tuples method count()and index() that a tuple object can call.\n",
    "### For example:-\n",
    "### count()"
   ]
  },
  {
   "cell_type": "code",
   "execution_count": 20,
   "id": "d2ba0cc5-af8d-4cfc-ad47-9592e347f0f1",
   "metadata": {},
   "outputs": [
    {
     "name": "stdout",
     "output_type": "stream",
     "text": [
      "2\n"
     ]
    }
   ],
   "source": [
    "tuple=(\"mango\",\"apple\",\"mango\",\"banana\",\"apple\",)\n",
    "x=tuple.count(\"apple\")\n",
    "print(x)"
   ]
  },
  {
   "cell_type": "markdown",
   "id": "0b54cb4c-c645-40ea-80f3-bf898e1996ad",
   "metadata": {},
   "source": [
    "### index()"
   ]
  },
  {
   "cell_type": "code",
   "execution_count": 21,
   "id": "c26fb37e-d94e-4df4-9093-3cbf95529d4f",
   "metadata": {},
   "outputs": [
    {
     "name": "stdout",
     "output_type": "stream",
     "text": [
      "1\n"
     ]
    }
   ],
   "source": [
    "tuple=(1,2,3,4,5,6,7,8)\n",
    "x=tuple[0]\n",
    "print(x)"
   ]
  },
  {
   "cell_type": "markdown",
   "id": "6b2f76a0-1201-40e1-a05e-5a9d83d1c9f4",
   "metadata": {},
   "source": [
    "***\n",
    "### Q.3 Which collection datatypes in python do not allow duplictaes item? write a code using a set to remove duplictes from the given list ?\n",
    "## list=[1,1,1,2,1,3,1,4,2,1,2,2,2,3,2,4,3,1,3,2,3,3,3,4,4,1,4,2,4,3,4,4]"
   ]
  },
  {
   "cell_type": "markdown",
   "id": "2a14c53b-3b3a-4bd9-9a78-68650e3bfa3c",
   "metadata": {},
   "source": [
    "#### Sets do not allow duplicte item in python."
   ]
  },
  {
   "cell_type": "code",
   "execution_count": 23,
   "id": "b02b6833-2cb0-41ae-8d21-c03febc76723",
   "metadata": {},
   "outputs": [
    {
     "name": "stdout",
     "output_type": "stream",
     "text": [
      "{1, 2, 3, 4}\n"
     ]
    }
   ],
   "source": [
    "# Code to remove the duplicate items in sets \n",
    "\n",
    "list=[1,1,1,2,1,3,1,4,2,1,2,2,2,3,2,4,3,1,3,2,3,3,3,4,4,1,4,2,4,3,4,4]\n",
    "l=(set(list))\n",
    "print(l)"
   ]
  },
  {
   "cell_type": "markdown",
   "id": "198b5c16-df0e-43c2-81d0-8dbbf5a2ed52",
   "metadata": {},
   "source": [
    "***\n",
    "### Q.4 Explain the diffrence the union()and update()method for a set . give an exmples of each method "
   ]
  },
  {
   "cell_type": "markdown",
   "id": "08288bd7-c2e3-402c-81e7-305f3fbbd12a",
   "metadata": {},
   "source": [
    "#### Both set.update() and set.union() performs the union opreration.however set.update() add all missing number or elements to the sets on which it is called whereas set.union() creates a new set constantly the return value of set,update() is none (with side effects )and the returns  values of set.union() is a set ( without side effect ).\n",
    "## for exmaple:-"
   ]
  },
  {
   "cell_type": "code",
   "execution_count": 9,
   "id": "913aaabd-dff3-4285-9b70-b57b88570af7",
   "metadata": {},
   "outputs": [
    {
     "data": {
      "text/plain": [
       "{1, 2, 3, 4, 5}"
      ]
     },
     "execution_count": 9,
     "metadata": {},
     "output_type": "execute_result"
    }
   ],
   "source": [
    "s={1,2,3}\n",
    "s.update({4,5})\n",
    "s\n",
    "\n",
    "# the original set.s is modified and now contains five elements after the update.\n",
    "# there is no return value so you need to seperately print out the set  "
   ]
  },
  {
   "cell_type": "code",
   "execution_count": 15,
   "id": "13a04a5d-373c-47fe-abaa-73f9cd3e1fde",
   "metadata": {},
   "outputs": [
    {
     "data": {
      "text/plain": [
       "{1, 2, 3, 4, 5}"
      ]
     },
     "execution_count": 15,
     "metadata": {},
     "output_type": "execute_result"
    }
   ],
   "source": [
    "set.union()\n",
    "s={1,2,3}\n",
    "s.union({4,5})\n",
    "\n",
    "## the original set 's'is modifide now contains 5 elemnts after the update"
   ]
  },
  {
   "cell_type": "markdown",
   "id": "7895f093-d3db-4253-bcd3-832d0a0293a9",
   "metadata": {},
   "source": [
    "***\n",
    "### Q.5 what is the dictonary? give an example also state wheather a dictionary is orderd or unorderd ?"
   ]
  },
  {
   "cell_type": "markdown",
   "id": "df7d5d17-bdf2-45e4-9484-1f4d237405fa",
   "metadata": {},
   "source": [
    "### At dictionary is an abstract data type that defines an ordered collection of data as a set of key value pairs each key which must be unique has an associated value Typically keys in the dictionary must be simple types such as there was a jar of strings while the values can be of any type. Dictionary has unorderd type of data collection\n",
    "### for example :-"
   ]
  },
  {
   "cell_type": "code",
   "execution_count": 16,
   "id": "55dde9ff-fe4a-4cee-94ed-826d816f7b4a",
   "metadata": {},
   "outputs": [
    {
     "name": "stdout",
     "output_type": "stream",
     "text": [
      "{'nepal': 'kathmandu', 'italy': 'rome'}\n"
     ]
    }
   ],
   "source": [
    "capital_city={\"nepal\":\"kathmandu\",\"italy\":\"rome\"}\n",
    "print(capital_city)"
   ]
  },
  {
   "cell_type": "markdown",
   "id": "c9ba430e-86c5-4fe9-8882-ff685c930805",
   "metadata": {},
   "source": [
    "***\n",
    "### Q.6 Can we create nested dictionary? If so please give an example by creating a simple one -level nested dictionary"
   ]
  },
  {
   "cell_type": "markdown",
   "id": "155ab6a2-2e83-4553-aca0-dde1d8fb08c0",
   "metadata": {},
   "source": [
    "* Yes we can create an nested dictionary. Nested dictionary is a dictionary that has many dictionary.\n",
    "* for examples:-\n"
   ]
  },
  {
   "cell_type": "code",
   "execution_count": 18,
   "id": "4ef515b9-663c-407e-b173-fad81a288d6d",
   "metadata": {},
   "outputs": [
    {
     "name": "stdout",
     "output_type": "stream",
     "text": [
      "{1: {'name': 'pavan', 'age': '28', 'sex': 'male'}, 2: {'name': 'kalyani', 'age': '24', 'sex': 'female'}}\n"
     ]
    }
   ],
   "source": [
    "people={1:{\"name\":\"pavan\",\"age\":\"28\",\"sex\":\"male\"},\n",
    "        2:{\"name\":\"kalyani\",\"age\":\"24\",\"sex\":\"female\"}}\n",
    "print(people)"
   ]
  },
  {
   "cell_type": "markdown",
   "id": "3cb8c516-3d02-4d34-b42e-697e7398fc3b",
   "metadata": {},
   "source": [
    "***\n",
    "### Q7. Using setdefault() method, create key named topics in the given dictionary and also add the value of the key as this list ['Python', 'Machine Learning’, 'Deep Learning'] \n",
    "* dict1 = {'language' : 'Python', 'course': 'Data Science Masters'}"
   ]
  },
  {
   "cell_type": "code",
   "execution_count": 6,
   "id": "3940cc57-01f3-4d94-976b-a182f5168241",
   "metadata": {},
   "outputs": [
    {
     "name": "stdout",
     "output_type": "stream",
     "text": [
      "{'language': 'Python', 'course': 'Data Science Masters', ' ': 'Deep Learning'}\n"
     ]
    }
   ],
   "source": [
    "dict1 = {'language' : 'Python', 'course': 'Data Science Masters'}\n",
    "\n",
    "dict1.setdefault(' ' ,'Deep Learning')\n",
    "print(dict1)\n"
   ]
  },
  {
   "cell_type": "markdown",
   "id": "3ec1829c-46e9-426b-bb56-8d9c334ff17d",
   "metadata": {},
   "source": [
    "***"
   ]
  },
  {
   "cell_type": "markdown",
   "id": "332f0396-aef7-4b92-8038-e2bce193a3a2",
   "metadata": {},
   "source": [
    "### Q8. What are the three view objects in dictionaries? Use the three in-built methods in python to display these   three view objects for the given dictionary. \n",
    "* dict1 = {'Sport': 'Cricket' , 'Teams': ['India', 'Australia', 'England', 'South Africa', 'Sri Lanka', 'New Zealand']}"
   ]
  },
  {
   "cell_type": "markdown",
   "id": "3c582e01-ea39-4225-8c58-cb64ed04a77b",
   "metadata": {},
   "source": [
    "* The main view objects of dictionary in python are **keys**, **values** and **items. They provide a non-constant view of the dictionary’s entries.\n",
    "* Keys holds all the keys of the dictionary, the values objects holds all the values, whereas the items holds the key-value pairs.\n",
    "\n",
    "\n",
    "\n"
   ]
  },
  {
   "cell_type": "code",
   "execution_count": 11,
   "id": "14275e47-c5b8-4ac0-a515-7292fd3b6b57",
   "metadata": {},
   "outputs": [
    {
     "name": "stdout",
     "output_type": "stream",
     "text": [
      "dict_keys(['Sport', 'Teams'])\n",
      "<class 'dict_keys'>\n"
     ]
    }
   ],
   "source": [
    "\n",
    "# Example for Keys \n",
    "\n",
    "dict1 = {'Sport': 'Cricket' , 'Teams': ['India', 'Australia', 'England', 'South Africa', 'Sri Lanka', 'New Zealand']}\n",
    "k = dict1.keys()\n",
    "print(k)\n",
    "print(type(k))"
   ]
  },
  {
   "cell_type": "code",
   "execution_count": 12,
   "id": "3b87b498-8386-479c-bef4-e100ee8bdc40",
   "metadata": {},
   "outputs": [
    {
     "name": "stdout",
     "output_type": "stream",
     "text": [
      "dict_values(['Cricket', ['India', 'Australia', 'England', 'South Africa', 'Sri Lanka', 'New Zealand']])\n",
      "<class 'dict_values'>\n"
     ]
    }
   ],
   "source": [
    "\n",
    "# Example for Values\n",
    "\n",
    "dict1 = {'Sport': 'Cricket' , 'Teams': ['India', 'Australia', 'England', 'South Africa', 'Sri Lanka', 'New Zealand']}\n",
    "v = dict1.values()\n",
    "print(v)\n",
    "print(type(v))"
   ]
  },
  {
   "cell_type": "code",
   "execution_count": 14,
   "id": "931b8104-5862-4a71-b01a-e986b67016c0",
   "metadata": {},
   "outputs": [
    {
     "name": "stdout",
     "output_type": "stream",
     "text": [
      "dict_items([('Sport', 'Cricket'), ('Teams', ['India', 'Australia', 'England', 'South Africa', 'Sri Lanka', 'New Zealand'])])\n",
      "<class 'dict_items'>\n"
     ]
    }
   ],
   "source": [
    "\n",
    "# Example for Items\n",
    "\n",
    "dict1 = {'Sport': 'Cricket' , 'Teams': ['India', 'Australia', 'England', 'South Africa', 'Sri Lanka', 'New Zealand']}\n",
    "i = dict1.items()\n",
    "print(i)\n",
    "print(type(i))"
   ]
  },
  {
   "cell_type": "markdown",
   "id": "a67fe0a8-55a2-4698-8bb0-885709c7c8f0",
   "metadata": {},
   "source": [
    "***"
   ]
  },
  {
   "cell_type": "code",
   "execution_count": null,
   "id": "2137d21d-73f5-410b-96b1-f6ddafc228cb",
   "metadata": {},
   "outputs": [],
   "source": []
  }
 ],
 "metadata": {
  "kernelspec": {
   "display_name": "Python 3 (ipykernel)",
   "language": "python",
   "name": "python3"
  },
  "language_info": {
   "codemirror_mode": {
    "name": "ipython",
    "version": 3
   },
   "file_extension": ".py",
   "mimetype": "text/x-python",
   "name": "python",
   "nbconvert_exporter": "python",
   "pygments_lexer": "ipython3",
   "version": "3.10.8"
  }
 },
 "nbformat": 4,
 "nbformat_minor": 5
}
