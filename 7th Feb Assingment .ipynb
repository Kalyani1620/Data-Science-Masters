{
 "cells": [
  {
   "cell_type": "markdown",
   "id": "11b5de48-7b85-4c5b-ad29-0b09d8ed13fb",
   "metadata": {},
   "source": [
    "#### Q1. You are writing code for a company. The requirement of the company is that you create a python function that will check whether the password entered by the user is correct or not. The function should take the password as input and return the string “Valid Password” if the entered password follows the below-given password guidelines else it should return “Invalid Password”.\n",
    "* Note:\n",
    "1. The Password should contain at least two uppercase letters and at least two lowercase letters.\n",
    "2. The Password should contain at least a number and three special characters.\n",
    "3. The length of the password should be 10 characters long."
   ]
  },
  {
   "cell_type": "code",
   "execution_count": 2,
   "id": "73f6838b-056e-4013-aa5d-4c86a8477458",
   "metadata": {},
   "outputs": [
    {
     "name": "stdin",
     "output_type": "stream",
     "text": [
      "Input your password Kalyani@2016\n"
     ]
    },
    {
     "name": "stdout",
     "output_type": "stream",
     "text": [
      "Valid Password\n"
     ]
    }
   ],
   "source": [
    "import re\n",
    "p= input(\"Input your password\")\n",
    "x = True\n",
    "while x:  \n",
    "    if (len(p)==10):\n",
    "        break\n",
    "    elif not re.search(\"[a-z]\",p):\n",
    "        break\n",
    "    elif not re.search(\"[0-9]\",p):\n",
    "        break\n",
    "    elif not re.search(\"[A-Z]\",p):\n",
    "        break\n",
    "    elif not re.search(\"[$#@]\",p):\n",
    "        break\n",
    "    elif re.search(\"\\s\",p):\n",
    "        break\n",
    "    else:\n",
    "        print(\"Valid Password\")\n",
    "        x=False\n",
    "        break\n",
    "\n",
    "if x:\n",
    "    print(\"Not a Valid Password\")"
   ]
  },
  {
   "cell_type": "markdown",
   "id": "b5321710-8742-4cff-b31c-21cb46a8ccb7",
   "metadata": {},
   "source": [
    "****"
   ]
  },
  {
   "cell_type": "markdown",
   "id": "7084d284-ae46-4d7d-94e1-04d6561db858",
   "metadata": {},
   "source": [
    "### Q2.Solve the below-given questions using at least one of the following:\n",
    "1. Lambda function\n",
    "2. Filter function\n",
    "3. Zap function\n",
    "4. List Comprehension                                                                                         * \n",
    "\n",
    "* Check if the string starts with a particular letter \n",
    "* Check if the string is numeric \n",
    "* B Sort a list of tuples having fruit names and their quantity.\n",
    "      [(\"mango\",99),(\"orange\",80), (\"grapes\", 1000)-\n",
    "*  Find the squares of numbers from 1 to 10Y \n",
    "* B Find the cube root of numbers from 1 to 10Y\n",
    "* B Check if a given number is evenY\n",
    "* B Filter odd numbers from the given list.\n",
    "[1,2,3,4,5,6,7,8,9,10-\n",
    "B Sort a list of integers into positive and negative integers lists.\n",
    "[1,2,3,4,5,6,-1,-2,-3,-4,-5,0]"
   ]
  },
  {
   "cell_type": "code",
   "execution_count": 6,
   "id": "1da0dd06-09aa-4340-9bb7-d71e4c6dbf93",
   "metadata": {},
   "outputs": [
    {
     "name": "stdout",
     "output_type": "stream",
     "text": [
      "False\n"
     ]
    }
   ],
   "source": [
    "### cheack if the string starts with a particular letter\n",
    "\n",
    "txt = \"Hello, welcome to my world.\"\n",
    "\n",
    "x = txt.startswith(\"Hello\")\n",
    "\n",
    "print(x)\n"
   ]
  },
  {
   "cell_type": "code",
   "execution_count": 11,
   "id": "291e7821-5d34-471e-9d12-808673557859",
   "metadata": {},
   "outputs": [
    {
     "name": "stdout",
     "output_type": "stream",
     "text": [
      "True\n"
     ]
    }
   ],
   "source": [
    "### Check if the string is numeric\n",
    "\n",
    "is_num = lambda q: q.replace('.','',1).isdigit()\n",
    "print(is_num('26587'))"
   ]
  },
  {
   "cell_type": "code",
   "execution_count": 13,
   "id": "2a533370-4268-48fc-9016-1e97e1c32487",
   "metadata": {},
   "outputs": [
    {
     "name": "stdout",
     "output_type": "stream",
     "text": [
      "[('orange', 80), ('mango', 99), ('grapes', 1000)]\n"
     ]
    }
   ],
   "source": [
    "### Sort a list of tuples having fruit names and their quantity.\n",
    "\n",
    "def Sort_Tuple(tup):\n",
    "    \n",
    "\ttup.sort(key = lambda x: x[1])\n",
    "\treturn tup\n",
    "\n",
    "tup = [(\"mango\",99),(\"orange\",80), (\"grapes\", 1000\n",
    "                                    \n",
    "print(Sort_Tuple(tup))\n"
   ]
  },
  {
   "cell_type": "code",
   "execution_count": 14,
   "id": "1e73b248-314f-4cb5-9a0e-30cf4f28dfeb",
   "metadata": {},
   "outputs": [
    {
     "name": "stdout",
     "output_type": "stream",
     "text": [
      "[1, 4, 9, 16, 25, 36, 49, 64, 81, 100]\n"
     ]
    }
   ],
   "source": [
    "###Find the squares of numbers from 1 to 10\n",
    "l= [1,2,3,4,5,6,7,8,9,10]\n",
    "\n",
    "list1=list(map(lambda x : x**2, l))\n",
    "\n",
    "print(list1)\n"
   ]
  },
  {
   "cell_type": "code",
   "execution_count": 15,
   "id": "14a55da0-36a9-486c-8aea-4a228614a381",
   "metadata": {},
   "outputs": [
    {
     "name": "stdout",
     "output_type": "stream",
     "text": [
      "[1.0, 1.2599210498948732, 1.4422495703074083, 1.5874010519681994, 1.7099759466766968, 1.8171205928321397, 1.912931182772389, 2.0, 2.080083823051904, 2.154434690031884]\n"
     ]
    }
   ],
   "source": [
    "### Find the cube root of numbers from 1 to 10\n",
    "l= [1,2,3,4,5,6,7,8,9,10]\n",
    "\n",
    "list1=list(map(lambda x : x**(1/3), l))\n",
    "\n",
    "print(list1)\n"
   ]
  },
  {
   "cell_type": "code",
   "execution_count": 20,
   "id": "3baf3e7f-06f0-4bea-b682-ba8d02fab248",
   "metadata": {},
   "outputs": [
    {
     "name": "stdout",
     "output_type": "stream",
     "text": [
      "[True, False, True, False, True, False, True, False, True, False]\n"
     ]
    }
   ],
   "source": [
    "###Check if a given number is even\n",
    "\n",
    "l= [1,2,3,4,5,6,7,8,9,10]\n",
    "\n",
    "list1= list(map(lambda x : x%2 !=0, l))\n",
    "\n",
    "print(list1)"
   ]
  },
  {
   "cell_type": "code",
   "execution_count": 23,
   "id": "4918ac99-8ee2-4d20-aaac-7fe8f3b64f95",
   "metadata": {},
   "outputs": [
    {
     "name": "stdout",
     "output_type": "stream",
     "text": [
      "[1, 3, 5, 7, 9]\n"
     ]
    }
   ],
   "source": [
    "###Filter odd numbers from the given list.\n",
    "l = [1,2,3,4,5,6,7,8,9,10]\n",
    "\n",
    "list1 = list(filter(lambda x : x%2 !=0, l))\n",
    "\n",
    "print(list1)"
   ]
  },
  {
   "cell_type": "code",
   "execution_count": 24,
   "id": "cbd53a38-994b-42cc-a716-0706b7fb348e",
   "metadata": {},
   "outputs": [
    {
     "name": "stdout",
     "output_type": "stream",
     "text": [
      "[-1, -2, -3, -4, -5]\n"
     ]
    }
   ],
   "source": [
    "### Sort a list of integers into positive and negative integers lists.\n",
    "\n",
    "l= [1,2,3,4,5,6,-1,-2,-3,-4,-5,0]\n",
    "\n",
    "list1 = list(filter(lambda x : x<0, l))\n",
    "\n",
    "print(list1)"
   ]
  },
  {
   "cell_type": "code",
   "execution_count": 25,
   "id": "2d7b37b5-4006-48f6-a30a-3e5e0c6dddf3",
   "metadata": {},
   "outputs": [
    {
     "name": "stdout",
     "output_type": "stream",
     "text": [
      "[1, 2, 3, 4, 5, 6]\n"
     ]
    }
   ],
   "source": [
    "l= [1,2,3,4,5,6,-1,-2,-3,-4,-5,0]\n",
    "\n",
    "list1 = list(filter(lambda x : x>0, l))\n",
    "\n",
    "print(list1)"
   ]
  },
  {
   "cell_type": "markdown",
   "id": "465effe3-858e-4850-9ba8-018a7fff7d97",
   "metadata": {},
   "source": [
    "****"
   ]
  }
 ],
 "metadata": {
  "kernelspec": {
   "display_name": "Python 3 (ipykernel)",
   "language": "python",
   "name": "python3"
  },
  "language_info": {
   "codemirror_mode": {
    "name": "ipython",
    "version": 3
   },
   "file_extension": ".py",
   "mimetype": "text/x-python",
   "name": "python",
   "nbconvert_exporter": "python",
   "pygments_lexer": "ipython3",
   "version": "3.10.8"
  }
 },
 "nbformat": 4,
 "nbformat_minor": 5
}
