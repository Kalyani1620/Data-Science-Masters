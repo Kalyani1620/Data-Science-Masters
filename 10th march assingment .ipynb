{
 "cells": [
  {
   "cell_type": "markdown",
   "id": "50f777ab-fef2-441f-baf2-8f21ed38bc22",
   "metadata": {},
   "source": [
    "#### Q1: What is Estimation Statistics? Explain point estimate and interval estimate."
   ]
  },
  {
   "cell_type": "markdown",
   "id": "238a9c61-c75f-4ab5-9884-f69ee2636a10",
   "metadata": {},
   "source": [
    "Estimation statistics is a branch of statistics that deals with estimating population parameters based on sample statistics.\n",
    "\n",
    "Point estimate refers to the estimate of a population parameter, such as the mean or proportion, using a single value derived from the sample data. For example, the sample mean is a point estimate of the population mean. Point estimates provide a single value that can be used to make inferences about the population parameter, but they do not provide information about the accuracy of the estimate.\n",
    "\n",
    "Interval estimate, on the other hand, is a range of values that is likely to contain the true population parameter with a certain level of confidence. The most common type of interval estimate is the confidence interval, which is calculated from the sample data and provides a range of values within which the true population parameter is likely to fall. For example, a 95% confidence interval for the population mean would be a range of values within which we are 95% confident that the true population mean falls.\n",
    "\n",
    "Interval estimates provide more information about the accuracy of the estimate than point estimates. However, interval estimates require more computation and may be more difficult to interpret than point estimates."
   ]
  },
  {
   "cell_type": "markdown",
   "id": "9edc8478-ce90-4898-a960-d4cfc320f232",
   "metadata": {},
   "source": [
    "****"
   ]
  },
  {
   "cell_type": "markdown",
   "id": "23c3c723-7ebc-4d7a-bf50-c7f0222428f9",
   "metadata": {},
   "source": [
    "#### Q2. Write a Python function to estimate the population mean using a sample mean and standard deviation."
   ]
  },
  {
   "cell_type": "code",
   "execution_count": 1,
   "id": "8a1fa0ef-9509-49bd-a5d7-d4af11bc6f66",
   "metadata": {},
   "outputs": [],
   "source": [
    "def estimate_population_mean(sample_mean, sample_std_dev, sample_size):\n",
    "    import math\n",
    "    \n",
    "    std_error_mean = sample_std_dev / math.sqrt(sample_size)\n",
    "    \n",
    "    margin_error = 1.96 * std_error_mean\n",
    "    \n",
    "    lower_bound = sample_mean - margin_error\n",
    "    upper_bound = sample_mean + margin_error\n",
    "    \n",
    "    return (sample_mean, (lower_bound, upper_bound))\n"
   ]
  },
  {
   "cell_type": "code",
   "execution_count": 4,
   "id": "89607451-b678-402b-9294-9c2e311bddbf",
   "metadata": {},
   "outputs": [
    {
     "name": "stdout",
     "output_type": "stream",
     "text": [
      "Estimated population mean: 10.20\n",
      "95% Confidence Interval: (9.51, 10.89)\n"
     ]
    }
   ],
   "source": [
    "\n",
    "sample_mean = 10.2\n",
    "sample_std_dev = 2.5\n",
    "sample_size = 50\n",
    "\n",
    "estimated_mean, confidence_interval = estimate_population_mean(sample_mean, sample_std_dev, sample_size)\n",
    "\n",
    "print(\"Estimated population mean: {:.2f}\".format(estimated_mean))\n",
    "print(\"95% Confidence Interval: ({:.2f}, {:.2f})\".format(confidence_interval[0], confidence_interval[1]))\n"
   ]
  },
  {
   "cell_type": "markdown",
   "id": "f7c804a5-9df4-49aa-a5c4-fdce8208fde6",
   "metadata": {},
   "source": [
    "***\n",
    "#### Q3: What is Hypothesis testing? Why is it used? State the importance of Hypothesis testing."
   ]
  },
  {
   "cell_type": "markdown",
   "id": "94266a82-95c5-4de3-9dd2-df6c7324add3",
   "metadata": {},
   "source": [
    "Hypothesis testing is a statistical method that is used to determine whether a hypothesis about a population parameter is supported by the evidence provided by a sample of data. In hypothesis testing, we start by formulating two hypotheses: the null hypothesis and the alternative hypothesis. The null hypothesis is the default assumption, while the alternative hypothesis is what we are trying to establish.\n",
    "\n",
    "The null hypothesis typically states that there is no difference or no effect, while the alternative hypothesis typically states that there is a difference or an effect. We then collect data and use statistical methods to test whether the evidence supports the null hypothesis or the alternative hypothesis.\n",
    "\n",
    "Hypothesis testing is used in many areas of research, including science, social science, and business. It is used to test theories, evaluate the effectiveness of interventions, and make decisions based on data.\n",
    "\n",
    "The importance of hypothesis testing lies in its ability to provide a structured and objective framework for making decisions based on data. By setting up hypotheses and testing them using statistical methods, we can avoid making decisions based on personal biases or intuition. We can also quantify the level of uncertainty associated with our decision, which allows us to make more informed and confident decisions.\n",
    "\n",
    "In addition, hypothesis testing is a key component of the scientific method. By formulating hypotheses and testing them using data, we can gain a deeper understanding of the world around us and make progress in our scientific and technological endeavors."
   ]
  },
  {
   "cell_type": "markdown",
   "id": "36926536-d864-4b6a-9f29-79fb0d273db1",
   "metadata": {},
   "source": [
    "****"
   ]
  },
  {
   "cell_type": "markdown",
   "id": "a3ef0197-7a6f-4683-aec2-361a58cf3540",
   "metadata": {},
   "source": [
    "#### Q4. Create a hypothesis that states whether the average weight of male college students is greater than the average weight of female college students."
   ]
  },
  {
   "cell_type": "markdown",
   "id": "91c0ab6b-e8dc-45a1-9d3e-8c87c489b8f2",
   "metadata": {},
   "source": [
    "The null hypothesis would be that there is no difference in the average weight between male and female college students:\n",
    "\n",
    "H0: µm = µf\n",
    "\n",
    "where µm is the population mean weight of male college students, and µf is the population mean weight of female college students.\n",
    "\n",
    "The alternative hypothesis would be that the average weight of male college students is greater than the average weight of female college students:\n",
    "\n",
    "Ha: µm > µf\n",
    "\n",
    "where µm is the population mean weight of male college students, and µf is the population mean weight of female college students.\n",
    "\n",
    "We could then collect data on the weights of a sample of male and female college students and use statistical methods to test whether the evidence supports the null hypothesis or the alternative hypothesis."
   ]
  },
  {
   "cell_type": "markdown",
   "id": "20356be7-3b5d-4f18-960c-a77a7c988463",
   "metadata": {},
   "source": [
    "****"
   ]
  },
  {
   "cell_type": "markdown",
   "id": "671220d8-6477-42b1-acea-fca56578b507",
   "metadata": {},
   "source": [
    "#### Q5. Write a Python script to conduct a hypothesis test on the difference between two population means,given a sample from each population."
   ]
  },
  {
   "cell_type": "code",
   "execution_count": 11,
   "id": "be03e120-3e5d-42bf-92c4-550108544f18",
   "metadata": {},
   "outputs": [
    {
     "name": "stdout",
     "output_type": "stream",
     "text": [
      "Sample 1 mean: 3.2600000000000002\n",
      "Sample 2 mean: 2.66\n",
      "Pooled standard deviation: 2.208\n",
      "t-statistic: 0.6384423980690614\n",
      "p-value: 0.5410273546331422\n"
     ]
    }
   ],
   "source": [
    "import scipy.stats as stats\n",
    "\n",
    "sample1 = [1.2, 2.5, 3.1, 4.2, 5.3]\n",
    "sample2 = [0.9, 1.8, 2.7, 3.4, 4.5]\n",
    "\n",
    "mean1 = sum(sample1) / len(sample1)\n",
    "mean2 = sum(sample2) / len(sample2)\n",
    "std_dev1 = stats.tstd(sample1)\n",
    "std_dev2 = stats.tstd(sample2)\n",
    "\n",
    "df = len(sample1) + len(sample2) - 2\n",
    "\n",
    "pooled_std_dev = ((len(sample1) - 1) * std_dev1 ** 2 + (len(sample2) - 1) * std_dev2 ** 2) / df\n",
    "\n",
    "t_stat = (mean1 - mean2) / (pooled_std_dev * (1/len(sample1) + 1/len(sample2))) ** 0.5\n",
    "\n",
    "p_value = stats.t.sf(abs(t_stat), df) * 2\n",
    "\n",
    "print(\"Sample 1 mean:\", mean1)\n",
    "print(\"Sample 2 mean:\", mean2)\n",
    "print(\"Pooled standard deviation:\", pooled_std_dev)\n",
    "print(\"t-statistic:\", t_stat)\n",
    "print(\"p-value:\", p_value)\n"
   ]
  },
  {
   "cell_type": "markdown",
   "id": "878a7e37-974f-4c0e-bd23-f151b527d67c",
   "metadata": {},
   "source": [
    "****"
   ]
  },
  {
   "cell_type": "markdown",
   "id": "6fabcec4-a5b8-4579-804c-35edf710bdde",
   "metadata": {},
   "source": [
    "#### Q6: What is a null and alternative hypothesis? Give some examples."
   ]
  },
  {
   "cell_type": "markdown",
   "id": "c1af9d99-d350-4088-ae74-550e215f1746",
   "metadata": {},
   "source": [
    "In hypothesis testing, the null hypothesis (H0) is a statement that assumes there is no difference or relationship between two variables, while the alternative hypothesis (Ha) is a statement that contradicts the null hypothesis and assumes that there is a difference or relationship between the two variables.\n",
    "\n",
    "Here are some examples of null and alternative hypotheses:\n",
    "\n",
    "Null hypothesis: The mean weight of apples produced by two farms is equal. Alternative hypothesis: The mean weight of apples produced by two farms is not equal.\n",
    "Null hypothesis: There is no difference in test scores between two groups of students. Alternative hypothesis: There is a difference in test scores between two groups of students.\n",
    "Null hypothesis: A new drug has no effect on reducing blood pressure. Alternative hypothesis: A new drug has an effect on reducing blood pressure.\n",
    "Null hypothesis: There is no relationship between caffeine consumption and sleep quality. Alternative hypothesis: There is a relationship between caffeine consumption and sleep quality.\n",
    "Null hypothesis: The proportion of defective products is less than or equal to 5%. Alternative hypothesis: The proportion of defective products is greater than 5%.\n",
    "In each of these examples, the null hypothesis assumes that there is no difference or relationship between two variables, while the alternative hypothesis contradicts this assumption and suggests that there is a difference or relationship between the two variables."
   ]
  },
  {
   "cell_type": "markdown",
   "id": "4b7b22f6-dfe2-4dac-96ce-bb8b2bff3891",
   "metadata": {},
   "source": [
    "****"
   ]
  },
  {
   "cell_type": "markdown",
   "id": "a30da9da-333d-4ccb-8fd6-e9ab23a19fb6",
   "metadata": {},
   "source": [
    "#### Q7: Write down the steps involved in hypothesis testing."
   ]
  },
  {
   "cell_type": "markdown",
   "id": "274a9a59-3bbe-4b49-98be-93ca4b89aca1",
   "metadata": {},
   "source": [
    "Here are the general steps involved in hypothesis testing:\n",
    "\n",
    "1. Formulate the null and alternative hypotheses: This involves defining the research question and determining what we want to test.\n",
    "\n",
    "2. Set the significance level: This is the probability threshold that we set for rejecting the null hypothesis. The most common significance level is 0.05.\n",
    "\n",
    "3. Determine the test statistic: This is the statistical method or formula used to analyze the data and calculate the test statistic, which is used to determine the p-value.\n",
    "\n",
    "4. Calculate the p-value: This is the probability of obtaining a test statistic as extreme or more extreme than the one observed, assuming that the null hypothesis is true.\n",
    "\n",
    "5. Compare the p-value to the significance level: If the p-value is less than or equal to the significance level, we reject the null hypothesis. Otherwise, we fail to reject the null hypothesis.\n",
    "\n",
    "6. Interpret the results: If we reject the null hypothesis, we conclude that there is evidence to support the alternative hypothesis. If we fail to reject the null hypothesis, we conclude that there is not enough evidence to support the alternative hypothesis.\n",
    "\n",
    "7. Draw conclusions: Based on the results of the hypothesis test, we draw conclusions about the research question and communicate the findings.\n",
    "\n",
    "It's worth noting that the exact steps involved in hypothesis testing may vary depending on the specific test being used and the research question being asked. However, these general steps provide a framework for conducting hypothesis tests in a systematic and rigorous manner."
   ]
  },
  {
   "cell_type": "markdown",
   "id": "331c8223-b9b9-47a2-b257-938dc6e1f8ae",
   "metadata": {},
   "source": [
    "****"
   ]
  },
  {
   "cell_type": "markdown",
   "id": "7233fe7b-c63e-43f6-a62c-5465e3f3acbe",
   "metadata": {},
   "source": [
    "#### Q8. Define p-value and explain its significance in hypothesis testing."
   ]
  },
  {
   "cell_type": "markdown",
   "id": "c609e729-021c-464a-a749-ddd28cb851da",
   "metadata": {},
   "source": [
    "In hypothesis testing, the p-value is the probability of obtaining a test statistic as extreme or more extreme than the one observed, assuming that the null hypothesis is true. It measures the strength of the evidence against the null hypothesis and indicates how likely it is that the observed data occurred by chance.\n",
    "\n",
    "The significance of the p-value lies in its role in deciding whether to reject or fail to reject the null hypothesis. If the p-value is less than or equal to the chosen significance level (usually 0.05), we reject the null hypothesis and conclude that there is evidence to support the alternative hypothesis. If the p-value is greater than the significance level, we fail to reject the null hypothesis and conclude that there is not enough evidence to support the alternative hypothesis.\n",
    "\n",
    "In other words, the p-value helps us to make a decision about whether the observed data provides strong evidence for or against the null hypothesis. A small p-value (e.g., less than 0.05) indicates that the observed data is unlikely to have occurred by chance, providing strong evidence against the null hypothesis. On the other hand, a large p-value suggests that the observed data is likely to have occurred by chance, providing little or no evidence against the null hypothesis.\n",
    "\n",
    "It's important to note that the p-value is not the probability that the alternative hypothesis is true, nor is it a measure of the size or practical significance of the observed effect. Rather, it is a statistical tool that helps us to make a decision about whether the observed data is consistent with the null hypothesis or not.\n",
    "\n",
    "\n",
    "\n"
   ]
  },
  {
   "cell_type": "markdown",
   "id": "3fb8dcc7-4ebc-4fec-9e9a-b3d357a15ea8",
   "metadata": {},
   "source": [
    "****"
   ]
  },
  {
   "cell_type": "markdown",
   "id": "6aa9a64f-bab4-4f9d-8971-1695745299b2",
   "metadata": {},
   "source": [
    "#### Q9. Generate a Student's t-distribution plot using Python's matplotlib library, with the degrees of freedom parameter set to 10."
   ]
  },
  {
   "cell_type": "code",
   "execution_count": 12,
   "id": "0c02d633-d8bb-4912-a786-69f6f86a3d33",
   "metadata": {},
   "outputs": [
    {
     "data": {
      "image/png": "[encoded data removed]",
      "text/plain": [
       "<Figure size 640x480 with 1 Axes>"
      ]
     },
     "metadata": {},
     "output_type": "display_data"
    }
   ],
   "source": [
    "import numpy as np\n",
    "import matplotlib.pyplot as plt\n",
    "from scipy.stats import t\n",
    "\n",
    "# Set degrees of freedom\n",
    "df = 10\n",
    "\n",
    "# Generate x values\n",
    "x = np.linspace(-4, 4, 100)\n",
    "\n",
    "# Calculate y values (pdf)\n",
    "y = t.pdf(x, df)\n",
    "\n",
    "# Plot t-distribution\n",
    "plt.plot(x, y)\n",
    "plt.title(f\"Student's t-distribution with df={df}\")\n",
    "plt.xlabel('x')\n",
    "plt.ylabel('Probability density')\n",
    "plt.show()\n"
   ]
  },
  {
   "cell_type": "markdown",
   "id": "1f9867fb-3521-4256-a946-f9b4ef6ab53b",
   "metadata": {},
   "source": [
    "****"
   ]
  },
  {
   "cell_type": "markdown",
   "id": "019baf76-a01a-405d-b6d5-c0dfa60d4329",
   "metadata": {},
   "source": [
    "#### Q10. Write a Python program to calculate the two-sample t-test for independent samples, given two random samples of equal size and a null hypothesis that the population means are equal."
   ]
  },
  {
   "cell_type": "code",
   "execution_count": 13,
   "id": "5e4a8889-a3eb-4982-a4cc-579aba3ecbf8",
   "metadata": {},
   "outputs": [
    {
     "name": "stdout",
     "output_type": "stream",
     "text": [
      "t-statistic: -6.062\n",
      "p-value: 0.000\n"
     ]
    }
   ],
   "source": [
    "import numpy as np\n",
    "from scipy.stats import ttest_ind\n",
    "\n",
    "sample1 = np.random.normal(10, 2, 50)\n",
    "sample2 = np.random.normal(12, 2, 50)\n",
    "\n",
    "t_statistic, p_value = ttest_ind(sample1, sample2)\n",
    "\n",
    "print(f\"t-statistic: {t_statistic:.3f}\")\n",
    "print(f\"p-value: {p_value:.3f}\")\n"
   ]
  },
  {
   "cell_type": "markdown",
   "id": "d875c253-9e13-4404-9941-b886857799c2",
   "metadata": {},
   "source": [
    "*****"
   ]
  },
  {
   "cell_type": "markdown",
   "id": "4ced69ed-3b3e-4770-a841-9a9205852ca4",
   "metadata": {},
   "source": [
    "#### Q11: What is Student’s t distribution? When to use the t-Distribution.\n"
   ]
  },
  {
   "cell_type": "markdown",
   "id": "271ca2bb-2435-4699-98be-06a473928f0e",
   "metadata": {},
   "source": [
    "Student's t-distribution is a probability distribution that is used in statistical inference for small sample sizes, when the population standard deviation is unknown. It is similar to the standard normal distribution, but with heavier tails and a flatter peak.\n",
    "\n",
    "The t-distribution arises from the sample mean of a normally distributed population. When the population standard deviation is unknown, it is estimated using the sample standard deviation, resulting in an additional source of variability. The t-distribution takes into account this additional variability, making it a more appropriate distribution to use in small sample sizes.\n",
    "\n",
    "The t-distribution is used in hypothesis testing and confidence interval estimation for the population mean when the sample size is small (less than 30) and/or the population standard deviation is unknown. It is also used in the comparison of two sample means, such as in the two-sample t-test for independent samples or the paired t-test for dependent samples.\n",
    "\n",
    "In summary, the t-distribution is used when dealing with small sample sizes and/or unknown population standard deviation, and when performing statistical inference on the mean of a normally distributed population.\n",
    "\n"
   ]
  },
  {
   "cell_type": "markdown",
   "id": "fe68ee82-e700-4118-ab6d-490be7883e0a",
   "metadata": {},
   "source": [
    "****"
   ]
  },
  {
   "cell_type": "markdown",
   "id": "100fde7f-5621-4446-afef-bc795f86232e",
   "metadata": {},
   "source": [
    "#### Q12: What is t-statistic? State the formula for t-statistic."
   ]
  },
  {
   "cell_type": "markdown",
   "id": "e128d773-b2d1-4df1-b49b-9704d29a04ed",
   "metadata": {},
   "source": [
    "The t-statistic is a measure of the difference between a sample mean and a hypothesized population mean, expressed in units of the standard error. It is used in hypothesis testing to determine whether the observed difference is statistically significant or is likely due to chance.\n",
    "\n",
    "The formula for the t-statistic depends on the context and the type of hypothesis being tested. Here are three common formulas:\n",
    "\n",
    "One-sample t-test:\n",
    "\n",
    "t = (x̄ - μ) / (s / sqrt(n))\n",
    "\n",
    "where:\n",
    "x̄ is the sample mean\n",
    "μ is the hypothesized population mean\n",
    "s is the sample standard deviation\n",
    "n is the sample size\n",
    "\n",
    "Two-sample t-test for independent samples:\n",
    "\n",
    "t = (x̄1 - x̄2) / sqrt(s1^2/n1 + s2^2/n2)\n",
    "\n",
    "where:\n",
    "x̄1 and x̄2 are the sample means of the two independent samples\n",
    "s1 and s2 are the sample standard deviations of the two independent samples\n",
    "n1 and n2 are the sample sizes of the two independent samples\n",
    "\n",
    "Paired t-test for dependent samples:\n",
    "\n",
    "t = (x̄d - μd) / (sd / sqrt(n))\n",
    "\n",
    "where:\n",
    "x̄d is the mean of the differences between the paired observations\n",
    "μd is the hypothesized population mean difference\n",
    "sd is the sample standard deviation of the differences between the paired observations\n",
    "n is the number of pairs\n",
    "\n",
    "In all three cases, the t-statistic measures the difference between the sample mean and the hypothesized population mean, normalized by the standard error. A larger absolute value of the t-statistic indicates a stronger evidence against the null hypothesis."
   ]
  },
  {
   "cell_type": "markdown",
   "id": "0db3e8a8-f02d-4968-9f25-7a720cf87ac5",
   "metadata": {},
   "source": [
    "***"
   ]
  },
  {
   "cell_type": "markdown",
   "id": "a2eaf4b2-6b4f-4bbf-a8a0-0afab6d3d539",
   "metadata": {},
   "source": [
    "#### Q13. A coffee shop owner wants to estimate the average daily revenue for their shop. They take a random sample of 50 days and find the sample mean revenue to be $500 with a standard deviation of $50. Estimate the population mean revenue with a 95% confidence interval."
   ]
  },
  {
   "cell_type": "markdown",
   "id": "fcade1d1-d206-46da-aeaf-da747c9af7bf",
   "metadata": {},
   "source": [
    "We can estimate the population mean revenue with a 95% confidence interval using the following formula:\n",
    "\n",
    "Confidence interval = sample mean ± margin of error\n",
    "\n",
    "where the margin of error is calculated as:\n",
    "\n",
    "Margin of error = critical value x standard error\n",
    "\n",
    "The critical value is determined by the desired confidence level and the degrees of freedom, which in this case is 49 (sample size - 1). For a 95% confidence level and 49 degrees of freedom, the critical value can be obtained from a t-distribution table or using the t.ppf() function from the scipy.stats module in Python. The standard error can be calculated as the sample standard deviation divided by the square root of the sample size.\n",
    "\n",
    "Plugging in the values, we get:\n",
    "\n",
    "Margin of error = t.ppf(0.975, 49) x (50 / sqrt(50)) = 2.0096 x 7.0711 = 14.1989\n",
    "\n",
    "Confidence interval = 500 ± 14.1989 = (485.8011, 514.1989)\n",
    "\n",
    "Therefore, we can say with 95% confidence that the true population mean revenue is between $485.80 and $514.20."
   ]
  },
  {
   "cell_type": "markdown",
   "id": "b81ba334-451c-4985-86d4-7718377b2677",
   "metadata": {},
   "source": [
    "****"
   ]
  },
  {
   "cell_type": "markdown",
   "id": "9ee7d115-c38b-4839-984b-ecfc45448e62",
   "metadata": {},
   "source": [
    "#### Q14. A researcher hypothesizes that a new drug will decrease blood pressure by 10 mmHg. They conduct a clinical trial with 100 patients and find that the sample mean decrease in blood pressure is 8 mmHg with a standard deviation of 3 mmHg. Test the hypothesis with a significance level of 0.05."
   ]
  },
  {
   "cell_type": "markdown",
   "id": "d7bbbc0a-1ff5-4f20-9208-c821517387bb",
   "metadata": {},
   "source": [
    "To test the hypothesis, we can use a one-sample t-test with the following null and alternative hypotheses:\n",
    "\n",
    "Null hypothesis: The population mean decrease in blood pressure is equal to 10 mmHg.\n",
    "Alternative hypothesis: The population mean decrease in blood pressure is less than 10 mmHg.\n",
    "\n",
    "We can calculate the t-statistic using the following formula:\n",
    "\n",
    "t = (sample mean - hypothesized mean) / (sample standard deviation / sqrt(sample size))\n",
    "\n",
    "Plugging in the values, we get:\n",
    "\n",
    "t = (8 - 10) / (3 / sqrt(100)) = -4.4721\n",
    "\n",
    "The degrees of freedom for this test is 99 (sample size - 1). Using a t-distribution table or the t.ppf() function in Python, we can find the critical t-value for a one-tailed test with a significance level of 0.05 and 99 degrees of freedom to be -1.660.\n",
    "\n",
    "Since our calculated t-statistic (-4.4721) is less than the critical t-value (-1.660), we can reject the null hypothesis and conclude that the population mean decrease in blood pressure is less than 10 mmHg at a significance level of 0.05. In other words, the new drug does not seem to be effective in reducing blood pressure by the claimed amount.\n",
    "\n",
    "\n",
    "\n"
   ]
  },
  {
   "cell_type": "markdown",
   "id": "ca433df8-d15b-4125-83de-c554ed59ca7e",
   "metadata": {},
   "source": [
    "****"
   ]
  },
  {
   "cell_type": "markdown",
   "id": "59416fd8-a589-4198-9dfe-d86350eaeb3f",
   "metadata": {},
   "source": [
    "#### Q15. An electronics company produces a certain type of product with a mean weight of 5 pounds and a standard deviation of 0.5 pounds. A random sample of 25 products is taken, and the sample mean weight is found to be 4.8 pounds. Test the hypothesis that the true mean weight of the products is less than 5 pounds with a significance level of 0.01."
   ]
  },
  {
   "cell_type": "markdown",
   "id": "e6ca9a17-2b6b-45b9-867b-08eabf4312cc",
   "metadata": {},
   "source": [
    "To test the hypothesis, we can use a one-sample t-test with the following null and alternative hypotheses:\n",
    "\n",
    "Null hypothesis: The true mean weight of the products is equal to 5 pounds.\n",
    "Alternative hypothesis: The true mean weight of the products is less than 5 pounds.\n",
    "\n",
    "We can calculate the t-statistic using the following formula:\n",
    "\n",
    "t = (sample mean - hypothesized mean) / (sample standard deviation / sqrt(sample size))\n",
    "\n",
    "Plugging in the values, we get:\n",
    "\n",
    "t = (4.8 - 5) / (0.5 / sqrt(25)) = -2.0\n",
    "\n",
    "The degrees of freedom for this test is 24 (sample size - 1). Using a t-distribution table or the t.ppf() function in Python, we can find the critical t-value for a one-tailed test with a significance level of 0.01 and 24 degrees of freedom to be -2.492.\n",
    "\n",
    "Since our calculated t-statistic (-2.0) is greater than the critical t-value (-2.492), we cannot reject the null hypothesis and conclude that there is not enough evidence to suggest that the true mean weight of the products is less than 5 pounds at a significance level of 0.01. In other words, we cannot conclude that the company is producing products that are lighter than the claimed weight of 5 pounds.\n",
    "\n",
    "\n",
    "\n"
   ]
  },
  {
   "cell_type": "markdown",
   "id": "ac3e88d8-5c3a-4200-a54c-01cab685ccf7",
   "metadata": {},
   "source": [
    "***"
   ]
  },
  {
   "cell_type": "markdown",
   "id": "cd277e40-82f7-4efb-8094-5cdeba5a3364",
   "metadata": {},
   "source": [
    "#### Q16. Two groups of students are given different study materials to prepare for a test. The first group \n",
    "#### (n1 =30) has a mean score of 80 with a standard deviation of 10, and the second group (n2 = 40) has a mean score of 75 with a standard deviation of 8. Test the hypothesis that the population means for the two groups are equal with a significance level of 0.01."
   ]
  },
  {
   "cell_type": "markdown",
   "id": "752af54a-314e-4ef6-be10-5dfba555a9c9",
   "metadata": {},
   "source": [
    "To test the hypothesis, we can use a two-sample t-test for independent samples with the following null and alternative hypotheses:\n",
    "\n",
    "Null hypothesis: The population means for the two groups are equal.\n",
    "Alternative hypothesis: The population means for the two groups are not equal.\n",
    "\n",
    "We can calculate the t-statistic using the following formula:\n",
    "\n",
    "t = (sample mean 1 - sample mean 2) / sqrt[(s1^2/n1) + (s2^2/n2)]\n",
    "\n",
    "where:\n",
    "sample mean 1 = 80\n",
    "sample mean 2 = 75\n",
    "s1 = 10 (standard deviation of group 1)\n",
    "s2 = 8 (standard deviation of group 2)\n",
    "n1 = 30\n",
    "n2 = 40\n",
    "\n",
    "Plugging in the values, we get:\n",
    "\n",
    "t = (80 - 75) / sqrt[(10^2/30) + (8^2/40)] = 2.09\n",
    "\n",
    "The degrees of freedom for this test is calculated using the following formula:\n",
    "\n",
    "df = (s1^2/n1 + s2^2/n2)^2 / {[(s1^2/n1)^2 / (n1 - 1)] + [(s2^2/n2)^2 / (n2 - 1)]}\n",
    "\n",
    "Plugging in the values, we get:\n",
    "\n",
    "df = (10^2/30 + 8^2/40)^2 / {[(10^2/30)^2 / 29] + [(8^2/40)^2 / 39]} = 65.79 (rounded to the nearest integer, which is 66)\n",
    "\n",
    "Using a t-distribution table or the t.ppf() function in Python, we can find the critical t-value for a two-tailed test with a significance level of 0.01 and 66 degrees of freedom to be ±2.625.\n",
    "\n",
    "Since our calculated t-statistic (2.09) is less than the critical t-value (-2.625), but not greater than the positive critical value (2.625), we cannot reject the null hypothesis and conclude that there is not enough evidence to suggest that the population means for the two groups are different at a significance level of 0.01. In other words, we cannot conclude that there is a significant difference between the effectiveness of the two study materials.\n",
    "\n",
    "\n",
    "\n"
   ]
  },
  {
   "cell_type": "markdown",
   "id": "6b740eca-0920-43fc-9d3f-976cab8fb723",
   "metadata": {},
   "source": [
    "****"
   ]
  },
  {
   "cell_type": "markdown",
   "id": "264e23be-d9a7-4cbd-8f8f-641bb36a289b",
   "metadata": {},
   "source": [
    "#### Q17. A marketing company wants to estimate the average number of ads watched by viewers during a TV program. They take a random sample of 50 viewers and find that the sample mean is 4 with a standard deviation of 1.5. Estimate the population mean with a 99% confidence interval."
   ]
  },
  {
   "cell_type": "markdown",
   "id": "5d08bd56-7305-4325-81c3-ab8286ce6bf3",
   "metadata": {},
   "source": [
    "To estimate the population mean with a 99% confidence interval, we can use the following formula:\n",
    "\n",
    "CI = X̄ ± Zα/2 * (σ/√n)\n",
    "\n",
    "where X̄ is the sample mean, Zα/2 is the critical value from the standard normal distribution for a 99% confidence interval (which is approximately 2.576), σ is the population standard deviation (which is unknown and estimated using the sample standard deviation), and n is the sample size.\n",
    "\n",
    "Plugging in the values, we get:\n",
    "\n",
    "CI = 4 ± 2.576 * (1.5/√50)\n",
    "\n",
    "Simplifying this expression, we get:\n",
    "\n",
    "CI = 4 ± 0.697\n",
    "\n",
    "Therefore, the 99% confidence interval for the population mean number of ads watched by viewers during a TV program is (4 - 0.697, 4 + 0.697), which can be written as (3.303, 4.697). We can be 99% confident that the true population mean falls within this interval.\n",
    "\n",
    "\n",
    "\n",
    "\n"
   ]
  },
  {
   "cell_type": "markdown",
   "id": "063bc362-d5f6-4b9d-8727-7bf2169bc18b",
   "metadata": {},
   "source": [
    "***"
   ]
  }
 ],
 "metadata": {
  "kernelspec": {
   "display_name": "Python 3 (ipykernel)",
   "language": "python",
   "name": "python3"
  },
  "language_info": {
   "codemirror_mode": {
    "name": "ipython",
    "version": 3
   },
   "file_extension": ".py",
   "mimetype": "text/x-python",
   "name": "python",
   "nbconvert_exporter": "python",
   "pygments_lexer": "ipython3",
   "version": "3.10.8"
  }
 },
 "nbformat": 4,
 "nbformat_minor": 5
}
