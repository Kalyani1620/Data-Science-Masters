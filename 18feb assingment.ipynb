{
 "cells": [
  {
   "cell_type": "markdown",
   "id": "1c9e7611-cb36-46f0-bc59-9a092bfee2e1",
   "metadata": {},
   "source": [
    "### Q1. What is an API? Give an example, where an API is used in real life."
   ]
  },
  {
   "cell_type": "markdown",
   "id": "217bbb3d-75c5-4554-9933-aed2f469c472",
   "metadata": {},
   "source": [
    "* API stands for Application Programming Interface. In the context of APIs, the word Application refers to any software with a distinct function. Interface can be thought of as a contract of service between two applications. This contract defines how the two communicate with each other using requests and responses.\n",
    "\n",
    "**Uses in real life** :-\n",
    "\n",
    "* Private APIs are used by financial organizations such as banks to track and manage checking accounts, credit cards, and other accounts.\n",
    "* APIs are used by retail companies to connect with courier networks, ensuring that shipments are picked up as soon as possible and tracked as they move.\n",
    "* APIs are used in web applications to connect user-facing front ends with critical back-end functionality and data.\n",
    "* APIs are used to deliver material by streaming services such as Spotify and Netflix.\n",
    "* APIs are used by automakers such as Tesla to provide software upgrades. Others utilize APIs to make automotive data available to third parties.\n",
    "\n",
    "**Example**:-\n",
    "\n",
    "* The Google Maps API and Twitter API may be among the most widely used API examples\n"
   ]
  },
  {
   "cell_type": "markdown",
   "id": "9b816460-1b32-4bfa-b113-3356b8f8d740",
   "metadata": {},
   "source": [
    "*****"
   ]
  },
  {
   "cell_type": "markdown",
   "id": "e066fccf-00e3-49be-a211-683c963166e0",
   "metadata": {},
   "source": [
    "### Q2. Give advantages and disadvantages of using API."
   ]
  },
  {
   "cell_type": "markdown",
   "id": "547f8792-132c-488a-9023-3b2e7ac9cf23",
   "metadata": {},
   "source": [
    "**Advantages of API** :-\n",
    "* **Application**: Access to API's ensure more fleibility in information-trasfer process.\n",
    "* **Reach** : API's let you create layers in apps in order to distribute information to different audieance.\n",
    "* **Efficiency**: When you have contain that is automatically published and made available on different channels simultaneously, apis allows for more efficient data distribution.\n",
    "* **Adaptability**: one of the greatest benefit of API is the ability to adapt to change through data migration and flexibility of services.\n",
    "\n",
    "There is a lot of convenience and advantages of API's but business leaders should also be aware of disadvantages as a single point of entry, an API's is a gateway and can become a hacker's primary target Bullstop once the API is compromised all the application and system become vulnerable.\n",
    "\n",
    "**Disadvantages of API**:\n",
    "* creating API is a very time consuming process.\n",
    "* A fixed scale is necessary.\n",
    "* Imprecise boundary delineation.\n",
    "* Create API, programming knowledge is necessary.\n",
    "* Maintenance cost is very high.\n",
    "* it can crash when testing API."
   ]
  },
  {
   "cell_type": "markdown",
   "id": "24d2be0e-c825-4d75-ab1a-25d9e6ffd5e8",
   "metadata": {},
   "source": [
    "***"
   ]
  },
  {
   "cell_type": "markdown",
   "id": "511084e1-3409-4b7c-9f1d-ab20d0c142e2",
   "metadata": {},
   "source": [
    "### Q3. What is a Web API? Differentiate between API and Web API."
   ]
  },
  {
   "cell_type": "markdown",
   "id": "3267d570-f0c7-44ab-8bcf-cdadea846ef2",
   "metadata": {},
   "source": [
    "**API**:-\n",
    "* Generally, it uses the HTTP protocol for communication.\n",
    " It also uses SOAP, REST, and XML-RPC as communication.\n",
    " \n",
    "**Web**:-\n",
    "* It may use any means of communication protocols such as HTTP/HTTPS to initiate the interaction between applications."
   ]
  },
  {
   "cell_type": "markdown",
   "id": "9c9d678c-8e29-4125-92db-c4cb35b58d73",
   "metadata": {},
   "source": [
    "***"
   ]
  },
  {
   "cell_type": "markdown",
   "id": "1b971574-d40e-4290-98ed-2fa5b129ccbf",
   "metadata": {},
   "source": [
    "### Q4. Explain REST and SOAP Architecture. Mention shortcomings of SOAP."
   ]
  },
  {
   "cell_type": "markdown",
   "id": "654dfa52-1aa0-4578-ad80-d8c5bc151612",
   "metadata": {},
   "source": [
    "**SOAP**:-\n",
    "* SOAP (Simple Object Access Protocol) is an XML-based protocol for accessing web services over HTTP. It is developed as an intermediate language so that applications built in various programming languages can communicate with each other effectively. Web services use SOAP for exchange of XML data between applications. SOAP supports both stateful and stateless operations. Stateful means that the server keeps the information that it receives from the client across multiple requests. These requests are chained together so that the server is aware about the previous requests. Examples are bank transactions, flight bookings, etc. Stateless messaging has enough information about the state of the client so that the server does not have to bother.\n",
    "\n",
    "**REST**:-\n",
    "* REST (Representational State Transfer) is an architectural approach for communication purposes often used in various web services development. It is a stateless client-server model. Web services that are defined on the concept of REST are RESTful web services. When a client makes a request via RESTful API, it transfers the representation of the state of the resources to the server. This information can be transferred in various formats via HTTP like, JSON, HTML, XLT, and Plain Text, but JSON is the most common language used due to its easy readability by machines and humans.\n",
    "\n",
    "* **Shortcomings of SOAP**:-\n",
    "\n",
    "As SOAP can only transfer messages as XML files, your SOAP API will be less performant, as XML is a verbose format compared to JSON. API calls made to your server will need more bandwidth and it will take more time to process the request and transfer the response back to the client.\n",
    "\n",
    "In SOAP, the client-server communication depends on WSDL (Web Service Description Language) contracts, which implies tight coupling. Therefore, it’s not recommended for loosely coupled applications as you can’t opt out of using a contract between the client and the server.\n",
    "\n",
    "SOAP also has a higher learning curve, is harder to code, and can’t be tested in the web browser (as opposed to REST). With SOAP, you need to generate contracts in WSDL, create client stubs, follow strict specifications, and more. This also means that as a programmer, you’ll also have less freedom of choice."
   ]
  },
  {
   "cell_type": "markdown",
   "id": "a2345400-4b45-42fe-8f66-e5d788cad137",
   "metadata": {},
   "source": [
    "****"
   ]
  },
  {
   "cell_type": "markdown",
   "id": "d9a182a6-dac3-4f4f-aaca-255bac80fbf3",
   "metadata": {},
   "source": [
    "### Q5. Differentiate between REST and SOAP."
   ]
  },
  {
   "cell_type": "markdown",
   "id": "fdd67ad8-dd12-42f8-b558-fdd1f4b170fa",
   "metadata": {},
   "source": [
    "**SOAP**:-\n",
    "* 1.Use built-in protocol , WS security \n",
    "* 2.support OASIS and W3C standard \n",
    "* 3.use a control of XML encryption , \n",
    "* 4. better for handling sensitive data \n",
    "\n",
    "**REST**\n",
    "* 1.Use HTTP and TLS encryption \n",
    "* 2.use JSON format format for transfering data \n",
    "* 3.dont store or repacked data \n",
    "* 4.faster than SOAP APIs "
   ]
  },
  {
   "cell_type": "markdown",
   "id": "7ba26b2e-7065-4a59-b622-c361acde87ea",
   "metadata": {},
   "source": [
    "****"
   ]
  }
 ],
 "metadata": {
  "kernelspec": {
   "display_name": "Python 3 (ipykernel)",
   "language": "python",
   "name": "python3"
  },
  "language_info": {
   "codemirror_mode": {
    "name": "ipython",
    "version": 3
   },
   "file_extension": ".py",
   "mimetype": "text/x-python",
   "name": "python",
   "nbconvert_exporter": "python",
   "pygments_lexer": "ipython3",
   "version": "3.10.8"
  }
 },
 "nbformat": 4,
 "nbformat_minor": 5
}
