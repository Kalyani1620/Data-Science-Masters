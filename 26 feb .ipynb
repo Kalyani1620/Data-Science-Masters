{
 "cells": [
  {
   "cell_type": "code",
   "execution_count": 5,
   "id": "07de3830-2132-40e4-a992-c29cbbd6c297",
   "metadata": {},
   "outputs": [],
   "source": [
    "# Consider the below code to answer further questions:\n",
    "\n",
    "import numpy as np\n",
    "list_ = [ '1' , '2' , '3' , '4' , '5' ]\n",
    "array_list = np.array(object = list_)"
   ]
  },
  {
   "cell_type": "markdown",
   "id": "ac0a606d-4031-4991-8652-4f0ec89e855e",
   "metadata": {},
   "source": [
    "#### Q1. Is there any difference in the data type of variables list_ and array_list? If there is then write a code to print the data types of both the variables."
   ]
  },
  {
   "cell_type": "markdown",
   "id": "742fbb0d-c457-4077-a8ee-20f494afc223",
   "metadata": {},
   "source": [
    "* An array is a data structure that holds fix number of elements and these elements should be of the same data type. Most of the data structure makes use of an array to implement their algorithm. There is two important part of the array: one is an Element: Each item store in the array is called an element and second is an Index: Every element in the array has its own numerical value to identify the element.\n",
    "\n",
    "* the list is written as the list of commas separated values inside the square bracket. The most important advantage of the list is the elements inside the list is not compulsorily be of the same data type along with negative indexing. Also, all the operation of the string is similarly applied on list data type such as slicing, concatenation, etc. Also, we can create the nested list i.e list containing another list."
   ]
  },
  {
   "cell_type": "code",
   "execution_count": 9,
   "id": "b0a1eb6c-e068-4cc6-bd09-7e3ae7c22563",
   "metadata": {},
   "outputs": [
    {
     "data": {
      "text/plain": [
       "array(['1', '2', '3', '4', '5'], dtype='<U1')"
      ]
     },
     "execution_count": 9,
     "metadata": {},
     "output_type": "execute_result"
    }
   ],
   "source": [
    "# example of array.  \n",
    "import array \n",
    "arr =np.array(list_)\n",
    "  \n",
    "np.asarray(list_)"
   ]
  },
  {
   "cell_type": "code",
   "execution_count": 12,
   "id": "97840ce1-d322-46e3-9057-880c3d97584f",
   "metadata": {},
   "outputs": [
    {
     "name": "stdout",
     "output_type": "stream",
     "text": [
      "[['1', '2'], ['3', '4', '5']]\n"
     ]
    }
   ],
   "source": [
    "# creating a list of items with different data types \n",
    "list_ = [ ['1' , '2'] , ['3' , '4' , '5' ] ] \n",
    "print(list_)"
   ]
  },
  {
   "cell_type": "markdown",
   "id": "733f9a0d-0a30-4d59-9270-2a753c31c8b0",
   "metadata": {},
   "source": [
    "***\n",
    "#### Q2. Write a code to print the data type of each and every element of both the variables list_ and arra_list."
   ]
  },
  {
   "cell_type": "code",
   "execution_count": 18,
   "id": "78863253-d5bc-462b-8541-cbd1b3b3c116",
   "metadata": {},
   "outputs": [
    {
     "name": "stdout",
     "output_type": "stream",
     "text": [
      "Array: ['1' '2' '3' '4' '5']\n",
      "Datatype: <U1\n"
     ]
    }
   ],
   "source": [
    "import numpy as np\n",
    "\n",
    "# creating and initializing array of string\n",
    "arr_1 = np.array([ '1' , '2' , '3' , '4' , '5' ])\n",
    "\n",
    "# printing array and its datatype\n",
    "print('Array:', arr_1)\n",
    "\n",
    "print('Datatype:', arr_1.dtype)\n"
   ]
  },
  {
   "cell_type": "code",
   "execution_count": 25,
   "id": "3ed4f4cf-ff59-4a48-a783-d81499e0bc4c",
   "metadata": {},
   "outputs": [
    {
     "name": "stdout",
     "output_type": "stream",
     "text": [
      "Array: [list(['1', '2']) list(['3', '4', '5'])]\n",
      "Datatype: object\n"
     ]
    },
    {
     "name": "stderr",
     "output_type": "stream",
     "text": [
      "/tmp/ipykernel_77/3216279558.py:4: VisibleDeprecationWarning: Creating an ndarray from ragged nested sequences (which is a list-or-tuple of lists-or-tuples-or ndarrays with different lengths or shapes) is deprecated. If you meant to do this, you must specify 'dtype=object' when creating the ndarray.\n",
      "  arr_1 = np.array([ ['1' , '2'] , ['3' , '4' , '5' ] ])\n"
     ]
    }
   ],
   "source": [
    "import numpy as np\n",
    "\n",
    "# creating and initializing array of string\n",
    "arr_1 = np.array([ ['1' , '2'] , ['3' , '4' , '5' ] ])\n",
    "(object==list_)\n",
    "# printing array and its datatype\n",
    "print('Array:', arr_1)\n",
    "\n",
    "print('Datatype:', arr_1.dtype)"
   ]
  },
  {
   "cell_type": "markdown",
   "id": "3cc377ac-0db4-43bb-b6cd-5c7b40298d39",
   "metadata": {},
   "source": [
    "****\n",
    "#### Q3. Considering the following changes in the variable, array_list\n",
    "\n",
    "array_list = np.array(object = list_, dtype = int)\n"
   ]
  },
  {
   "cell_type": "code",
   "execution_count": 3,
   "id": "e8e9c8e5-91ca-4092-96ac-293de329e596",
   "metadata": {},
   "outputs": [
    {
     "name": "stdout",
     "output_type": "stream",
     "text": [
      "[1 2 3 4 5]\n"
     ]
    }
   ],
   "source": [
    "# Convert a Python list to a NumPy array\n",
    "import numpy as np\n",
    "\n",
    "# Create a Python list of integers\n",
    "list_ = [1, 2, 3, 4, 5]\n",
    "\n",
    "# Create a NumPy array from the Python list\n",
    "array_list = np.array(object=list_, dtype=int)\n",
    "\n",
    "print(array_list)"
   ]
  },
  {
   "cell_type": "markdown",
   "id": "e9e37dfb-b2e9-4b0d-91c8-fc657060097c",
   "metadata": {},
   "source": [
    "****"
   ]
  },
  {
   "cell_type": "markdown",
   "id": "7daa04d3-f82f-4e7a-a6cd-1c14aa767909",
   "metadata": {},
   "source": [
    "\n",
    "* Will there be any difference in the data type of the elements present in both the variables, list_ and arra_list? If so then print the data types of each and every element present in both the variables, list_ and arra_list. Consider the below code to answer further questions\n",
    "\n",
    " import numpy as np \n",
    " num_list = [ [ 1 , 2 , 3 ] , [ 4 , 5 , 6 ] ] \n",
    " num_array = np.array(object = num_list)"
   ]
  },
  {
   "cell_type": "code",
   "execution_count": 3,
   "id": "d7956af3-be7b-45aa-ab02-2589feca3c1a",
   "metadata": {},
   "outputs": [],
   "source": [
    "import numpy as np \n",
    "num_list = [ [ 1 , 2 , 3 ] , [ 4 , 5 , 6 ] ] \n",
    "num_array = np.array(object = num_list)"
   ]
  },
  {
   "cell_type": "markdown",
   "id": "5f578ebf-c71e-4125-8991-e7197c33a871",
   "metadata": {},
   "source": [
    "#### Q4. Write a code to find the following characteristics of variable, num_array:\n",
    "(i) shape\n",
    "\n",
    "(ii) size"
   ]
  },
  {
   "cell_type": "code",
   "execution_count": 8,
   "id": "7bf77fab-3241-430d-9f06-8781f5d78df8",
   "metadata": {},
   "outputs": [
    {
     "name": "stdout",
     "output_type": "stream",
     "text": [
      "Array is of type:  <class 'numpy.ndarray'>\n",
      "No. of dimensions:  2\n",
      "Shape of array:  (2, 3)\n",
      "Array stores elements of type:  int64\n"
     ]
    }
   ],
   "source": [
    "import numpy as np\n",
    " \n",
    "arr = np.array( [[ 1, 2, 3],\n",
    "                 [ 4, 5, 6]] )\n",
    " \n",
    "print(\"Array is of type: \", type(arr))\n",
    " \n",
    "print(\"No. of dimensions: \", arr.ndim)\n",
    " \n",
    "print(\"Shape of array: \", arr.shape)\n",
    " \n",
    "print(\"Array stores elements of type: \", arr.dtype)"
   ]
  },
  {
   "cell_type": "code",
   "execution_count": 7,
   "id": "c7ec25a4-3287-4f06-8997-e3cddf82e101",
   "metadata": {},
   "outputs": [
    {
     "name": "stdout",
     "output_type": "stream",
     "text": [
      "Size of the array:  6\n",
      "Memory size of one array element in bytes:  8\n",
      "Memory size of numpy array in bytes: 48\n"
     ]
    }
   ],
   "source": [
    "# size\n",
    "import numpy as np\n",
    "x = np.array([ [ 1 , 2 , 3 ] , [ 4 , 5 , 6 ] ] )\n",
    "\n",
    "print(\"Size of the array: \",\n",
    "\tx.size)\n",
    "\n",
    "print(\"Memory size of one array element in bytes: \",\n",
    "\tx.itemsize)\n",
    "print(\"Memory size of numpy array in bytes:\",\n",
    "\tx.size * x.itemsize)\n"
   ]
  },
  {
   "cell_type": "markdown",
   "id": "963cbf20-2e52-469d-8f77-9dab136f5153",
   "metadata": {},
   "source": [
    "****"
   ]
  },
  {
   "cell_type": "markdown",
   "id": "16d656e4-6327-43f0-b14c-7c58d1cf6e6d",
   "metadata": {},
   "source": [
    "#### Q5. Write a code to create numpy array of 3*3 matrix containing zeros only, using a numpy array creation function.\n",
    "[Hint: The size of the array will be 9 and the shape will be (3,3).]"
   ]
  },
  {
   "cell_type": "code",
   "execution_count": 19,
   "id": "275b66a0-b684-402b-bd6c-b59cb2ed7b5e",
   "metadata": {},
   "outputs": [
    {
     "name": "stdout",
     "output_type": "stream",
     "text": [
      "\n",
      "Matrix b : \n",
      " [[0 0 0]\n",
      " [0 0 0]\n",
      " [0 0 0]]\n"
     ]
    }
   ],
   "source": [
    "# Python Program to create array with all zeros\n",
    "import numpy as np\n",
    "\n",
    "b = np.zeros([3, 3], dtype = int)\n",
    "print(\"\\nMatrix b : \\n\", b)\n"
   ]
  },
  {
   "cell_type": "markdown",
   "id": "3ea4fd0c-0835-4690-b1b3-967eb035cadc",
   "metadata": {},
   "source": [
    "****"
   ]
  },
  {
   "cell_type": "markdown",
   "id": "3d29cced-d23c-414a-acfc-f5d8d5e642e3",
   "metadata": {},
   "source": [
    "#### Q6. Create an identity matrix of shape (5,5) using numpy functions?\n",
    "[Hint: An identity matrix is a matrix containing 1 diagonally and other elements will be 0.]"
   ]
  },
  {
   "cell_type": "code",
   "execution_count": 20,
   "id": "01a469c1-5b34-428f-9e50-6696f020f311",
   "metadata": {},
   "outputs": [
    {
     "name": "stdout",
     "output_type": "stream",
     "text": [
      "[[1 0 0 0 0]\n",
      " [0 2 0 0 0]\n",
      " [0 0 3 0 0]\n",
      " [0 0 0 4 0]\n",
      " [0 0 0 0 5]]\n"
     ]
    }
   ],
   "source": [
    "import numpy as np\n",
    "x = np.diag([1, 2, 3, 4, 5])\n",
    "print(x)"
   ]
  },
  {
   "cell_type": "markdown",
   "id": "c4512010-14c9-4a93-abf8-6cd40905bf21",
   "metadata": {},
   "source": [
    "****"
   ]
  }
 ],
 "metadata": {
  "kernelspec": {
   "display_name": "Python 3 (ipykernel)",
   "language": "python",
   "name": "python3"
  },
  "language_info": {
   "codemirror_mode": {
    "name": "ipython",
    "version": 3
   },
   "file_extension": ".py",
   "mimetype": "text/x-python",
   "name": "python",
   "nbconvert_exporter": "python",
   "pygments_lexer": "ipython3",
   "version": "3.10.8"
  }
 },
 "nbformat": 4,
 "nbformat_minor": 5
}
