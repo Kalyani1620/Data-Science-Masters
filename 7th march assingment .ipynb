{
 "cells": [
  {
   "cell_type": "markdown",
   "id": "11e1d56b-675b-4552-a2c5-1f82515b9085",
   "metadata": {},
   "source": [
    "#### Q1. What are the three measures of central tendency?"
   ]
  },
  {
   "cell_type": "markdown",
   "id": "97a9f017-d4f0-4bd0-9cf4-7287fcc23b1e",
   "metadata": {},
   "source": [
    "* The three measures of central tendency are:\n",
    "\n",
    "1. Mean: The mean is the average value of a set of numbers. It is calculated by adding up all the values in the set and then dividing the sum by the number of values in the set.\n",
    "\n",
    "2. Median: The median is the middle value in a set of numbers when they are arranged in order from lowest to highest. If the set contains an even number of values, the median is the average of the two middle values.\n",
    "\n",
    "3. Mode: The mode is the value that occurs most frequently in a set of numbers. If no value appears more than once, the set has no mode. If more than one value occurs with the same highest frequency, the set has multiple modes."
   ]
  },
  {
   "cell_type": "markdown",
   "id": "f32fabf5-4108-4761-8b05-96ac49ed96ec",
   "metadata": {},
   "source": [
    "****"
   ]
  },
  {
   "cell_type": "markdown",
   "id": "008419bc-a7c1-48f5-9107-2b0c7c4f589a",
   "metadata": {},
   "source": [
    "#### Q2. What is the difference between the mean, median, and mode? How are they used to measure the central tendency of a dataset?"
   ]
  },
  {
   "cell_type": "markdown",
   "id": "056d3284-4616-4ae4-8f0c-1fadb33ecd40",
   "metadata": {},
   "source": [
    "* The mean is the arithmetic average of a dataset, calculated by adding up all the values in the dataset and dividing the sum by the total number of values. The mean is often used when the data is normally distributed and has no significant outliers. It is also sensitive to extreme values in the dataset, as it takes into account all values.\n",
    "\n",
    "* The median is the middle value in a dataset when it is ordered from lowest to highest. If there is an even number of values, the median is the average of the two middle values. The median is a good measure of central tendency when the data has significant outliers or is skewed. It is not affected by extreme values as much as the mean.\n",
    "\n",
    "* The mode is the value in a dataset that appears most frequently. A dataset can have one or more modes, or no mode at all. The mode is often used for categorical or discrete data, such as the number of times a particular outcome occurs. It is also useful for identifying the most common value in a dataset.\n",
    "\n",
    "* To measure the central tendency of a dataset, we use one or more of these measures of central tendency, depending on the characteristics of the data. The choice of measure depends on the distribution of the data and the purpose of the analysis. For example, if we want to describe the typical salary of employees in a company, we might use the mean. If we want to describe the typical age of customers at a store, we might use the median. If we want to identify the most commonly purchased item in a store, we might use the mode.\n",
    "\n",
    "\n",
    "\n",
    "\n",
    "\n"
   ]
  },
  {
   "cell_type": "markdown",
   "id": "1724cd13-429d-4341-8e5f-120d5160e9f1",
   "metadata": {},
   "source": [
    "****"
   ]
  },
  {
   "cell_type": "markdown",
   "id": "ad878d80-4e6a-4e44-b6cc-d8bbe3e0d30c",
   "metadata": {},
   "source": [
    "#### Q3. Measure the three measures of central tendency for the given height data:\n",
    "[178,177,176,177,178.2,178,175,179,180,175,178.9,176.2,177,172.5,178,176.5]"
   ]
  },
  {
   "cell_type": "markdown",
   "id": "0d173726-84da-4b59-b415-533601e58054",
   "metadata": {},
   "source": [
    "To calculate the three measures of central tendency for the given height data, we can use the following formulas:\n",
    "\n",
    "Mean = Sum of all values / Number of values\n",
    "Median = Middle value when the data is sorted in ascending or descending order\n",
    "Mode = The value that appears most frequently\n",
    "\n",
    "First, we will sort the data in ascending order:\n",
    "\n",
    "[172.5, 175, 175, 176, 176.2, 176.5, 177, 177, 178, 178, 178, 178.2, 178.9, 179, 180]\n",
    "\n",
    "* Now, we can calculate the mean:\n",
    "\n",
    "Mean = (172.5 + 175 + 175 + 176 + 176.2 + 176.5 + 177 + 177 + 178 + 178 + 178 + 178.2 + 178.9 + 179 + 180) / 15\n",
    "Mean = 176.93\n",
    "\n",
    "* The median is the middle value in the dataset. Since there are 15 values, the middle value is the 8th value (177):\n",
    "\n",
    "Median = 177\n",
    "\n",
    "The mode is the value that appears most frequently. In this dataset, the value 178 appears the most number of times (4 times), so the mode is 178.\n",
    "\n",
    "* Mode = 178\n",
    "\n",
    "Therefore, the three measures of central tendency for the given height data are:\n",
    "\n",
    "* Mean = 176.93\n",
    "\n",
    "* Median = 177\n",
    "\n",
    "* Mode = 178"
   ]
  },
  {
   "cell_type": "markdown",
   "id": "1725af63-a085-4ded-b6e1-a8dde0c775eb",
   "metadata": {},
   "source": [
    "****"
   ]
  },
  {
   "cell_type": "markdown",
   "id": "a548d233-af1b-4e7c-81a9-7eb2136dc28f",
   "metadata": {},
   "source": [
    "#### Q4. Find the standard deviation for the given data:\n",
    "[178,177,176,177,178.2,178,175,179,180,175,178.9,176.2,177,172.5,178,176.5]"
   ]
  },
  {
   "cell_type": "markdown",
   "id": "cefcfbd0-9747-4817-8041-7800ade5acb8",
   "metadata": {},
   "source": [
    "To calculate the standard deviation for the given data, we can use the following formula:\n",
    "\n",
    "* Standard deviation (σ) = √[ Σ(x - μ)² / N ]\n",
    "\n",
    "where:\n",
    "x = each value in the dataset\n",
    "μ = the mean of the dataset\n",
    "N = the total number of values in the dataset\n",
    "\n",
    "First, we need to calculate the mean of the dataset:\n",
    "\n",
    "Mean (μ) = (178 + 177 + 176 + 177 + 178.2 + 178 + 175 + 179 + 180 + 175 + 178.9 + 176.2 + 177 + 172.5 + 178 + 176.5) / 16\n",
    "Mean (μ) = 177.18\n",
    "\n",
    "Next, we can calculate the sum of the squared differences from the mean:\n",
    "\n",
    "Σ(x - μ)² = (178 - 177.18)² + (177 - 177.18)² + (176 - 177.18)² + (177 - 177.18)² + (178.2 - 177.18)² + (178 - 177.18)² + (175 - 177.18)² + (179 - 177.18)² + (180 - 177.18)² + (175 - 177.18)² + (178.9 - 177.18)² + (176.2 - 177.18)² + (177 - 177.18)² + (172.5 - 177.18)² + (178 - 177.18)² + (176.5 - 177.18)²\n",
    "Σ(x - μ)² = 165.1546\n",
    "\n",
    "Finally, we can calculate the standard deviation:\n",
    "\n",
    "σ = √[ Σ(x - μ)² / N ]\n",
    "σ = √(165.1546 / 16)\n",
    "σ = √10.3222\n",
    "σ = 3.2115 (rounded to four decimal places)\n",
    "\n",
    "Therefore, the standard deviation for the given data is approximately 3.2115."
   ]
  },
  {
   "cell_type": "markdown",
   "id": "4a013566-368f-4197-81a2-d2ae786f5427",
   "metadata": {},
   "source": [
    "*****"
   ]
  },
  {
   "cell_type": "markdown",
   "id": "1d0f1dfd-ab69-4e2b-9c61-fef9ca8c08f1",
   "metadata": {},
   "source": [
    "#### Q5. How are measures of dispersion such as range, variance, and standard deviation used to describe the spread of a dataset? Provide an example."
   ]
  },
  {
   "cell_type": "markdown",
   "id": "dc446dfa-4943-484c-8fa2-3b4f3918f581",
   "metadata": {},
   "source": [
    "Measures of dispersion, such as range, variance, and standard deviation, are used to describe the spread or variability of a dataset. These measures provide information about how much the individual values in a dataset differ from each other and from the central tendency of the dataset.\n",
    "\n",
    "* The range is the simplest measure of dispersion and is the difference between the highest and lowest values in the dataset. While the range can provide a quick and easy measure of spread, it can be affected by outliers and may not be representative of the variability of the data.\n",
    "\n",
    "* The variance and standard deviation are more commonly used measures of dispersion. The variance is the average of the squared differences between each value in the dataset and the mean of the dataset. The standard deviation is the square root of the variance and represents the average amount that the individual values in the dataset deviate from the mean.\n",
    "\n",
    "For example, suppose we have a dataset of the heights (in cm) of 10 individuals:\n",
    "\n",
    "[170, 165, 180, 175, 190, 170, 170, 165, 175, 180]\n",
    "\n",
    "The mean height of this dataset is:\n",
    "\n",
    "Mean (μ) = (170 + 165 + 180 + 175 + 190 + 170 + 170 + 165 + 175 + 180) / 10\n",
    "Mean (μ) = 173.5\n",
    "\n",
    "The range of the dataset is:\n",
    "\n",
    "Range = Maximum value - Minimum value\n",
    "Range = 190 - 165\n",
    "Range = 25\n",
    "\n",
    "The variance can be calculated as:\n",
    "\n",
    "Variance (σ²) = Σ(x - μ)² / N\n",
    "Variance (σ²) = [(170-173.5)² + (165-173.5)² + (180-173.5)² + (175-173.5)² + (190-173.5)² + (170-173.5)² + (170-173.5)² + (165-173.5)² + (175-173.5)² + (180-173.5)²] / 10\n",
    "Variance (σ²) = 107.75\n",
    "\n",
    "The standard deviation can be calculated as:\n",
    "\n",
    "Standard deviation (σ) = √σ²\n",
    "Standard deviation (σ) = √107.75\n",
    "Standard deviation (σ) = 10.378\n",
    "\n",
    "In this example, we can see that the range of the dataset is 25, indicating that the height values vary by a maximum of 25 cm. The variance of the dataset is 107.75, indicating that the individual values in the dataset deviate on average by about 10 cm from the mean. The standard deviation of the dataset is 10.378, providing a more precise measure of the variability of the dataset."
   ]
  },
  {
   "cell_type": "markdown",
   "id": "d3d19765-47d0-4525-b3b3-865e4627f3fb",
   "metadata": {},
   "source": [
    "****"
   ]
  },
  {
   "cell_type": "markdown",
   "id": "2800b82f-c54e-4a64-8fb4-7f32b433f03f",
   "metadata": {},
   "source": [
    "#### Q6. What is a Venn diagram?"
   ]
  },
  {
   "cell_type": "markdown",
   "id": "2a8b8fd2-7e39-4c94-b0ca-a60dc00ccf4f",
   "metadata": {},
   "source": [
    "A Venn diagram is a graphical representation of the relationships between different sets or groups of objects, concepts, or data. It is typically composed of circles that overlap each other in different ways, with each circle representing a set or group of items, and the overlapping regions representing the items that belong to both sets.\n",
    "\n",
    "Venn diagrams are often used in mathematics, logic, statistics, and other fields to illustrate the relationships between different groups of items or to help visualize the results of set operations, such as union, intersection, and complement."
   ]
  },
  {
   "cell_type": "markdown",
   "id": "6590d12b-26e0-4e3f-9187-b8db2e6e4973",
   "metadata": {},
   "source": [
    "****"
   ]
  },
  {
   "cell_type": "markdown",
   "id": "7cafbd92-b63f-4d44-8c9e-beb3675485d3",
   "metadata": {},
   "source": [
    "#### Q7. For the two given sets A = (2,3,4,5,6,7) & B = (0,2,6,8,10). Find:\n",
    "(i) A ∩ B\n",
    "\n",
    "(ii) A ⋃ B"
   ]
  },
  {
   "cell_type": "markdown",
   "id": "f4bdd2b6-f262-42d3-84ac-1dbe5f905865",
   "metadata": {},
   "source": [
    "(i) A intersect B:\n",
    "The intersection of two sets A and B, denoted by A ∩ B, is the set of all elements that are common to both sets.\n",
    "\n",
    "Here, the common elements between set A and B are 2 and 6, therefore:\n",
    "\n",
    "A ∩ B = {2,6}\n",
    "\n",
    "(ii) A union B:\n",
    "The union of two sets A and B, denoted by A ∪ B, is the set of all elements that belong to either set A or set B or both.\n",
    "\n",
    "Here, the elements in set A are {2,3,4,5,6,7} and the elements in set B are {0,2,6,8,10}. The union of set A and set B is the set of all elements from both sets, with any duplicates removed. Therefore:\n",
    "\n",
    "A ∪ B = {0,2,3,4,5,6,7,8,10}\n",
    "\n",
    "\n",
    "\n",
    "\n",
    "\n"
   ]
  },
  {
   "cell_type": "markdown",
   "id": "4d9ab953-1af1-48c8-b6ce-d6ec36d66069",
   "metadata": {},
   "source": [
    "****"
   ]
  },
  {
   "cell_type": "markdown",
   "id": "dafc0e85-c694-4bda-8cc2-abe74e1fcdfe",
   "metadata": {},
   "source": [
    "#### Q8. What do you understand about skewness in data?"
   ]
  },
  {
   "cell_type": "markdown",
   "id": "c6a9dff2-0a44-42af-b0b9-13c13e2012f3",
   "metadata": {},
   "source": [
    "Skewness is a measure of the asymmetry of a probability distribution, or more generally, a measure of the degree to which a dataset deviates from normal distribution. In other words, skewness describes the extent to which the values in a dataset are distributed more towards one end of the range or the other, compared to a normal or symmetrical distribution.\n",
    "\n",
    "A dataset is said to be positively skewed (or right-skewed) if the tail of the distribution is longer on the positive side of the central peak. This means that the data contains more values that are higher than the mean, and the mean is shifted towards the right of the median.\n",
    "\n",
    "Conversely, a dataset is said to be negatively skewed (or left-skewed) if the tail of the distribution is longer on the negative side of the central peak. This means that the data contains more values that are lower than the mean, and the mean is shifted towards the left of the median.\n",
    "\n",
    "Skewness is an important statistical concept because it can have a significant impact on the interpretation of data analysis results. For example, in positively skewed data, the mean is usually larger than the median, which can lead to biased conclusions if the mean is used as a measure of central tendency. In such cases, the median is a better measure of central tendency.\n",
    "\n",
    "Similarly, when the data is negatively skewed, the median is usually larger than the mean, and using the mean as a measure of central tendency can again lead to biased results. In this case, the median is a better measure of central tendency."
   ]
  },
  {
   "cell_type": "markdown",
   "id": "83b5cfee-2d2e-4955-a398-1701330b51b6",
   "metadata": {},
   "source": [
    "***"
   ]
  },
  {
   "cell_type": "markdown",
   "id": "2692a84e-3c10-47a7-bf16-4caabf4e7f40",
   "metadata": {},
   "source": [
    "#### Q9. If a data is right skewed then what will be the position of median with respect to mean?"
   ]
  },
  {
   "cell_type": "markdown",
   "id": "9c4eae67-03bc-4c2e-8fae-413c7587ac0d",
   "metadata": {},
   "source": [
    "If a dataset is right-skewed, the median is typically less than the mean. This is because the mean is pulled to the right by the long tail of higher values, whereas the median is relatively unaffected by extreme values and is instead pulled towards the center of the data.\n",
    "\n",
    "For example, consider a dataset of income levels, which is often right-skewed. In this case, the mean income level would be higher than the median income level because the few individuals with very high income levels would significantly increase the mean income. However, the median income would be a better measure of the typical income level because it is not influenced by the extreme values on the right tail of the distribution.\n",
    "\n",
    "\n",
    "\n"
   ]
  },
  {
   "cell_type": "markdown",
   "id": "5c7d1555-a276-4d23-b02e-49e257e80838",
   "metadata": {},
   "source": [
    "****"
   ]
  },
  {
   "cell_type": "markdown",
   "id": "e6c3f959-5b70-4075-8932-7847de6c5f48",
   "metadata": {},
   "source": [
    "#### Q10. Explain the difference between covariance and correlation. How are these measures used in statistical analysis?"
   ]
  },
  {
   "cell_type": "markdown",
   "id": "573dd43a-55ad-48c2-bbe9-886399076e33",
   "metadata": {},
   "source": [
    "Covariance and correlation are two measures used in statistics to describe the relationship between two variables.\n",
    "\n",
    "* Covariance is a measure of how two variables change together. It is calculated as the average of the product of the deviations of each variable from their respective means. A positive covariance indicates that the two variables tend to move in the same direction, while a negative covariance indicates that they tend to move in opposite directions. However, the magnitude of covariance is difficult to interpret because it depends on the units of the variables, and it does not provide a standardized measure of the strength of the relationship between the variables.\n",
    "\n",
    "* Correlation, on the other hand, is a standardized measure of the strength and direction of the linear relationship between two variables. Unlike covariance, correlation is unitless and ranges from -1 to 1. A correlation of -1 indicates a perfect negative linear relationship, a correlation of 0 indicates no linear relationship, and a correlation of 1 indicates a perfect positive linear relationship. Correlation is calculated by dividing the covariance by the product of the standard deviations of the two variables.\n",
    "\n",
    "* Correlation is a more widely used measure in statistical analysis because it provides a standardized measure of the strength of the relationship between two variables. Correlation is often used to identify relationships between variables and to assess the strength of those relationships. For example, in finance, correlation is used to analyze the relationship between different asset classes, such as stocks and bonds. In healthcare, correlation is used to analyze the relationship between various health indicators and outcomes.\n",
    "\n",
    "* Covariance is often used in conjunction with correlation when analyzing data, as it provides additional information about the relationship between the two variables. However, because of the difficulty in interpreting covariance and the fact that it is not standardized, correlation is generally considered to be the more informative and useful measure."
   ]
  },
  {
   "cell_type": "markdown",
   "id": "d71d1112-d865-4f3c-a096-140cf718475b",
   "metadata": {},
   "source": [
    "****"
   ]
  },
  {
   "cell_type": "markdown",
   "id": "5844a0ba-58de-46b7-9a7c-b0fe9e67c8a6",
   "metadata": {},
   "source": [
    "#### Q11. What is the formula for calculating the sample mean? Provide an example calculation for a dataset."
   ]
  },
  {
   "cell_type": "markdown",
   "id": "27d22061-4ac9-4c6e-8853-631137285878",
   "metadata": {},
   "source": [
    "The formula for calculating the sample mean (also known as the sample average) is:\n",
    "\n",
    "Sample mean = (sum of all values in the sample) / (number of values in the sample)\n",
    "\n",
    "In other words, to calculate the sample mean, you add up all the values in the sample and then divide by the number of values in the sample.\n",
    "\n",
    "For example, let's say we have the following dataset:\n",
    "\n",
    "5, 10, 15, 20, 25\n",
    "\n",
    "To calculate the sample mean for this dataset, we add up all the values:\n",
    "\n",
    "5 + 10 + 15 + 20 + 25 = 75\n",
    "\n",
    "Then we divide by the number of values in the sample, which is 5:\n",
    "\n",
    "75 / 5 = 15\n",
    "\n",
    "Therefore, the sample mean for this dataset is 15."
   ]
  },
  {
   "cell_type": "markdown",
   "id": "d931c542-ee4f-436a-8211-4ed7d0f2503c",
   "metadata": {},
   "source": [
    "***"
   ]
  },
  {
   "cell_type": "markdown",
   "id": "d3e38905-d3af-424b-b57b-aae604c6846d",
   "metadata": {},
   "source": [
    "#### Q12. For a normal distribution data what is the relationship between its measure of central tendency?"
   ]
  },
  {
   "cell_type": "markdown",
   "id": "658dae13-1cbe-45ab-b573-99b98f7b2e80",
   "metadata": {},
   "source": [
    "For a normal distribution data, the measures of central tendency (mean, median, and mode) are equal. This means that the mean, median, and mode all have the same value and are located at the center of the distribution.\n",
    "\n",
    "This is because a normal distribution is symmetric around its mean, so the median is also at the mean. Additionally, the mode is also at the mean in a normal distribution because the highest point of the bell-shaped curve occurs at the mean.\n",
    "\n",
    "This relationship between the measures of central tendency in a normal distribution is important because it allows us to use any of these measures to describe the center of the distribution. In many cases, the mean is used as the preferred measure of central tendency because it is most affected by extreme values and provides the most precise estimate of the center of the distribution."
   ]
  },
  {
   "cell_type": "markdown",
   "id": "1fa2687c-14b9-437d-ab7c-90077056cc67",
   "metadata": {},
   "source": [
    "***"
   ]
  },
  {
   "cell_type": "markdown",
   "id": "1a23a2d5-b5f3-4cab-a7cf-3859554bea91",
   "metadata": {},
   "source": [
    "#### Q13. How is covariance different from correlation?"
   ]
  },
  {
   "cell_type": "markdown",
   "id": "0a09a1fb-d158-4df3-b234-488c2431894c",
   "metadata": {},
   "source": [
    "Covariance and correlation are both statistical measures that describe the relationship between two variables. However, there are some key differences between the two:\n",
    "\n",
    "* Definition: Covariance is a measure of how two variables vary together. It measures the strength of the linear relationship between two variables, whether it is positive or negative. Correlation, on the other hand, is a standardized measure of the linear relationship between two variables. It measures the degree of association between two variables on a scale of -1 to +1.\n",
    "\n",
    "* Scale: Covariance is measured in units that are the product of the units of the two variables being measured. For example, if you're measuring the covariance between height and weight, the units would be inches times pounds. Correlation, on the other hand, is a unitless measure that ranges from -1 to +1.\n",
    "\n",
    "* Interpretation: Because covariance is measured in units that depend on the variables being measured, it can be difficult to interpret. Correlation, on the other hand, is standardized, so it is easier to interpret. A correlation of -1 indicates a perfect negative relationship, a correlation of +1 indicates a perfect positive relationship, and a correlation of 0 indicates no relationship.\n",
    "\n",
    "* Sensitivity to scale: Covariance is sensitive to changes in the scale of measurement of the variables being measured. Correlation, on the other hand, is not sensitive to changes in the scale of measurement.\n",
    "\n",
    "In summary, covariance measures the strength of the linear relationship between two variables in their original units, while correlation measures the degree of association between two variables on a standardized scale."
   ]
  },
  {
   "cell_type": "markdown",
   "id": "24f46fdc-d18b-4789-8246-4cc9e3c2aa40",
   "metadata": {},
   "source": [
    "***"
   ]
  },
  {
   "cell_type": "markdown",
   "id": "f5788e45-86f6-4d96-9f99-42ab594ef575",
   "metadata": {},
   "source": [
    "#### Q14. How do outliers affect measures of central tendency and dispersion? Provide an example."
   ]
  },
  {
   "cell_type": "markdown",
   "id": "551547db-6edd-4926-aefc-b24148a29bd6",
   "metadata": {},
   "source": [
    "Outliers can have a significant impact on measures of central tendency and dispersion, and can cause these measures to be misleading or inaccurate.\n",
    "\n",
    "An outlier is a data point that is significantly different from other data points in a dataset. For example, in a dataset of test scores, a student who scores 95 when everyone else scores between 60 and 80 would be an outlier.\n",
    "\n",
    "Here are some ways in which outliers can affect measures of central tendency and dispersion:\n",
    "\n",
    "1. Mean: The mean is very sensitive to outliers because it takes into account all the values in the dataset. An outlier can pull the mean in its direction, making it higher or lower than it would be without the outlier. For example, if a dataset has 10 values ranging from 1 to 10 and an outlier value of 100, the mean would be significantly influenced by the outlier, making it higher than the central tendency of the dataset.\n",
    "\n",
    "2. Median: The median is less sensitive to outliers than the mean, because it only takes into account the middle value of the dataset. Outliers will only affect the median if they are higher or lower than the median value. In such cases, the median would be biased towards the side of the outlier.\n",
    "\n",
    "3. Mode: The mode is the least sensitive to outliers, because it is simply the most common value in the dataset. Outliers that are significantly different from the rest of the data will not have an effect on the mode.\n",
    "\n",
    "4. Range: The range is the difference between the highest and lowest values in the dataset. Outliers can have a significant impact on the range, as they can make the range appear larger than it actually is.\n",
    "\n",
    "5. Standard deviation: The standard deviation measures the spread of the dataset, and outliers can greatly affect it, especially if they are far away from the mean. Outliers can increase or decrease the standard deviation, making it less useful as a measure of dispersion.\n",
    "\n",
    "For example, let's say you have a dataset of the ages of a group of people, and most of the ages fall between 20 and 40, but there is one person who is 90 years old. This person would be an outlier, and would greatly affect the mean age of the group, making it much higher than it would be without the outlier. Additionally, the outlier would increase the range and standard deviation of the dataset, making it appear more spread out than it actually is."
   ]
  },
  {
   "cell_type": "markdown",
   "id": "bbaebdf9-02f8-42c3-b38b-5df68a2a23e7",
   "metadata": {},
   "source": [
    "***"
   ]
  }
 ],
 "metadata": {
  "kernelspec": {
   "display_name": "Python 3 (ipykernel)",
   "language": "python",
   "name": "python3"
  },
  "language_info": {
   "codemirror_mode": {
    "name": "ipython",
    "version": 3
   },
   "file_extension": ".py",
   "mimetype": "text/x-python",
   "name": "python",
   "nbconvert_exporter": "python",
   "pygments_lexer": "ipython3",
   "version": "3.10.8"
  }
 },
 "nbformat": 4,
 "nbformat_minor": 5
}
