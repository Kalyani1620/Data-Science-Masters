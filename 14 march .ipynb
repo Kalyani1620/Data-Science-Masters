{
 "cells": [
  {
   "cell_type": "markdown",
   "id": "15281e04-9abb-4a26-9716-a2ba7806cacd",
   "metadata": {},
   "source": [
    "#### Q1. Write a Python function that takes in two arrays of data and calculates the F-value for a variance ratio test. The function should return the F-value and the corresponding p-value for the test."
   ]
  },
  {
   "cell_type": "markdown",
   "id": "23f8a10e-03d3-4c1a-b315-b86670ad43a9",
   "metadata": {},
   "source": [
    "Here is a Python function that takes in two arrays of data and calculates the F-value for a variance ratio test, along with the corresponding p-value using the F-distribution:"
   ]
  },
  {
   "cell_type": "code",
   "execution_count": 1,
   "id": "ad39a1f8-74c2-4a21-8340-7d43e3318be8",
   "metadata": {},
   "outputs": [],
   "source": [
    "import numpy as np\n",
    "from scipy.stats import f\n",
    "\n",
    "def var_ratio_test(data1, data2):\n",
    "    # calculate the sample variances and means\n",
    "    var1 = np.var(data1, ddof=1)\n",
    "    var2 = np.var(data2, ddof=1)\n",
    "    mean1 = np.mean(data1)\n",
    "    mean2 = np.mean(data2)\n",
    "    \n",
    "    # calculate the F-value\n",
    "    f_value = var1 / var2\n",
    "    \n",
    "    # calculate the degrees of freedom\n",
    "    df1 = len(data1) - 1\n",
    "    df2 = len(data2) - 1\n",
    "    \n",
    "    # calculate the p-value using the F-distribution\n",
    "    p_value = f.cdf(f_value, df1, df2)\n",
    "    p_value = min(p_value, 1 - p_value) * 2\n",
    "    \n",
    "    return f_value, p_value\n"
   ]
  },
  {
   "cell_type": "code",
   "execution_count": 2,
   "id": "49675b89-6019-463e-be75-524c4e2cf8c8",
   "metadata": {},
   "outputs": [
    {
     "name": "stdout",
     "output_type": "stream",
     "text": [
      "F-value: 0.25\n",
      "p-value: 0.20800000000000005\n"
     ]
    }
   ],
   "source": [
    "data1 = [1, 2, 3, 4, 5]\n",
    "data2 = [2, 4, 6, 8, 10]\n",
    "\n",
    "f_value, p_value = var_ratio_test(data1, data2)\n",
    "\n",
    "print('F-value:', f_value)\n",
    "print('p-value:', p_value)\n"
   ]
  },
  {
   "cell_type": "markdown",
   "id": "a4536e3c-a839-4e71-b7f7-c97f5eaf5cbc",
   "metadata": {},
   "source": [
    "***"
   ]
  },
  {
   "cell_type": "markdown",
   "id": "e3541700-2a9f-48f0-a896-42aa7bf64e53",
   "metadata": {},
   "source": [
    "#### Q2. Given a significance level of 0.05 and the degrees of freedom for the numerator and denominator of an F-distribution, write a Python function that returns the critical F-value for a two-tailed test."
   ]
  },
  {
   "cell_type": "code",
   "execution_count": 3,
   "id": "4bb813df-3157-455a-924f-bc2c95a23b23",
   "metadata": {},
   "outputs": [],
   "source": [
    "from scipy.stats import f\n",
    "\n",
    "def critical_f_value(dfn, dfd):\n",
    "    alpha = 0.05\n",
    "    return f.ppf(alpha/2, dfn, dfd), f.ppf(1-alpha/2, dfn, dfd)\n"
   ]
  },
  {
   "cell_type": "code",
   "execution_count": 4,
   "id": "302a382b-50aa-4b8c-bffa-d98904edd2e2",
   "metadata": {},
   "outputs": [
    {
     "name": "stdout",
     "output_type": "stream",
     "text": [
      "Lower critical F-value: 0.06935321586551411\n",
      "Upper critical F-value: 4.825621493405406\n"
     ]
    }
   ],
   "source": [
    "dfn = 3\n",
    "dfd = 10\n",
    "\n",
    "lower_crit, upper_crit = critical_f_value(dfn, dfd)\n",
    "\n",
    "print('Lower critical F-value:', lower_crit)\n",
    "print('Upper critical F-value:', upper_crit)\n"
   ]
  },
  {
   "cell_type": "markdown",
   "id": "61d5eebb-c015-4ccb-93c6-386708351b6a",
   "metadata": {},
   "source": [
    "***\n",
    "#### Q3. Write a Python program that generates random samples from two normal distributions with known variances and uses an F-test to determine if the variances are equal. The program should output the F-value, degrees of freedom, and p-value for the test."
   ]
  },
  {
   "cell_type": "code",
   "execution_count": 5,
   "id": "f8386cc4-fe63-4296-a645-c045cc78ce9b",
   "metadata": {},
   "outputs": [
    {
     "name": "stdout",
     "output_type": "stream",
     "text": [
      "Sample 1 mean: 5.02654288216757\n",
      "Sample 1 variance: 5.776336488392834\n",
      "Sample 2 mean: 5.095474611652387\n",
      "Sample 2 variance: 7.412598021311834\n",
      "F-value: 0.7792593732703956\n",
      "Degrees of freedom (numerator, denominator): 49 74\n",
      "P-value: 0.8229821876353054\n"
     ]
    }
   ],
   "source": [
    "import numpy as np\n",
    "from scipy.stats import f\n",
    "\n",
    "# Set the seed for reproducibility\n",
    "np.random.seed(123)\n",
    "\n",
    "# Generate two random samples from normal distributions with known variances\n",
    "n1 = 50\n",
    "n2 = 75\n",
    "mu1 = 5\n",
    "mu2 = 5\n",
    "var1 = 4\n",
    "var2 = 6\n",
    "\n",
    "sample1 = np.random.normal(mu1, np.sqrt(var1), n1)\n",
    "sample2 = np.random.normal(mu2, np.sqrt(var2), n2)\n",
    "\n",
    "# Calculate the F-value and p-value for the F-test\n",
    "F = np.var(sample1, ddof=1) / np.var(sample2, ddof=1)\n",
    "dfn = n1 - 1\n",
    "dfd = n2 - 1\n",
    "p_value = f.sf(F, dfn, dfd)\n",
    "\n",
    "# Output the results\n",
    "print(\"Sample 1 mean:\", np.mean(sample1))\n",
    "print(\"Sample 1 variance:\", np.var(sample1, ddof=1))\n",
    "print(\"Sample 2 mean:\", np.mean(sample2))\n",
    "print(\"Sample 2 variance:\", np.var(sample2, ddof=1))\n",
    "print(\"F-value:\", F)\n",
    "print(\"Degrees of freedom (numerator, denominator):\", dfn, dfd)\n",
    "print(\"P-value:\", p_value)\n"
   ]
  },
  {
   "cell_type": "markdown",
   "id": "22c55c45-72f7-4887-b9c3-3b053df84855",
   "metadata": {},
   "source": [
    "****"
   ]
  },
  {
   "cell_type": "markdown",
   "id": "33da6e67-2251-4641-b508-93d885039ecf",
   "metadata": {},
   "source": [
    "#### Q4.The variances of two populations are known to be 10 and 15. A sample of 12 observations is taken from each population. Conduct an F-test at the 5% significance level to determine if the variances are significantly different."
   ]
  },
  {
   "cell_type": "markdown",
   "id": "64c6038f-8a65-4182-95c1-23b87d3a01de",
   "metadata": {},
   "source": [
    "F = s1^2 / s2^2\n"
   ]
  },
  {
   "cell_type": "code",
   "execution_count": 7,
   "id": "3d486698-0292-4169-b5ce-37bdd3ac75c2",
   "metadata": {},
   "outputs": [
    {
     "name": "stdout",
     "output_type": "stream",
     "text": [
      "F-statistic: 0.6666666666666666\n",
      "p-value: 0.7438051006321003\n",
      "Critical value of F: 2.8179304699530863\n",
      "Fail to reject the null hypothesis that the variances are equal.\n"
     ]
    }
   ],
   "source": [
    "import scipy.stats as stats\n",
    "\n",
    "n1 = 12\n",
    "n2 = 12\n",
    "var1 = 10\n",
    "var2 = 15\n",
    "\n",
    "# Calculate the F-statistic\n",
    "F = var1 / var2\n",
    "\n",
    "# Calculate the p-value\n",
    "p_value = stats.f.sf(F, n1-1, n2-1)\n",
    "\n",
    "# Calculate the critical value of F\n",
    "critical_F = stats.f.ppf(1-0.05, n1-1, n2-1)\n",
    "\n",
    "# Print the results\n",
    "print(\"F-statistic:\", F)\n",
    "print(\"p-value:\", p_value)\n",
    "print(\"Critical value of F:\", critical_F)\n",
    "\n",
    "if F > critical_F:\n",
    "    print(\"Reject the null hypothesis that the variances are equal.\")\n",
    "else:\n",
    "    print(\"Fail to reject the null hypothesis that the variances are equal.\")\n"
   ]
  },
  {
   "cell_type": "markdown",
   "id": "60c4b0eb-3bce-4ecb-99cb-dbe104b67b1f",
   "metadata": {},
   "source": [
    "****\n",
    "####  Q5. A manufacturer claims that the variance of the diameter of a certain product is 0.005. A sample of 25 products is taken, and the sample variance is found to be 0.006. Conduct an F-test at the 1% significance level to determine if the claim is justified."
   ]
  },
  {
   "cell_type": "code",
   "execution_count": 8,
   "id": "e8f1a107-8baf-4efa-9440-814ddee9ab20",
   "metadata": {},
   "outputs": [
    {
     "name": "stdout",
     "output_type": "stream",
     "text": [
      "F-statistic: 1.2\n",
      "p-value: 0.629609961995936\n",
      "Critical value of F: 6234.6308935330835\n",
      "Fail to reject the null hypothesis that the claimed population variance is true.\n"
     ]
    }
   ],
   "source": [
    "import scipy.stats as stats\n",
    "\n",
    "n = 25\n",
    "sigma_sq = 0.005\n",
    "s_sq = 0.006\n",
    "\n",
    "# Calculate the F-statistic\n",
    "F = s_sq / sigma_sq\n",
    "\n",
    "# Calculate the p-value\n",
    "p_value = stats.f.sf(F, n-1, 1)\n",
    "\n",
    "# Calculate the critical value of F\n",
    "critical_F = stats.f.ppf(1-0.01, n-1, 1)\n",
    "\n",
    "# Print the results\n",
    "print(\"F-statistic:\", F)\n",
    "print(\"p-value:\", p_value)\n",
    "print(\"Critical value of F:\", critical_F)\n",
    "\n",
    "if F > critical_F:\n",
    "    print(\"Reject the null hypothesis that the claimed population variance is true.\")\n",
    "else:\n",
    "    print(\"Fail to reject the null hypothesis that the claimed population variance is true.\")\n"
   ]
  },
  {
   "cell_type": "markdown",
   "id": "e7581827-d2b2-46a5-9841-7e88022c1683",
   "metadata": {},
   "source": [
    "***"
   ]
  },
  {
   "cell_type": "markdown",
   "id": "a88fa632-47cf-4226-9e73-93b07527327d",
   "metadata": {},
   "source": [
    "#### Q6. Write a Python function that takes in the degrees of freedom for the numerator and denominator of an F-distribution and calculates the mean and variance of the distribution. The function should return the mean and variance as a tuple."
   ]
  },
  {
   "cell_type": "markdown",
   "id": "0056b484-ace3-4f6a-88f4-c51a03fc89fd",
   "metadata": {},
   "source": [
    "\n",
    "Here's a Python function that takes in the degrees of freedom for the numerator and denominator of an F-distribution and calculates the mean and variance of the distribution:"
   ]
  },
  {
   "cell_type": "code",
   "execution_count": 9,
   "id": "2f121707-56d2-432f-a3cc-e3d1ff0f0e74",
   "metadata": {},
   "outputs": [],
   "source": [
    "from math import gamma\n",
    "\n",
    "def f_distribution_mean_variance(df1, df2):\n",
    "    mean = df2 / (df2 - 2)\n",
    "    variance = (2 * df2 ** 2 * (df1 + df2 - 2)) / (df1 * (df2 - 2) ** 2 * (df2 - 4))\n",
    "    return mean, variance\n"
   ]
  },
  {
   "cell_type": "markdown",
   "id": "563e0405-4925-4b38-bac4-0498186acf15",
   "metadata": {},
   "source": [
    "The formula for the mean of an F-distribution is:\n",
    "\n",
    "mean = df2 / (df2 - 2)\n",
    "\n",
    "And the formula for the variance is:\n",
    "\n",
    "\n",
    "variance = (2 * df2^2 * (df1 + df2 - 2)) / (df1 * (df2 - 2)^2 * (df2 - 4))\n"
   ]
  },
  {
   "cell_type": "markdown",
   "id": "93c7b79f-1ce2-44ed-b0a0-d5579a9a338a",
   "metadata": {},
   "source": [
    "***"
   ]
  },
  {
   "cell_type": "markdown",
   "id": "2185a1b5-0460-4080-bdc4-321635e89d5b",
   "metadata": {},
   "source": [
    "#### Q7. A random sample of 10 measurements is taken from a normal population with unknown variance. The sample   variance is found to be 25. Another random sample of 15 measurements is taken from another normal population with unknown variance, and the sample variance is found to be 20. Conduct an F-test at the 10% significance level to determine if the variances are significantly different."
   ]
  },
  {
   "cell_type": "markdown",
   "id": "0e7e7a6c-ac7e-4e4f-bfcc-df67ef8b40ba",
   "metadata": {},
   "source": [
    "To test whether the variances of the two populations are significantly different, we can conduct an F-test at the 10% significance level.\n",
    "\n",
    "The null hypothesis is that the variances are equal, and the alternative hypothesis is that they are different.\n",
    "\n",
    "Let's define the two populations as Population 1 and Population 2. We have:\n",
    "\n",
    "Sample size n1 = 10 for Population 1\n",
    "Sample variance s1^2 = 25 for Population 1\n",
    "Sample size n2 = 15 for Population 2\n",
    "Sample variance s2^2 = 20 for Population 2\n",
    "We can calculate the F-statistic as:\n",
    "\n",
    "F = s1^2 / s2^2\n",
    "\n",
    "Under the null hypothesis of equal variances, the F-statistic follows an F-distribution with (n1 - 1) and (n2 - 1) degrees of freedom. We can use a statistical software or a table of F-distribution to find the critical value of F for a 10% significance level with (n1 - 1) and (n2 - 1) degrees of freedom.\n",
    "\n",
    "Using a calculator or a software, we can find that the critical value of F with (9, 14) degrees of freedom is 2.509.\n",
    "\n",
    "Now, let's calculate the F-statistic:\n",
    "\n",
    "F = s1^2 / s2^2 = 25 / 20 = 1.25\n",
    "\n",
    "Since the calculated F-statistic (1.25) is less than the critical value of F (2.509), we fail to reject the null hypothesis. Therefore, we conclude that there is not enough evidence to suggest that the variances of the two populations are significantly different at the 10% significance level."
   ]
  },
  {
   "cell_type": "markdown",
   "id": "691bf170-c863-4bd1-b9b1-661a22c8161a",
   "metadata": {},
   "source": [
    "****\n",
    "#### Q8. The following data represent the waiting times in minutes at two different restaurants on a Saturday night: Restaurant A: 24, 25, 28, 23, 22, 20, 27; Restaurant B: 31, 33, 35, 30, 32, 36. Conduct an F-test at the  5% significance level to determine if the variances are significantly different."
   ]
  },
  {
   "cell_type": "markdown",
   "id": "0a5a9951-487d-4e7e-a092-42642417ebbc",
   "metadata": {},
   "source": [
    "To test whether the variances of the waiting times at the two restaurants are significantly different, we can conduct an F-test at the 5% significance level.\n",
    "\n",
    "The null hypothesis is that the variances are equal, and the alternative hypothesis is that they are different.\n",
    "\n",
    "Let's define the two samples as Sample A and Sample B. We have:\n",
    "\n",
    "Sample A size n1 = 7\n",
    "Sample A data: 24, 25, 28, 23, 22, 20, 27\n",
    "Sample B size n2 = 6\n",
    "Sample B data: 31, 33, 35, 30, 32, 36\n",
    "First, let's calculate the sample variances for each sample:\n",
    "\n",
    "Sample A variance s1^2 = 9.90\n",
    "Sample B variance s2^2 = 5.60\n",
    "We can calculate the F-statistic as:\n",
    "\n",
    "F = s1^2 / s2^2\n",
    "\n",
    "Under the null hypothesis of equal variances, the F-statistic follows an F-distribution with (n1 - 1) and (n2 - 1) degrees of freedom. We can use a statistical software or a table of F-distribution to find the critical value of F for a 5% significance level with (n1 - 1) and (n2 - 1) degrees of freedom.\n",
    "\n",
    "Using a calculator or a software, we can find that the critical value of F with (6, 5) degrees of freedom is 4.757.\n",
    "\n",
    "Now, let's calculate the F-statistic:\n",
    "\n",
    "F = s1^2 / s2^2 = 9.90 / 5.60 = 1.77\n",
    "\n",
    "Since the calculated F-statistic (1.77) is less than the critical value of F (4.757), we fail to reject the null hypothesis. Therefore, we conclude that there is not enough evidence to suggest that the variances of the waiting times at the two restaurants are significantly different at the 5% significance level."
   ]
  },
  {
   "cell_type": "markdown",
   "id": "f5c851de-cd1e-446c-accb-63dcfe43c8c6",
   "metadata": {},
   "source": [
    "***\n",
    "#### Q9. The following data represent the test scores of two groups of students: Group A: 80, 85, 90, 92, 87, 83; Group B: 75, 78, 82, 79, 81, 84. Conduct an F-test at the 1% significance level to determine if the variances are significantly different."
   ]
  },
  {
   "cell_type": "markdown",
   "id": "c5476f19-f2f8-470c-ab82-b71faab9c130",
   "metadata": {},
   "source": [
    "\n",
    "To test whether the variances of the test scores of the two groups of students are significantly different, we can conduct an F-test at the 1% significance level.\n",
    "\n",
    "The null hypothesis is that the variances are equal, and the alternative hypothesis is that they are different.\n",
    "\n",
    "Let's define the two groups as Group A and Group B. We have:\n",
    "\n",
    "Group A size n1 = 6\n",
    "Group A data: 80, 85, 90, 92, 87, 83\n",
    "Group B size n2 = 6\n",
    "Group B data: 75, 78, 82, 79, 81, 84\n",
    "First, let's calculate the sample variances for each group:\n",
    "\n",
    "Group A variance s1^2 = 22.50\n",
    "Group B variance s2^2 = 8.67\n",
    "We can calculate the F-statistic as:\n",
    "\n",
    "F = s1^2 / s2^2\n",
    "\n",
    "Under the null hypothesis of equal variances, the F-statistic follows an F-distribution with (n1 - 1) and (n2 - 1) degrees of freedom. We can use a statistical software or a table of F-distribution to find the critical value of F for a 1% significance level with (n1 - 1) and (n2 - 1) degrees of freedom.\n",
    "\n",
    "Using a calculator or a software, we can find that the critical value of F with (5, 5) degrees of freedom is 7.708.\n",
    "\n",
    "Now, let's calculate the F-statistic:\n",
    "\n",
    "F = s1^2 / s2^2 = 22.50 / 8.67 = 2.59\n",
    "\n",
    "Since the calculated F-statistic (2.59) is less than the critical value of F (7.708), we fail to reject the null hypothesis. Therefore, we conclude that there is not enough evidence to suggest that the variances of the test scores of the two groups of students are significantly different at the 1% significance level."
   ]
  },
  {
   "cell_type": "markdown",
   "id": "bad60ead-4b4a-4a28-bafd-428f5bbf1234",
   "metadata": {},
   "source": [
    "****"
   ]
  }
 ],
 "metadata": {
  "kernelspec": {
   "display_name": "Python 3 (ipykernel)",
   "language": "python",
   "name": "python3"
  },
  "language_info": {
   "codemirror_mode": {
    "name": "ipython",
    "version": 3
   },
   "file_extension": ".py",
   "mimetype": "text/x-python",
   "name": "python",
   "nbconvert_exporter": "python",
   "pygments_lexer": "ipython3",
   "version": "3.10.8"
  }
 },
 "nbformat": 4,
 "nbformat_minor": 5
}
